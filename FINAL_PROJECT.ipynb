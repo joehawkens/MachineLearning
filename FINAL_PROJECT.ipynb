{
  "nbformat": 4,
  "nbformat_minor": 0,
  "metadata": {
    "colab": {
      "provenance": [],
      "authorship_tag": "ABX9TyM35U5Gy0UU3WmiR8B+oqTl",
      "include_colab_link": true
    },
    "kernelspec": {
      "name": "python3",
      "display_name": "Python 3"
    },
    "language_info": {
      "name": "python"
    }
  },
  "cells": [
    {
      "cell_type": "markdown",
      "metadata": {
        "id": "view-in-github",
        "colab_type": "text"
      },
      "source": [
        "<a href=\"https://colab.research.google.com/github/joehawkens/MachineLearning/blob/main/FINAL_PROJECT.ipynb\" target=\"_parent\"><img src=\"https://colab.research.google.com/assets/colab-badge.svg\" alt=\"Open In Colab\"/></a>"
      ]
    },
    {
      "cell_type": "markdown",
      "source": [
        "# EXOPLANET PREDICTION MODEL\n",
        "**GOAL: To predict if astronomical objects are exoplanets using data collected from the Kepler Space Observatory telescope.**\n",
        "\n",
        "- Source: https://www.kaggle.com/datasets/nasa/kepler-exoplanet-search-results\n",
        "- Data: https://raw.githubusercontent.com/joehawkens/MachineLearning/main/exoplanets.csv"
      ],
      "metadata": {
        "id": "qFo23K5MHwp-"
      }
    },
    {
      "cell_type": "markdown",
      "source": [
        "# DATA CLEAN"
      ],
      "metadata": {
        "id": "-jM6MLjqJXAO"
      }
    },
    {
      "cell_type": "markdown",
      "source": [
        "### Checking the columns:\n",
        "- Total Rows: 9,564"
      ],
      "metadata": {
        "id": "s-n5l2Ys3PrM"
      }
    },
    {
      "cell_type": "code",
      "execution_count": 20,
      "metadata": {
        "id": "lDp5NtJu5lpF",
        "colab": {
          "base_uri": "https://localhost:8080/"
        },
        "outputId": "6a55c46f-e18d-48cf-dfd9-a1b58e5ddfed"
      },
      "outputs": [
        {
          "output_type": "stream",
          "name": "stdout",
          "text": [
            "0    7764\n",
            "1    1800\n",
            "Name: koi_fpflag_nt, dtype: int64\n",
            "0    7349\n",
            "1    2215\n",
            "Name: koi_fpflag_ss, dtype: int64\n",
            "0    7700\n",
            "1    1864\n",
            "Name: koi_fpflag_co, dtype: int64\n",
            "0    8416\n",
            "1    1148\n",
            "Name: koi_fpflag_ec, dtype: int64\n"
          ]
        }
      ],
      "source": [
        "import pandas as pd\n",
        "exoplanet_data = pd.read_csv('https://raw.githubusercontent.com/joehawkens/MachineLearning/main/exoplanets.csv')\n",
        "exoplanet_data.head()\n",
        "\n",
        "\n",
        "# Count total rows for each column\n",
        "row_counts = exoplanet_data.count()\n",
        "\n",
        "# Print the row counts for each column\n",
        "# print(row_counts)\n",
        "\n",
        "data_types = exoplanet_data.dtypes\n",
        "\n",
        "# print(data_types)\n",
        "# print(exoplanet_data['koi_tce_delivname'])\n",
        "print(exoplanet_data['koi_fpflag_nt'].value_counts())\n",
        "print(exoplanet_data['koi_fpflag_ss'].value_counts())\n",
        "print(exoplanet_data['koi_fpflag_co'].value_counts())\n",
        "print(exoplanet_data['koi_fpflag_ec'].value_counts())"
      ]
    },
    {
      "cell_type": "markdown",
      "source": [
        "### Dropping unecessary columns:\n",
        "(KOI = Kepler Object of Interest)\n",
        "- row ID - Identifier\n",
        "- kep ID - Identifier\n",
        "- kepoi_name - Identifier\n",
        "- kepler_name - Identifier\n",
        "- koi_teq_error1 - no data\n",
        "- koi_teq_error2 - no data\n",
        "- koi_pdisposition - same as disposition\n",
        "- koi_tce_plnt_num - Identifier\n",
        "- koi_tce_delivname - Identifier"
      ],
      "metadata": {
        "id": "jBhrLJm93ORI"
      }
    },
    {
      "cell_type": "code",
      "source": [
        "# Drop unnecessary columns\n",
        "columns_to_drop = ['rowid', 'kepid', 'kepoi_name', 'kepler_name', 'koi_disposition',\n",
        "                     'koi_pdisposition', 'koi_teq_err1', 'koi_teq_err2', 'koi_pdisposition', 'koi_tce_plnt_num', 'koi_tce_delivname']\n",
        "\n",
        "exoplanets = exoplanet_data.drop(columns_to_drop, axis=1)\n",
        "\n",
        "\n"
      ],
      "metadata": {
        "id": "Ug4EM7n7naHN"
      },
      "execution_count": 12,
      "outputs": []
    },
    {
      "cell_type": "code",
      "source": [
        "print(exoplanets.count())"
      ],
      "metadata": {
        "colab": {
          "base_uri": "https://localhost:8080/"
        },
        "id": "feP82mel85Lb",
        "outputId": "b7f55e1c-cf56-48df-f714-4d24b80f8234"
      },
      "execution_count": 14,
      "outputs": [
        {
          "output_type": "stream",
          "name": "stdout",
          "text": [
            "koi_score            8054\n",
            "koi_fpflag_nt        9564\n",
            "koi_fpflag_ss        9564\n",
            "koi_fpflag_co        9564\n",
            "koi_fpflag_ec        9564\n",
            "koi_period           9564\n",
            "koi_period_err1      9110\n",
            "koi_period_err2      9110\n",
            "koi_time0bk          9564\n",
            "koi_time0bk_err1     9110\n",
            "koi_time0bk_err2     9110\n",
            "koi_impact           9201\n",
            "koi_impact_err1      9110\n",
            "koi_impact_err2      9110\n",
            "koi_duration         9564\n",
            "koi_duration_err1    9110\n",
            "koi_duration_err2    9110\n",
            "koi_depth            9201\n",
            "koi_depth_err1       9110\n",
            "koi_depth_err2       9110\n",
            "koi_prad             9201\n",
            "koi_prad_err1        9201\n",
            "koi_prad_err2        9201\n",
            "koi_teq              9201\n",
            "koi_insol            9243\n",
            "koi_insol_err1       9243\n",
            "koi_insol_err2       9243\n",
            "koi_model_snr        9201\n",
            "koi_steff            9201\n",
            "koi_steff_err1       9096\n",
            "koi_steff_err2       9081\n",
            "koi_slogg            9201\n",
            "koi_slogg_err1       9096\n",
            "koi_slogg_err2       9096\n",
            "koi_srad             9201\n",
            "koi_srad_err1        9096\n",
            "koi_srad_err2        9096\n",
            "ra                   9564\n",
            "dec                  9564\n",
            "koi_kepmag           9563\n",
            "dtype: int64\n"
          ]
        }
      ]
    },
    {
      "cell_type": "markdown",
      "source": [
        "## TARGET FEATURE: - koi-disposition"
      ],
      "metadata": {
        "id": "MFoxYyyN9Yqw"
      }
    },
    {
      "cell_type": "markdown",
      "source": [
        "# DATA EXPLORATION"
      ],
      "metadata": {
        "id": "xyOwv3A3-DZw"
      }
    },
    {
      "cell_type": "code",
      "source": [
        "import pandas as pd\n",
        "import altair as alt\n",
        "import numpy as np\n",
        "\n",
        "# Assuming your dataset is stored in a DataFrame called 'data'\n",
        "correlation_matrix = exoplanets.corr().reset_index().melt('index', var_name='column')\n",
        "\n",
        "heatmap = alt.Chart(correlation_matrix).mark_rect().encode(\n",
        "    x='index:O',\n",
        "    y='column:O',\n",
        "    color=alt.Color('value:Q', scale=alt.Scale(scheme='blueorange'), legend=alt.Legend(title='Correlation'))\n",
        ").properties(\n",
        "    width=400,\n",
        "    height=400,\n",
        "    title='Correlation Heatmap'\n",
        ")\n",
        "\n",
        "heatmap\n"
      ],
      "metadata": {
        "id": "LuZB0ee2-GBf"
      },
      "execution_count": null,
      "outputs": []
    },
    {
      "cell_type": "code",
      "source": [
        "correlation_scores = exoplanets.corr()['koi_score'].drop('koi_score')\n",
        "correlation_scores = correlation_scores.sort_values(ascending=False)\n",
        "print(correlation_scores)\n"
      ],
      "metadata": {
        "id": "YRzEmUiB_N6Y"
      },
      "execution_count": null,
      "outputs": []
    },
    {
      "cell_type": "markdown",
      "source": [
        "Positive Correlation\n",
        "- koi_steff_err2       0.333595 - The error in the effective temperature of the star.                                                       \n",
        "- koi_slogg_err2       0.228382 -  The error in the base-10 logarithm of the surface gravity of the star.\n",
        "\n",
        "Negative Correlation:\n",
        "- koi_depth           -0.301010 - The transit depth of the exoplanet.\n",
        "- koi_teq             -0.302279 - The equilibrium temperature of the exoplanet.\n",
        "- koi_steff_err1      -0.372432 -  The error in the effective temperature of the star."
      ],
      "metadata": {
        "id": "J-y-KcI3008Y"
      }
    },
    {
      "cell_type": "code",
      "source": [],
      "metadata": {
        "id": "V34bO65Z_Nvz"
      },
      "execution_count": null,
      "outputs": []
    },
    {
      "cell_type": "markdown",
      "source": [
        "# MODEL"
      ],
      "metadata": {
        "id": "fLaFuD2KmV_U"
      }
    },
    {
      "cell_type": "code",
      "source": [
        "from sklearn import tree\n",
        "from sklearn.tree import DecisionTreeClassifier\n",
        "from sklearn.preprocessing import OneHotEncoder\n",
        "from sklearn.model_selection import train_test_split\n",
        "from sklearn.tree import DecisionTreeRegressor\n",
        "from sklearn.metrics import mean_squared_error, r2_score\n",
        "\n",
        "\n",
        "# Split the data into features (X) and target variable (y)\n",
        "X = exoplanets.drop(columns=['koi_score'])\n",
        "y = exoplanets['koi_score']\n",
        "\n",
        "# Split the data into training and testing sets\n",
        "X_train, X_test, y_train, y_test = train_test_split(X, y, test_size=0.1, random_state=42)\n",
        "\n",
        "# Train the decision tree model\n",
        "model = DecisionTreeRegressor(random_state=42)\n",
        "model.fit(X_train, y_train)\n",
        "\n",
        "# Make predictions on the test set\n",
        "y_pred = model.predict(X_test)\n",
        "\n",
        "# Evaluate the model\n",
        "mse = mean_squared_error(y_test, y_pred)\n",
        "r2 = r2_score(y_test, y_pred)\n",
        "\n",
        "print(\"Mean Squared Error:\", mse)\n",
        "print(\"R2 Score:\", r2)"
      ],
      "metadata": {
        "id": "RgllgMiMmY1U"
      },
      "execution_count": null,
      "outputs": []
    }
  ]
}