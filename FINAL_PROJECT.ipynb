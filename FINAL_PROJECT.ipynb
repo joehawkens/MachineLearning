{
  "nbformat": 4,
  "nbformat_minor": 0,
  "metadata": {
    "colab": {
      "provenance": [],
      "authorship_tag": "ABX9TyOcxjPaVs0HfGoiDwIkXgLk",
      "include_colab_link": true
    },
    "kernelspec": {
      "name": "python3",
      "display_name": "Python 3"
    },
    "language_info": {
      "name": "python"
    }
  },
  "cells": [
    {
      "cell_type": "markdown",
      "metadata": {
        "id": "view-in-github",
        "colab_type": "text"
      },
      "source": [
        "<a href=\"https://colab.research.google.com/github/joehawkens/MachineLearning/blob/main/FINAL_PROJECT.ipynb\" target=\"_parent\"><img src=\"https://colab.research.google.com/assets/colab-badge.svg\" alt=\"Open In Colab\"/></a>"
      ]
    },
    {
      "cell_type": "markdown",
      "source": [
        "# EXOPLANET PREDICTION MODEL\n",
        "**GOAL: To predict exoplanet habitability using data collected from the Kepler Space Observatory sattelite.**\n",
        "\n",
        "- Source: https://www.kaggle.com/datasets/nasa/kepler-exoplanet-search-results\n",
        "- Data: https://raw.githubusercontent.com/joehawkens/MachineLearning/main/exoplanets.csv"
      ],
      "metadata": {
        "id": "qFo23K5MHwp-"
      }
    },
    {
      "cell_type": "markdown",
      "source": [
        "## Data Cleaning"
      ],
      "metadata": {
        "id": "-jM6MLjqJXAO"
      }
    },
    {
      "cell_type": "code",
      "execution_count": null,
      "metadata": {
        "id": "lDp5NtJu5lpF"
      },
      "outputs": [],
      "source": []
    }
  ]
}