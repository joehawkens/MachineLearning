{
  "nbformat": 4,
  "nbformat_minor": 0,
  "metadata": {
    "colab": {
      "provenance": [],
      "authorship_tag": "ABX9TyNxymWcBH65TPNwkEi9nrf3",
      "include_colab_link": true
    },
    "kernelspec": {
      "name": "python3",
      "display_name": "Python 3"
    },
    "language_info": {
      "name": "python"
    }
  },
  "cells": [
    {
      "cell_type": "markdown",
      "metadata": {
        "id": "view-in-github",
        "colab_type": "text"
      },
      "source": [
        "<a href=\"https://colab.research.google.com/github/joehawkens/MachineLearning/blob/main/FINAL_PROJECT.ipynb\" target=\"_parent\"><img src=\"https://colab.research.google.com/assets/colab-badge.svg\" alt=\"Open In Colab\"/></a>"
      ]
    },
    {
      "cell_type": "markdown",
      "source": [
        "# EXOPLANET PREDICTION MODEL\n",
        "**GOAL: To predict if astronomical objects are exoplanets using data collected from the Kepler Space Observatory telescope.**\n",
        "\n",
        "- Source: https://www.kaggle.com/datasets/nasa/kepler-exoplanet-search-results\n",
        "- Data: https://raw.githubusercontent.com/joehawkens/MachineLearning/main/exoplanets.csv"
      ],
      "metadata": {
        "id": "qFo23K5MHwp-"
      }
    },
    {
      "cell_type": "markdown",
      "source": [
        "# DATA CLEAN"
      ],
      "metadata": {
        "id": "-jM6MLjqJXAO"
      }
    },
    {
      "cell_type": "code",
      "execution_count": 5,
      "metadata": {
        "id": "lDp5NtJu5lpF",
        "colab": {
          "base_uri": "https://localhost:8080/"
        },
        "outputId": "0640caef-9639-42e1-b1fb-6ed36727fd5b"
      },
      "outputs": [
        {
          "output_type": "stream",
          "name": "stdout",
          "text": [
            "Index(['rowid', 'kepid', 'kepoi_name', 'kepler_name', 'koi_disposition',\n",
            "       'koi_pdisposition', 'koi_score', 'koi_fpflag_nt', 'koi_fpflag_ss',\n",
            "       'koi_fpflag_co', 'koi_fpflag_ec', 'koi_period', 'koi_period_err1',\n",
            "       'koi_period_err2', 'koi_time0bk', 'koi_time0bk_err1',\n",
            "       'koi_time0bk_err2', 'koi_impact', 'koi_impact_err1', 'koi_impact_err2',\n",
            "       'koi_duration', 'koi_duration_err1', 'koi_duration_err2', 'koi_depth',\n",
            "       'koi_depth_err1', 'koi_depth_err2', 'koi_prad', 'koi_prad_err1',\n",
            "       'koi_prad_err2', 'koi_teq', 'koi_teq_err1', 'koi_teq_err2', 'koi_insol',\n",
            "       'koi_insol_err1', 'koi_insol_err2', 'koi_model_snr', 'koi_tce_plnt_num',\n",
            "       'koi_tce_delivname', 'koi_steff', 'koi_steff_err1', 'koi_steff_err2',\n",
            "       'koi_slogg', 'koi_slogg_err1', 'koi_slogg_err2', 'koi_srad',\n",
            "       'koi_srad_err1', 'koi_srad_err2', 'ra', 'dec', 'koi_kepmag'],\n",
            "      dtype='object')\n"
          ]
        }
      ],
      "source": [
        "import pandas as pd\n",
        "exoplanet_data = pd.read_csv('https://raw.githubusercontent.com/joehawkens/MachineLearning/main/exoplanets.csv')\n",
        "exoplanet_data.head()\n",
        "\n",
        "#\n",
        "columns = exoplanet_data.columns\n",
        "print(columns)"
      ]
    },
    {
      "cell_type": "code",
      "source": [
        "# Drop unnecessary columns\n",
        "columns_to_drop = [\"rowid\", \"kepid\", \"kepoi_name\", \"kepler_name\", \"koi_disposition\", \"koi_pdisposition\", \"koi_score\"]\n",
        "exoplanets_cleaned = exoplanet_data.drop(columns_to_drop, axis=1)\n",
        "\n",
        "# These are removed due to them not contributing to the classification of an exoplanet candidate.\n",
        "\n",
        "print(exoplanets_cleaned.columns)"
      ],
      "metadata": {
        "colab": {
          "base_uri": "https://localhost:8080/"
        },
        "id": "Ug4EM7n7naHN",
        "outputId": "95220791-3d0c-4196-9cd8-1ca0de594e5b"
      },
      "execution_count": 8,
      "outputs": [
        {
          "output_type": "stream",
          "name": "stdout",
          "text": [
            "Index(['koi_fpflag_nt', 'koi_fpflag_ss', 'koi_fpflag_co', 'koi_fpflag_ec',\n",
            "       'koi_period', 'koi_period_err1', 'koi_period_err2', 'koi_time0bk',\n",
            "       'koi_time0bk_err1', 'koi_time0bk_err2', 'koi_impact', 'koi_impact_err1',\n",
            "       'koi_impact_err2', 'koi_duration', 'koi_duration_err1',\n",
            "       'koi_duration_err2', 'koi_depth', 'koi_depth_err1', 'koi_depth_err2',\n",
            "       'koi_prad', 'koi_prad_err1', 'koi_prad_err2', 'koi_teq', 'koi_teq_err1',\n",
            "       'koi_teq_err2', 'koi_insol', 'koi_insol_err1', 'koi_insol_err2',\n",
            "       'koi_model_snr', 'koi_tce_plnt_num', 'koi_tce_delivname', 'koi_steff',\n",
            "       'koi_steff_err1', 'koi_steff_err2', 'koi_slogg', 'koi_slogg_err1',\n",
            "       'koi_slogg_err2', 'koi_srad', 'koi_srad_err1', 'koi_srad_err2', 'ra',\n",
            "       'dec', 'koi_kepmag'],\n",
            "      dtype='object')\n"
          ]
        }
      ]
    },
    {
      "cell_type": "markdown",
      "source": [
        "# MODEL"
      ],
      "metadata": {
        "id": "fLaFuD2KmV_U"
      }
    },
    {
      "cell_type": "code",
      "source": [
        "from sklearn import tree\n",
        "from sklearn.tree import DecisionTreeClassifier\n",
        "from sklearn.preprocessing import OneHotEncoder\n",
        "from sklearn.model_selection import train_test_split"
      ],
      "metadata": {
        "id": "RgllgMiMmY1U"
      },
      "execution_count": null,
      "outputs": []
    }
  ]
}