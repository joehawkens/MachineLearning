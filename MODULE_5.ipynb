{
  "nbformat": 4,
  "nbformat_minor": 0,
  "metadata": {
    "colab": {
      "provenance": [],
      "authorship_tag": "ABX9TyPUb+60Ttyf8yf1rc2OBRkA",
      "include_colab_link": true
    },
    "kernelspec": {
      "name": "python3",
      "display_name": "Python 3"
    },
    "language_info": {
      "name": "python"
    }
  },
  "cells": [
    {
      "cell_type": "markdown",
      "metadata": {
        "id": "view-in-github",
        "colab_type": "text"
      },
      "source": [
        "<a href=\"https://colab.research.google.com/github/joehawkens/MachineLearning/blob/main/MODULE_5.ipynb\" target=\"_parent\"><img src=\"https://colab.research.google.com/assets/colab-badge.svg\" alt=\"Open In Colab\"/></a>"
      ]
    },
    {
      "cell_type": "markdown",
      "source": [
        "# MODULE 5\n",
        "\n",
        "- Overview: https://byui-cse.github.io/cse450-course/module-05/\n",
        "\n"
      ],
      "metadata": {
        "id": "fgDPbgu2BxAX"
      }
    },
    {
      "cell_type": "code",
      "execution_count": 8,
      "metadata": {
        "id": "aRQkIOxDBtar"
      },
      "outputs": [],
      "source": [
        "import tensorflow as tf\n",
        "from tensorflow import keras\n",
        "from tensorflow.keras import layers"
      ]
    },
    {
      "cell_type": "markdown",
      "source": [
        "## Training Setup"
      ],
      "metadata": {
        "id": "ojkTd7Bs1mnd"
      }
    },
    {
      "cell_type": "code",
      "source": [],
      "metadata": {
        "id": "lHASMxzg1sdc"
      },
      "execution_count": 7,
      "outputs": []
    },
    {
      "cell_type": "markdown",
      "source": [
        "## Model"
      ],
      "metadata": {
        "id": "jzmNq7rO12hE"
      }
    },
    {
      "cell_type": "code",
      "source": [],
      "metadata": {
        "id": "byJE8CCj14Ad"
      },
      "execution_count": 7,
      "outputs": []
    },
    {
      "cell_type": "markdown",
      "source": [
        "## Accuracy"
      ],
      "metadata": {
        "id": "S1TAVe8h2Sq_"
      }
    },
    {
      "cell_type": "code",
      "source": [],
      "metadata": {
        "id": "uOxIYFAD2UTG"
      },
      "execution_count": 7,
      "outputs": []
    },
    {
      "cell_type": "markdown",
      "source": [
        "## Report"
      ],
      "metadata": {
        "id": "Z_FaUZbS26D9"
      }
    },
    {
      "cell_type": "code",
      "source": [],
      "metadata": {
        "id": "U8hxdUwX27VO"
      },
      "execution_count": 7,
      "outputs": []
    }
  ]
}