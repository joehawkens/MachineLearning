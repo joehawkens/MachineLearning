{
  "nbformat": 4,
  "nbformat_minor": 0,
  "metadata": {
    "colab": {
      "provenance": [],
      "collapsed_sections": [
        "JjKdNjQGkjRM",
        "jFjDh5Vj7i-H",
        "FEvxJ9gxxH-z",
        "AEHh0kighCCo",
        "rkkuMf67vNdX",
        "r0a0aXLqfqvO",
        "uaXArUKyijQ7",
        "waS_4SxJkCEe",
        "gyi98H11riUU",
        "WwTWK9h_lXt5",
        "ji5Ys4ojshva",
        "JIZJpMHH0N-4",
        "9Qjzj8ygjShO",
        "qIv4PsW3BOEq"
      ],
      "authorship_tag": "ABX9TyPkK2fHhQUIkJc6Z/Msc3F9",
      "include_colab_link": true
    },
    "kernelspec": {
      "name": "python3",
      "display_name": "Python 3"
    },
    "language_info": {
      "name": "python"
    }
  },
  "cells": [
    {
      "cell_type": "markdown",
      "metadata": {
        "id": "view-in-github",
        "colab_type": "text"
      },
      "source": [
        "<a href=\"https://colab.research.google.com/github/joehawkens/MachineLearning/blob/main/MODULE_3_Thursday.ipynb\" target=\"_parent\"><img src=\"https://colab.research.google.com/assets/colab-badge.svg\" alt=\"Open In Colab\"/></a>"
      ]
    },
    {
      "cell_type": "markdown",
      "source": [
        "#**MODULE 3**"
      ],
      "metadata": {
        "id": "qvVua7sOVTUB"
      }
    },
    {
      "cell_type": "markdown",
      "source": [
        "# **Module Resources**"
      ],
      "metadata": {
        "id": "pvl5NcO2oUrH"
      }
    },
    {
      "cell_type": "markdown",
      "source": [
        "**Problem:** Regression <n>\n",
        "\n",
        "**Target:** Home Price\n",
        "\n",
        "- Module Overview: https://byui-cse.github.io/cse450-course/module-03/\n",
        "- Data Dictionary: https://byui-cse.github.io/cse450-course/module-03/housing-dictionary.txt\n",
        "- Dataset: https://raw.githubusercontent.com/byui-cse/cse450-course/master/data/housing.csv\n",
        "- Holdout Dataset: https://raw.githubusercontent.com/byui-cse/cse450-course/master/data/housing_holdout_test.csv\n",
        "- Holdout Mini Dataset: https://raw.githubusercontent.com/byui-cse/cse450-course/master/data/housing_holdout_test_mini.csv\n",
        "- Module Hints: https://byui-cse.github.io/cse450-course/module-03/hints.html\n"
      ],
      "metadata": {
        "id": "_ubPNV3rQ3GB"
      }
    },
    {
      "cell_type": "markdown",
      "source": [
        "# **Data Normalization and Cleaning**\n",
        "- Are there outliers that will skew the data?\n",
        "- Is there any misssing data?"
      ],
      "metadata": {
        "id": "JjKdNjQGkjRM"
      }
    },
    {
      "cell_type": "code",
      "source": [
        "import pandas as pd\n",
        "import altair as alt\n",
        "house_data = pd.read_csv(\"https://raw.githubusercontent.com/byui-cse/cse450-course/master/data/housing.csv\")\n",
        "\n",
        "# Finding missing values\n",
        "# Check if the DataFrame contains any missing data:\n",
        "if house_data.isnull().any().any():\n",
        "    print('The DataFrame contains missing data')\n",
        "else:\n",
        "    print('The DataFrame does not contain missing data')\n",
        "\n",
        "\n",
        "# Features I think won't be useful:\n",
        "\n",
        "# lat - Latitude - We already havea  zip code.\n",
        "# long - Longitude - We already have a zip code.\n",
        "# id - Unique ID for each home sold - This is a database key, it has nothing to do with the home price.\n",
        "\n",
        "# All the features I think have potential:\n",
        "\n",
        "# date - Date of the home sale\n",
        "# price - Price of each home sold\n",
        "# bedrooms - Number of bedrooms\n",
        "# bathrooms - Number of bathrooms, where .5 accounts for a room with a toilet but no shower\n",
        "# sqft_living - Square footage of the apartments interior living space\n",
        "# sqft_lot - Square footage of the land space\n",
        "# floors - Number of floors\n",
        "# waterfront - A dummy variable for whether the apartment was overlooking the waterfront or not\n",
        "# view - An index from 0 to 4 of how good the view of the property was\n",
        "# condition - An index from 1 to 5 on the condition of the apartment,\n",
        "# grade - An index from 1 to 13, where 1-3 falls short of building construction and design, 7 has an average level of construction and design, and 11-13 have a high quality level of construction and design.\n",
        "# sqft_above - The square footage of the interior housing space that is above ground level\n",
        "# sqft_basement - The square footage of the interior housing space that is below ground level\n",
        "# yr_built - The year the house was initially built\n",
        "# yr_renovated - The year of the house’s last renovation\n",
        "# zipcode - What zipcode area the house was listed in\n",
        "# sqft_living15 - The square footage of interior housing living space for the nearest 15 neighbors\n",
        "# sqft_lot15 - The square footage of the land lots of the nearest 15 neighbors\n",
        "\n",
        "\n",
        "\n",
        "house_data['price'].describe()"
      ],
      "metadata": {
        "colab": {
          "base_uri": "https://localhost:8080/"
        },
        "id": "2g6IX6LiS3OZ",
        "outputId": "649ea844-ffcc-4a87-9e55-b1f2ce14c1c9"
      },
      "execution_count": 80,
      "outputs": [
        {
          "output_type": "stream",
          "name": "stdout",
          "text": [
            "The DataFrame does not contain missing data\n"
          ]
        },
        {
          "output_type": "execute_result",
          "data": {
            "text/plain": [
              "count    2.000000e+04\n",
              "mean     5.394367e+05\n",
              "std      3.664334e+05\n",
              "min      7.500000e+04\n",
              "25%      3.220000e+05\n",
              "50%      4.500000e+05\n",
              "75%      6.416250e+05\n",
              "max      7.700000e+06\n",
              "Name: price, dtype: float64"
            ]
          },
          "metadata": {},
          "execution_count": 80
        }
      ]
    },
    {
      "cell_type": "markdown",
      "source": [
        "# **Data Exploration**"
      ],
      "metadata": {
        "id": "AQM0-nB8SKEu"
      }
    },
    {
      "cell_type": "markdown",
      "source": [
        "## **PRICE**\n"
      ],
      "metadata": {
        "id": "jFjDh5Vj7i-H"
      }
    },
    {
      "cell_type": "code",
      "source": [
        "house_data['price'].value_counts()\n",
        "\n",
        "price_scaled = house_data['price'] / 10000\n",
        "\n",
        "ranges = list(range(0, 6000000, 250000))  # Create ranges from 0 to 10 million with 250,000 intervals\n",
        "labels = [f'{r/1000}K-{(r+250000)/1000}K' for r in ranges[:-1]]  # Create labels for the ranges\n",
        "\n",
        "house_data['price_range'] = pd.cut(house_data['price'], ranges, labels=labels)\n",
        "\n",
        "count_data = house_data['price_range'].value_counts().reset_index()\n",
        "count_data.columns = ['Price Range', 'Count']\n",
        "\n",
        "chart = alt.Chart(count_data).mark_bar().encode(\n",
        "    x=alt.X('Price Range:O', title='Price Range'),\n",
        "    y=alt.Y('Count:Q', title='Count'),\n",
        ").properties(\n",
        "    title='Count of House Prices by Range'\n",
        ").configure_axis(\n",
        "    labelFontSize=12,\n",
        "    titleFontSize=14\n",
        ").configure_title(\n",
        "    fontSize=16\n",
        ")\n",
        "\n",
        "chart\n",
        "\n",
        "max = max(house_data['price'])\n",
        "print(max)\n"
      ],
      "metadata": {
        "colab": {
          "base_uri": "https://localhost:8080/",
          "height": 217
        },
        "id": "cpU1X1Kn7ogE",
        "outputId": "93ace68f-c916-4873-f1db-d98aa14d5e40"
      },
      "execution_count": 81,
      "outputs": [
        {
          "output_type": "error",
          "ename": "TypeError",
          "evalue": "ignored",
          "traceback": [
            "\u001b[0;31m---------------------------------------------------------------------------\u001b[0m",
            "\u001b[0;31mTypeError\u001b[0m                                 Traceback (most recent call last)",
            "\u001b[0;32m<ipython-input-81-f7d61724fae5>\u001b[0m in \u001b[0;36m<cell line: 27>\u001b[0;34m()\u001b[0m\n\u001b[1;32m     25\u001b[0m \u001b[0mchart\u001b[0m\u001b[0;34m\u001b[0m\u001b[0;34m\u001b[0m\u001b[0m\n\u001b[1;32m     26\u001b[0m \u001b[0;34m\u001b[0m\u001b[0m\n\u001b[0;32m---> 27\u001b[0;31m \u001b[0mmax\u001b[0m \u001b[0;34m=\u001b[0m \u001b[0mmax\u001b[0m\u001b[0;34m(\u001b[0m\u001b[0mhouse_data\u001b[0m\u001b[0;34m[\u001b[0m\u001b[0;34m'price'\u001b[0m\u001b[0;34m]\u001b[0m\u001b[0;34m)\u001b[0m\u001b[0;34m\u001b[0m\u001b[0;34m\u001b[0m\u001b[0m\n\u001b[0m\u001b[1;32m     28\u001b[0m \u001b[0mprint\u001b[0m\u001b[0;34m(\u001b[0m\u001b[0mmax\u001b[0m\u001b[0;34m)\u001b[0m\u001b[0;34m\u001b[0m\u001b[0;34m\u001b[0m\u001b[0m\n",
            "\u001b[0;31mTypeError\u001b[0m: 'float' object is not callable"
          ]
        }
      ]
    },
    {
      "cell_type": "markdown",
      "source": [
        "## **SQFT_BASEMENT**"
      ],
      "metadata": {
        "id": "FEvxJ9gxxH-z"
      }
    },
    {
      "cell_type": "code",
      "source": [
        "house_data['sqft_basement'].value_counts()\n",
        "\n",
        "\n",
        "\n",
        "sampled_data = house_data.sample(5000)  # Create a random sample of 5000 rows\n",
        "\n",
        "chart = alt.Chart(sampled_data).mark_bar().encode(\n",
        "    x='sqft_basement:O',\n",
        "    y='count()'\n",
        ").properties(\n",
        "    title='Value Counts of sqft_basement'\n",
        ")\n",
        "\n",
        "chart\n"
      ],
      "metadata": {
        "id": "MX1h0LQCxLOt"
      },
      "execution_count": null,
      "outputs": []
    },
    {
      "cell_type": "markdown",
      "source": [
        "## **BEDROOMS**"
      ],
      "metadata": {
        "id": "AEHh0kighCCo"
      }
    },
    {
      "cell_type": "code",
      "source": [
        "# Group the data by the number of bedrooms and calculate the average price for each category\n",
        "price_avg = house_data.groupby('bedrooms')['price'].mean().reset_index()\n",
        "\n",
        "# Create an Altair bar chart\n",
        "chart = alt.Chart(price_avg).mark_bar().encode(\n",
        "    x=alt.X('bedrooms:O', axis=alt.Axis(title='Number of Bedrooms')),\n",
        "    y=alt.Y('price:Q', axis=alt.Axis(title='Price')),\n",
        "    tooltip=['bedrooms:O', 'price:Q']\n",
        ").properties(\n",
        "    title='Average Price by Number of Bedrooms'\n",
        ")\n",
        "\n",
        "# Display the chart\n",
        "chart\n",
        "\n",
        "\n",
        "# nine_bedroom = house_data[house_data['bedrooms'] == 9]\n",
        "# nine_bedroom['price'].value_counts()\n",
        "house_data['bedrooms'].value_counts()\n",
        "\n",
        "bedrooms_filtered = house_data[(house_data['bedrooms'] >= 0) & (house_data['bedrooms'] <= 5)]\n",
        "\n",
        "correlation = bedrooms_filtered['bedrooms'].corr(bedrooms_filtered['price'])\n",
        "correlation"
      ],
      "metadata": {
        "id": "UJDHPxWQhT4r"
      },
      "execution_count": null,
      "outputs": []
    },
    {
      "cell_type": "markdown",
      "source": [
        "## **YR_RENOVATED**"
      ],
      "metadata": {
        "id": "rkkuMf67vNdX"
      }
    },
    {
      "cell_type": "code",
      "source": [
        "house_data['yr_renovated'].value_counts()"
      ],
      "metadata": {
        "id": "cDU0K2qTvSM0"
      },
      "execution_count": null,
      "outputs": []
    },
    {
      "cell_type": "markdown",
      "source": [
        "## **DATE BUILT**"
      ],
      "metadata": {
        "id": "r0a0aXLqfqvO"
      }
    },
    {
      "cell_type": "code",
      "source": [
        "import numpy as np\n",
        "from IPython.display import display\n",
        "\n",
        "# Step 1: Calculate the decade for each year\n",
        "house_data['decade_built'] = (house_data['yr_built'] // 10) * 10\n",
        "\n",
        "# Step 2: Create bins for the decades\n",
        "decade_bins = np.arange(house_data['decade_built'].min(), house_data['decade_built'].max() + 10, 10)\n",
        "\n",
        "# Step 3: Assign each year to its corresponding decade bin\n",
        "house_data['decade_built'] = pd.cut(house_data['yr_built'], bins=decade_bins, labels=decade_bins[:-1])\n",
        "\n",
        "# Print the resulting DataFrame\n",
        "house_data['decade_built'].value_counts()\n",
        "\n",
        "# Assuming you have a DataFrame named \"house_data\" with columns \"decade_built\" and \"housing_price\"\n",
        "\n",
        "# Enable Altair rendering in Google Colab\n",
        "# alt.renderers.enable('colab')\n",
        "\n",
        "# Group the data by decade and calculate the average housing price for each decade\n",
        "decade_price_avg = house_data.groupby('decade_built')['price'].mean().reset_index()\n",
        "\n",
        "# Create an Altair bar chart\n",
        "chart = alt.Chart(decade_price_avg).mark_bar().encode(\n",
        "    x='decade_built:O',\n",
        "    y='price:Q',\n",
        "    tooltip=['decade_built:O', 'price:Q']\n",
        ").properties(\n",
        "    title='Average Housing Price by Decade Built'\n",
        ")\n",
        "\n",
        "# Display the chart\n",
        "display(chart)\n",
        "house_data.head(5)"
      ],
      "metadata": {
        "id": "CluUc-_XqIP8"
      },
      "execution_count": null,
      "outputs": []
    },
    {
      "cell_type": "markdown",
      "source": [
        "## **FLOORS**"
      ],
      "metadata": {
        "id": "uaXArUKyijQ7"
      }
    },
    {
      "cell_type": "code",
      "source": [
        "house_data['floors'].value_counts()\n",
        "\n",
        "\n",
        "# Group the data by the number of floors and calculate the average home price for each category\n",
        "floor_price_avg = house_data.groupby('floors')['price'].mean().reset_index()\n",
        "\n",
        "# Create an Altair bar chart\n",
        "chart = alt.Chart(floor_price_avg).mark_bar().encode(\n",
        "    x='floors:O',\n",
        "    y='price:Q',\n",
        "    tooltip=['floors:O', 'price:Q']\n",
        ").properties(\n",
        "    title='Average Home Price by Floors'\n",
        ")\n",
        "\n",
        "# Display the chart\n",
        "chart\n"
      ],
      "metadata": {
        "id": "LugmIQdGill2"
      },
      "execution_count": null,
      "outputs": []
    },
    {
      "cell_type": "markdown",
      "source": [],
      "metadata": {
        "id": "6XT12cuZkA7S"
      }
    },
    {
      "cell_type": "markdown",
      "source": [
        "## **CONDITION** - Use scale"
      ],
      "metadata": {
        "id": "waS_4SxJkCEe"
      }
    },
    {
      "cell_type": "code",
      "source": [
        "house_data['condition'].value_counts()\n",
        "\n",
        "# Assuming you have a DataFrame named \"house_data\" with columns \"condition\" and \"home_price\"\n",
        "\n",
        "# Group the data by the condition and calculate the average home price for each category\n",
        "condition_price_avg = house_data.groupby('condition')['price'].mean().reset_index()\n",
        "\n",
        "# Create an Altair bar chart\n",
        "chart = alt.Chart(condition_price_avg).mark_bar().encode(\n",
        "    x='condition:O',\n",
        "    y='price:Q',\n",
        "    tooltip=['condition:O', 'price:Q']\n",
        ").properties(\n",
        "    title='Average Home Price by Condition'\n",
        ")\n",
        "\n",
        "# Display the chart\n",
        "chart\n",
        "\n",
        "#house_data['condition'].value_counts()\n",
        "\n",
        "\n"
      ],
      "metadata": {
        "id": "LZL4MhfKkKlZ"
      },
      "execution_count": null,
      "outputs": []
    },
    {
      "cell_type": "markdown",
      "source": [
        "## **VIEW**"
      ],
      "metadata": {
        "id": "gyi98H11riUU"
      }
    },
    {
      "cell_type": "code",
      "source": [
        "house_data['view'].value_counts()\n",
        "\n",
        "# Assuming you have a DataFrame named \"house_data\" with columns \"condition\" and \"home_price\"\n",
        "\n",
        "# Group the data by the condition and calculate the average home price for each category\n",
        "condition_price_avg = house_data.groupby('view')['price'].mean().reset_index()\n",
        "\n",
        "# Create an Altair bar chart\n",
        "chart = alt.Chart(condition_price_avg).mark_bar().encode(\n",
        "    x='view:O',\n",
        "    y='price:Q',\n",
        "    tooltip=['view:O', 'price:Q']\n",
        ").properties(\n",
        "    title='Average Home Price by View'\n",
        ")\n",
        "\n",
        "# Display the chart\n",
        "chart\n",
        "\n",
        "\n",
        "house_data['view'].value_counts()\n",
        "\n"
      ],
      "metadata": {
        "id": "txYW8OYKrkWM"
      },
      "execution_count": null,
      "outputs": []
    },
    {
      "cell_type": "markdown",
      "source": [
        "## **SQFT_LOT**"
      ],
      "metadata": {
        "id": "WwTWK9h_lXt5"
      }
    },
    {
      "cell_type": "code",
      "source": [
        "house_data['sqft_lot'].value_counts()"
      ],
      "metadata": {
        "id": "IWkAZkrjmlTJ"
      },
      "execution_count": null,
      "outputs": []
    },
    {
      "cell_type": "code",
      "source": [
        "# Define the binning parameters\n",
        "bin_width = 30000  # Adjust bin width as per your preference\n",
        "\n",
        "# Create a binned column for sqft_lot and convert to string representation\n",
        "house_data['sqft_lot_bin'] = pd.cut(house_data['sqft_lot'], bins=range(0, int(house_data['sqft_lot'].max()) + bin_width, bin_width)).astype(str)\n",
        "\n",
        "# Group the data by the sqft_lot bin and calculate the average price for each bin\n",
        "price_avg = house_data.groupby('sqft_lot_bin')['price'].mean().reset_index()\n",
        "\n",
        "# Create an Altair bar chart\n",
        "chart = alt.Chart(price_avg).mark_bar().encode(\n",
        "    x=alt.X('sqft_lot_bin:O', axis=alt.Axis(title='Lot Size')),\n",
        "    y=alt.Y('price:Q', axis=alt.Axis(title='Price')),\n",
        "    tooltip=['sqft_lot_bin:O', 'price:Q']\n",
        ").properties(\n",
        "    title='Average Price by Lot Size'\n",
        ")\n",
        "\n",
        "# Display the chart\n",
        "chart"
      ],
      "metadata": {
        "id": "vBgE3rBilclf"
      },
      "execution_count": null,
      "outputs": []
    },
    {
      "cell_type": "markdown",
      "source": [
        "## **WATERFRONT**"
      ],
      "metadata": {
        "id": "ji5Ys4ojshva"
      }
    },
    {
      "cell_type": "code",
      "source": [
        "house_data['waterfront'].value_counts()\n",
        "\n",
        "# Assuming you have a DataFrame named \"house_data\" with columns \"condition\" and \"home_price\"\n",
        "\n",
        "# Group the data by the condition and calculate the average home price for each category\n",
        "condition_price_avg = house_data.groupby('waterfront')['price'].mean().reset_index()\n",
        "\n",
        "# Create an Altair bar chart\n",
        "chart = alt.Chart(condition_price_avg).mark_bar().encode(\n",
        "    x='waterfront:O',\n",
        "    y='price:Q',\n",
        "    tooltip=['waterfront:O', 'price:Q']\n",
        ").properties(\n",
        "    title='Average Home Price by Waterfront Property'\n",
        ")\n",
        "\n",
        "# Display the chart\n",
        "chart\n",
        "\n",
        "\n",
        "house_data['waterfront'].value_counts()\n",
        "\n"
      ],
      "metadata": {
        "id": "tkCQnMm-skYp"
      },
      "execution_count": null,
      "outputs": []
    },
    {
      "cell_type": "markdown",
      "source": [
        "## **DATE**"
      ],
      "metadata": {
        "id": "JIZJpMHH0N-4"
      }
    },
    {
      "cell_type": "code",
      "source": [
        "import datetime\n",
        "house_data['date'].value_counts()\n",
        "month_numbers = []\n",
        "\n",
        "# for date_string in house_data['date']:\n",
        "#     try:\n",
        "#         date_object = datetime.datetime.strptime(date_string, \"%Y%m%dT%H%M%S\")\n",
        "#         month_number = date_object.month\n",
        "#         month_numbers.append(month_number)\n",
        "#     except ValueError:\n",
        "#         print(f\"Ignoring invalid date string: {date_string}\")\n",
        "\n",
        "\n",
        "df = pd.DataFrame({'Month': month_numbers})\n",
        "\n",
        "df_agg = df.groupby('Month').size().reset_index(name='Count')\n",
        "\n",
        "chart = alt.Chart(df_agg).mark_bar().encode(\n",
        "    alt.X('Month:O', title='Month'),\n",
        "    alt.Y('Count:Q', title='Count')\n",
        ").properties(\n",
        "    title='Count of Events by Month'\n",
        ")\n",
        "\n",
        "chart\n",
        "\n",
        "# Housing price by month sold. ======================================================================\n",
        "\n",
        "house_data['date'] = pd.to_datetime(house_data['date'])\n",
        "\n",
        "# Extract month from 'date' column\n",
        "house_data['month'] = house_data['date'].dt.month\n",
        "\n",
        "# Calculate the average sell price for each month\n",
        "average_price_by_month = house_data.groupby('month')['price'].mean().reset_index()\n",
        "\n",
        "# Create a bar chart using Altair\n",
        "chart = alt.Chart(average_price_by_month).mark_bar().encode(\n",
        "    alt.X('month:O', title='Month', sort=alt.EncodingSortField(field='price', op='mean', order='descending')),\n",
        "    alt.Y('price:Q', title='Average Sell Price')\n",
        ").properties(\n",
        "    title='Average Sell Price by Month'\n",
        ")\n",
        "\n",
        "# Display the chart\n",
        "chart\n",
        "\n",
        "\n",
        "# Housing price by year sold ======================================================================\n",
        "# house_data['date'] = pd.to_datetime(house_data['date'])\n",
        "\n",
        "# house_data['year'] = house_data['date'].dt.year\n",
        "\n",
        "# average_price_by_year = house_data.groupby('year')['price'].mean().reset_index()\n",
        "\n",
        "# Create a bar chart using Altair\n",
        "# chart = alt.Chart(average_price_by_year).mark_bar().encode(\n",
        "#     alt.X('year:O', title='Year'),\n",
        "#     alt.Y('price:Q', title='Average Sell Price')\n",
        "# ).properties(\n",
        "#     title='Average Sell Price by Year'\n",
        "# )\n",
        "\n",
        "#chart\n",
        "# house_data['year'] = house_data['date'].dt.year\n",
        "# house_data['year'].value_counts()\n"
      ],
      "metadata": {
        "id": "cCgBlMND0QWu"
      },
      "execution_count": null,
      "outputs": []
    },
    {
      "cell_type": "markdown",
      "source": [
        "## **CORRELATION**"
      ],
      "metadata": {
        "id": "9Qjzj8ygjShO"
      }
    },
    {
      "cell_type": "code",
      "source": [
        "# Calculate the correlation between each feature and price\n",
        "feature_data = house_data[['date', 'price', 'bedrooms', 'bathrooms', 'sqft_living', 'sqft_lot', 'floors', 'waterfront', 'view', 'condition', 'grade', 'sqft_above', 'sqft_basement', 'yr_built', 'yr_renovated', 'zipcode', 'sqft_living15', 'sqft_lot15']]\n",
        "correlation_with_price = feature_data.corr()['price'].drop('price')\n",
        "correlation_df = correlation_with_price.reset_index().rename(columns={'index': 'feature', 'price': 'correlation'})\n",
        "\n",
        "# Creae heatmap in altair:\n",
        "heatmap = alt.Chart(correlation_df).mark_rect().encode(\n",
        "    x='feature:O',\n",
        "    y=alt.Y('correlation:O', axis=alt.Axis(format='0.2f')),\n",
        "    color='correlation:Q'\n",
        ").properties(\n",
        "    width=400,\n",
        "    height=300,\n",
        "    title='Correlation with Price Heatmap'\n",
        ")\n",
        "\n",
        "\n",
        "# 1 = high positive correlation, 0 = no correlation, -1 = high negative correlation\n",
        "heatmap\n",
        "correlation_with_price.sort_values()"
      ],
      "metadata": {
        "id": "9H8eefzbmz-n"
      },
      "execution_count": null,
      "outputs": []
    },
    {
      "cell_type": "code",
      "source": [
        "feature_data = house_data[['date', 'price', 'bedrooms', 'bathrooms', 'sqft_living', 'sqft_lot', 'floors', 'waterfront', 'view', 'condition', 'grade', 'sqft_above', 'sqft_basement', 'yr_built', 'yr_renovated', 'zipcode', 'sqft_living15', 'sqft_lot15']]\n",
        "\n",
        "# Calculate the correlation matrix\n",
        "correlation_matrix = feature_data.corr()\n",
        "\n",
        "# Reset the index to convert the correlation matrix into a dataframe\n",
        "correlation_df = correlation_matrix.reset_index()\n",
        "\n",
        "# Melt the dataframe to convert it into long format for heatmap visualization\n",
        "melted_df = pd.melt(correlation_df, id_vars='index', value_vars=correlation_df.columns[1:], var_name='feature1', value_name='correlation')\n",
        "\n",
        "# Create the heatmap using Altair\n",
        "heatmap = alt.Chart(melted_df).mark_rect().encode(\n",
        "    x='index:O',\n",
        "    y='feature1:O',\n",
        "    color='correlation:Q'\n",
        ").properties(\n",
        "    width=300,\n",
        "    height=300,\n",
        "    title='Correlation Heatmap'\n",
        ")\n",
        "\n",
        "# Display the heatmap\n",
        "heatmap"
      ],
      "metadata": {
        "id": "IsxEjvBwSP5U"
      },
      "execution_count": null,
      "outputs": []
    },
    {
      "cell_type": "markdown",
      "source": [],
      "metadata": {
        "id": "_tX42-220L6X"
      }
    },
    {
      "cell_type": "markdown",
      "source": [
        "# **Feature Selection**\n",
        "- We need a metric to determine which features are most useful in determining home price.\n",
        "\n",
        "\n",
        "### High Positive Correlation with Price:\n",
        "- Sqft_living   = 0.70\n",
        "- Grade         = 0.66\n",
        "- sqft_above    = 0.60\n",
        "- sqft_living15 = 0.58\n",
        "- bathrooms     = 0.52\n",
        "\n",
        "### High Negative Correlation with Price:\n",
        "- None (yet discovered)\n",
        "\n",
        "### To be determined:\n",
        "- Condition\n",
        "- Zip Code (High income zip codes sell for more)\n",
        "- Year Built (I binned the homes into decades they were built, there's some unique distributions worth looking into)\n",
        "- Date (May, April, July, June are when the most homes are sold)\n",
        "\n",
        "\n",
        "### **Ignore** these features:\n",
        "- sqft_lot15                (almost no correlation)\n",
        "- sqft_lot                  (almost no correlation)\n",
        "- Lat                       (Useless data point)\n",
        "- Long                      (Useless data point)\n",
        "- Id                        (Only used in the database to store the row)\n",
        "- yr_renovated              (Over 95% of the data falls under 0 - no data)\n",
        "- bedrooms                  (very low positive correlation + outliers skew data)\n",
        "- view                      (Highly imbalanced distribution among values, over 95% is 0)\n",
        "- waterfront                (Highly imbalanced distribution among values, over 99% is 0)\n",
        "- sqft_basement             (Over 95% of the data falls under 0 - no data)"
      ],
      "metadata": {
        "id": "KnrN-sBynKAV"
      }
    },
    {
      "cell_type": "markdown",
      "source": [
        "## **FEATURE CLEANING**"
      ],
      "metadata": {
        "id": "n3wr6Iqv-dil"
      }
    },
    {
      "cell_type": "markdown",
      "source": [
        "### Price"
      ],
      "metadata": {
        "id": "qIv4PsW3BOEq"
      }
    },
    {
      "cell_type": "code",
      "source": [
        "house_data['price'] # Probably needs to be scaled, too widely distributed."
      ],
      "metadata": {
        "id": "HzYZ-AKI-g1P"
      },
      "execution_count": null,
      "outputs": []
    },
    {
      "cell_type": "markdown",
      "source": [
        "### **Sqft_living**"
      ],
      "metadata": {
        "id": "EFQbU8nyBQGP"
      }
    },
    {
      "cell_type": "code",
      "source": [
        "house_data['sqft_living'].value_counts()\n",
        "house_data = house_data[house_data['sqft_living'] <= 8000]\n",
        "\n",
        "\n",
        "# Calculate the average price for each sqft_living\n",
        "average_price_by_sqft_living = house_data.groupby('sqft_living')['price'].mean().reset_index()\n",
        "\n",
        "# Create the bar graph for average price by sqft_living\n",
        "bar_chart_sqft_living = alt.Chart(average_price_by_sqft_living).mark_bar().encode(\n",
        "    x=alt.X('sqft_living:Q', title='Sqft Living'),\n",
        "    y=alt.Y('price:Q', title='Average Price'),\n",
        "    tooltip=['sqft_living', 'price']\n",
        ").properties(\n",
        "    title='Average Price by Sqft Living'\n",
        ")\n",
        "\n",
        "# Display the bar charts side by side\n",
        "bar_chart_sqft_living\n",
        "# house_data = house_data[house_data['sqft_living'] <= 8000]"
      ],
      "metadata": {
        "colab": {
          "base_uri": "https://localhost:8080/",
          "height": 386
        },
        "id": "6cC-M7w_BTBK",
        "outputId": "41c56bfe-4855-498f-9ed3-9efee2f3e2df"
      },
      "execution_count": 91,
      "outputs": [
        {
          "output_type": "execute_result",
          "data": {
            "text/html": [
              "\n",
              "<div id=\"altair-viz-a7bd7537d06a435abc722b23187b4923\"></div>\n",
              "<script type=\"text/javascript\">\n",
              "  var VEGA_DEBUG = (typeof VEGA_DEBUG == \"undefined\") ? {} : VEGA_DEBUG;\n",
              "  (function(spec, embedOpt){\n",
              "    let outputDiv = document.currentScript.previousElementSibling;\n",
              "    if (outputDiv.id !== \"altair-viz-a7bd7537d06a435abc722b23187b4923\") {\n",
              "      outputDiv = document.getElementById(\"altair-viz-a7bd7537d06a435abc722b23187b4923\");\n",
              "    }\n",
              "    const paths = {\n",
              "      \"vega\": \"https://cdn.jsdelivr.net/npm//vega@5?noext\",\n",
              "      \"vega-lib\": \"https://cdn.jsdelivr.net/npm//vega-lib?noext\",\n",
              "      \"vega-lite\": \"https://cdn.jsdelivr.net/npm//vega-lite@4.17.0?noext\",\n",
              "      \"vega-embed\": \"https://cdn.jsdelivr.net/npm//vega-embed@6?noext\",\n",
              "    };\n",
              "\n",
              "    function maybeLoadScript(lib, version) {\n",
              "      var key = `${lib.replace(\"-\", \"\")}_version`;\n",
              "      return (VEGA_DEBUG[key] == version) ?\n",
              "        Promise.resolve(paths[lib]) :\n",
              "        new Promise(function(resolve, reject) {\n",
              "          var s = document.createElement('script');\n",
              "          document.getElementsByTagName(\"head\")[0].appendChild(s);\n",
              "          s.async = true;\n",
              "          s.onload = () => {\n",
              "            VEGA_DEBUG[key] = version;\n",
              "            return resolve(paths[lib]);\n",
              "          };\n",
              "          s.onerror = () => reject(`Error loading script: ${paths[lib]}`);\n",
              "          s.src = paths[lib];\n",
              "        });\n",
              "    }\n",
              "\n",
              "    function showError(err) {\n",
              "      outputDiv.innerHTML = `<div class=\"error\" style=\"color:red;\">${err}</div>`;\n",
              "      throw err;\n",
              "    }\n",
              "\n",
              "    function displayChart(vegaEmbed) {\n",
              "      vegaEmbed(outputDiv, spec, embedOpt)\n",
              "        .catch(err => showError(`Javascript Error: ${err.message}<br>This usually means there's a typo in your chart specification. See the javascript console for the full traceback.`));\n",
              "    }\n",
              "\n",
              "    if(typeof define === \"function\" && define.amd) {\n",
              "      requirejs.config({paths});\n",
              "      require([\"vega-embed\"], displayChart, err => showError(`Error loading script: ${err.message}`));\n",
              "    } else {\n",
              "      maybeLoadScript(\"vega\", \"5\")\n",
              "        .then(() => maybeLoadScript(\"vega-lite\", \"4.17.0\"))\n",
              "        .then(() => maybeLoadScript(\"vega-embed\", \"6\"))\n",
              "        .catch(showError)\n",
              "        .then(() => displayChart(vegaEmbed));\n",
              "    }\n",
              "  })({\"config\": {\"view\": {\"continuousWidth\": 400, \"continuousHeight\": 300}}, \"data\": {\"name\": \"data-a822f9373aa22596d855be58c4549a02\"}, \"mark\": \"bar\", \"encoding\": {\"tooltip\": [{\"field\": \"sqft_living\", \"type\": \"quantitative\"}, {\"field\": \"price\", \"type\": \"quantitative\"}], \"x\": {\"field\": \"sqft_living\", \"title\": \"Sqft Living\", \"type\": \"quantitative\"}, \"y\": {\"field\": \"price\", \"title\": \"Average Price\", \"type\": \"quantitative\"}}, \"title\": \"Average Price by Sqft Living\", \"$schema\": \"https://vega.github.io/schema/vega-lite/v4.17.0.json\", \"datasets\": {\"data-a822f9373aa22596d855be58c4549a02\": [{\"sqft_living\": 390, \"price\": 236500.0}, {\"sqft_living\": 420, \"price\": 229050.0}, {\"sqft_living\": 460, \"price\": 247000.0}, {\"sqft_living\": 470, \"price\": 192500.0}, {\"sqft_living\": 480, \"price\": 170000.0}, {\"sqft_living\": 500, \"price\": 125000.0}, {\"sqft_living\": 530, \"price\": 319000.0}, {\"sqft_living\": 540, \"price\": 385000.0}, {\"sqft_living\": 550, \"price\": 277000.0}, {\"sqft_living\": 560, \"price\": 148633.33333333334}, {\"sqft_living\": 570, \"price\": 219983.33333333334}, {\"sqft_living\": 580, \"price\": 238900.0}, {\"sqft_living\": 590, \"price\": 249000.0}, {\"sqft_living\": 600, \"price\": 155666.66666666666}, {\"sqft_living\": 610, \"price\": 281550.0}, {\"sqft_living\": 620, \"price\": 282899.0}, {\"sqft_living\": 630, \"price\": 291000.0}, {\"sqft_living\": 640, \"price\": 264040.0}, {\"sqft_living\": 650, \"price\": 212000.0}, {\"sqft_living\": 660, \"price\": 252490.0}, {\"sqft_living\": 670, \"price\": 258497.8260869565}, {\"sqft_living\": 680, \"price\": 272870.0}, {\"sqft_living\": 690, \"price\": 249214.2857142857}, {\"sqft_living\": 700, \"price\": 275213.90625}, {\"sqft_living\": 710, \"price\": 297626.92307692306}, {\"sqft_living\": 720, \"price\": 273142.04545454547}, {\"sqft_living\": 730, \"price\": 280457.6923076923}, {\"sqft_living\": 740, \"price\": 262876.25}, {\"sqft_living\": 750, \"price\": 298492.2}, {\"sqft_living\": 760, \"price\": 282049.5238095238}, {\"sqft_living\": 770, \"price\": 280087.4358974359}, {\"sqft_living\": 780, \"price\": 245241.9090909091}, {\"sqft_living\": 790, \"price\": 255526.52777777778}, {\"sqft_living\": 800, \"price\": 304512.74418604653}, {\"sqft_living\": 809, \"price\": 219000.0}, {\"sqft_living\": 810, \"price\": 283712.0}, {\"sqft_living\": 820, \"price\": 311746.5714285714}, {\"sqft_living\": 830, \"price\": 289043.85714285716}, {\"sqft_living\": 833, \"price\": 517534.0}, {\"sqft_living\": 840, \"price\": 267919.5833333333}, {\"sqft_living\": 850, \"price\": 331722.5}, {\"sqft_living\": 860, \"price\": 286167.6346153846}, {\"sqft_living\": 870, \"price\": 297957.64705882355}, {\"sqft_living\": 880, \"price\": 315654.32692307694}, {\"sqft_living\": 890, \"price\": 330967.8387096774}, {\"sqft_living\": 893, \"price\": 359950.0}, {\"sqft_living\": 894, \"price\": 403000.0}, {\"sqft_living\": 900, \"price\": 296113.5714285714}, {\"sqft_living\": 902, \"price\": 152000.0}, {\"sqft_living\": 910, \"price\": 319585.29411764705}, {\"sqft_living\": 920, \"price\": 317059.10638297873}, {\"sqft_living\": 930, \"price\": 323006.5789473684}, {\"sqft_living\": 940, \"price\": 337571.35185185185}, {\"sqft_living\": 950, \"price\": 344687.77777777775}, {\"sqft_living\": 960, \"price\": 306834.5844155844}, {\"sqft_living\": 962, \"price\": 390000.0}, {\"sqft_living\": 970, \"price\": 299570.11363636365}, {\"sqft_living\": 980, \"price\": 349808.6923076923}, {\"sqft_living\": 982, \"price\": 250000.0}, {\"sqft_living\": 988, \"price\": 295000.0}, {\"sqft_living\": 990, \"price\": 322205.9183673469}, {\"sqft_living\": 998, \"price\": 322000.0}, {\"sqft_living\": 1000, \"price\": 316696.2571428571}, {\"sqft_living\": 1008, \"price\": 480000.0}, {\"sqft_living\": 1010, \"price\": 310472.06086956523}, {\"sqft_living\": 1020, \"price\": 310614.68253968254}, {\"sqft_living\": 1030, \"price\": 342399.41509433964}, {\"sqft_living\": 1040, \"price\": 334843.91549295775}, {\"sqft_living\": 1048, \"price\": 199950.0}, {\"sqft_living\": 1050, \"price\": 324829.46153846156}, {\"sqft_living\": 1060, \"price\": 334981.89024390245}, {\"sqft_living\": 1068, \"price\": 229983.33333333334}, {\"sqft_living\": 1070, \"price\": 329230.28169014084}, {\"sqft_living\": 1078, \"price\": 240000.0}, {\"sqft_living\": 1080, \"price\": 330983.3333333333}, {\"sqft_living\": 1084, \"price\": 265000.0}, {\"sqft_living\": 1088, \"price\": 244000.0}, {\"sqft_living\": 1090, \"price\": 325883.6206896552}, {\"sqft_living\": 1092, \"price\": 309000.0}, {\"sqft_living\": 1100, \"price\": 322957.7972972973}, {\"sqft_living\": 1108, \"price\": 369500.0}, {\"sqft_living\": 1110, \"price\": 385559.5238095238}, {\"sqft_living\": 1120, \"price\": 349624.8780487805}, {\"sqft_living\": 1122, \"price\": 265000.0}, {\"sqft_living\": 1130, \"price\": 347397.3653846154}, {\"sqft_living\": 1131, \"price\": 394950.0}, {\"sqft_living\": 1140, \"price\": 365372.94444444444}, {\"sqft_living\": 1150, \"price\": 337541.2604166667}, {\"sqft_living\": 1159, \"price\": 582500.0}, {\"sqft_living\": 1160, \"price\": 359292.91764705884}, {\"sqft_living\": 1170, \"price\": 354516.1756756757}, {\"sqft_living\": 1175, \"price\": 558500.0}, {\"sqft_living\": 1180, \"price\": 361647.96153846156}, {\"sqft_living\": 1190, \"price\": 342460.7586206897}, {\"sqft_living\": 1200, \"price\": 297938.9903846154}, {\"sqft_living\": 1210, \"price\": 372609.2658227848}, {\"sqft_living\": 1212, \"price\": 340000.0}, {\"sqft_living\": 1220, \"price\": 354494.4337349398}, {\"sqft_living\": 1230, \"price\": 366351.5974025974}, {\"sqft_living\": 1232, \"price\": 344000.0}, {\"sqft_living\": 1233, \"price\": 360000.0}, {\"sqft_living\": 1239, \"price\": 253101.0}, {\"sqft_living\": 1240, \"price\": 369915.59405940596}, {\"sqft_living\": 1250, \"price\": 339880.2016806723}, {\"sqft_living\": 1252, \"price\": 352000.0}, {\"sqft_living\": 1255, \"price\": 336000.0}, {\"sqft_living\": 1256, \"price\": 316750.0}, {\"sqft_living\": 1260, \"price\": 359836.6176470588}, {\"sqft_living\": 1264, \"price\": 530000.0}, {\"sqft_living\": 1270, \"price\": 380626.86516853934}, {\"sqft_living\": 1275, \"price\": 309600.0}, {\"sqft_living\": 1278, \"price\": 358000.0}, {\"sqft_living\": 1280, \"price\": 357004.7752808989}, {\"sqft_living\": 1290, \"price\": 381255.0140845071}, {\"sqft_living\": 1295, \"price\": 487028.0}, {\"sqft_living\": 1296, \"price\": 399950.0}, {\"sqft_living\": 1300, \"price\": 367419.048}, {\"sqft_living\": 1310, \"price\": 348135.12}, {\"sqft_living\": 1313, \"price\": 885000.0}, {\"sqft_living\": 1315, \"price\": 347000.0}, {\"sqft_living\": 1320, \"price\": 354388.5128205128}, {\"sqft_living\": 1322, \"price\": 350000.0}, {\"sqft_living\": 1330, \"price\": 383049.2278481013}, {\"sqft_living\": 1333, \"price\": 338500.0}, {\"sqft_living\": 1340, \"price\": 361475.0094339623}, {\"sqft_living\": 1350, \"price\": 377303.57608695654}, {\"sqft_living\": 1352, \"price\": 325000.0}, {\"sqft_living\": 1358, \"price\": 302866.6666666667}, {\"sqft_living\": 1360, \"price\": 371700.74418604653}, {\"sqft_living\": 1370, \"price\": 378481.3142857143}, {\"sqft_living\": 1380, \"price\": 386609.1975308642}, {\"sqft_living\": 1381, \"price\": 360000.0}, {\"sqft_living\": 1384, \"price\": 342666.6666666667}, {\"sqft_living\": 1390, \"price\": 352053.6385542169}, {\"sqft_living\": 1396, \"price\": 225000.0}, {\"sqft_living\": 1400, \"price\": 356737.55118110235}, {\"sqft_living\": 1405, \"price\": 405000.0}, {\"sqft_living\": 1408, \"price\": 416286.0}, {\"sqft_living\": 1410, \"price\": 392795.793814433}, {\"sqft_living\": 1413, \"price\": 273400.0}, {\"sqft_living\": 1414, \"price\": 428000.0}, {\"sqft_living\": 1420, \"price\": 376931.2619047619}, {\"sqft_living\": 1422, \"price\": 245000.0}, {\"sqft_living\": 1425, \"price\": 467000.0}, {\"sqft_living\": 1427, \"price\": 260000.0}, {\"sqft_living\": 1430, \"price\": 381749.5504587156}, {\"sqft_living\": 1435, \"price\": 390000.0}, {\"sqft_living\": 1440, \"price\": 382227.11475409835}, {\"sqft_living\": 1444, \"price\": 420000.0}, {\"sqft_living\": 1445, \"price\": 382599.8}, {\"sqft_living\": 1450, \"price\": 381186.8488372093}, {\"sqft_living\": 1453, \"price\": 460000.0}, {\"sqft_living\": 1458, \"price\": 620000.0}, {\"sqft_living\": 1460, \"price\": 400513.6176470588}, {\"sqft_living\": 1463, \"price\": 390000.0}, {\"sqft_living\": 1465, \"price\": 489000.0}, {\"sqft_living\": 1470, \"price\": 396933.41747572814}, {\"sqft_living\": 1480, \"price\": 416388.8461538461}, {\"sqft_living\": 1481, \"price\": 245000.0}, {\"sqft_living\": 1484, \"price\": 365000.0}, {\"sqft_living\": 1489, \"price\": 260300.0}, {\"sqft_living\": 1490, \"price\": 400484.6046511628}, {\"sqft_living\": 1494, \"price\": 557500.0}, {\"sqft_living\": 1495, \"price\": 400000.0}, {\"sqft_living\": 1496, \"price\": 370000.0}, {\"sqft_living\": 1500, \"price\": 379505.6037735849}, {\"sqft_living\": 1502, \"price\": 403000.0}, {\"sqft_living\": 1509, \"price\": 410500.0}, {\"sqft_living\": 1510, \"price\": 409535.9619047619}, {\"sqft_living\": 1516, \"price\": 575575.0}, {\"sqft_living\": 1520, \"price\": 381603.77659574465}, {\"sqft_living\": 1522, \"price\": 407500.0}, {\"sqft_living\": 1528, \"price\": 272000.0}, {\"sqft_living\": 1530, \"price\": 428842.9411764706}, {\"sqft_living\": 1540, \"price\": 437618.5603448276}, {\"sqft_living\": 1550, \"price\": 422601.4534883721}, {\"sqft_living\": 1552, \"price\": 273000.0}, {\"sqft_living\": 1553, \"price\": 326000.0}, {\"sqft_living\": 1556, \"price\": 221700.0}, {\"sqft_living\": 1560, \"price\": 423542.8205128205}, {\"sqft_living\": 1570, \"price\": 421202.9680851064}, {\"sqft_living\": 1571, \"price\": 366750.0}, {\"sqft_living\": 1572, \"price\": 299000.0}, {\"sqft_living\": 1578, \"price\": 259950.0}, {\"sqft_living\": 1580, \"price\": 415329.91743119265}, {\"sqft_living\": 1584, \"price\": 263666.6666666667}, {\"sqft_living\": 1590, \"price\": 402662.7010309278}, {\"sqft_living\": 1594, \"price\": 269000.0}, {\"sqft_living\": 1600, \"price\": 404693.79}, {\"sqft_living\": 1601, \"price\": 378000.0}, {\"sqft_living\": 1606, \"price\": 417250.0}, {\"sqft_living\": 1608, \"price\": 278300.0}, {\"sqft_living\": 1610, \"price\": 389771.1960784314}, {\"sqft_living\": 1611, \"price\": 850000.0}, {\"sqft_living\": 1613, \"price\": 279500.0}, {\"sqft_living\": 1615, \"price\": 665000.0}, {\"sqft_living\": 1620, \"price\": 439984.9247311828}, {\"sqft_living\": 1626, \"price\": 526000.0}, {\"sqft_living\": 1628, \"price\": 250000.0}, {\"sqft_living\": 1630, \"price\": 416853.1204819277}, {\"sqft_living\": 1639, \"price\": 450000.0}, {\"sqft_living\": 1640, \"price\": 448150.3714285714}, {\"sqft_living\": 1643, \"price\": 324950.0}, {\"sqft_living\": 1646, \"price\": 305833.3333333333}, {\"sqft_living\": 1650, \"price\": 413725.19469026546}, {\"sqft_living\": 1651, \"price\": 324000.0}, {\"sqft_living\": 1654, \"price\": 325775.0}, {\"sqft_living\": 1656, \"price\": 462500.0}, {\"sqft_living\": 1657, \"price\": 546000.0}, {\"sqft_living\": 1658, \"price\": 263900.0}, {\"sqft_living\": 1660, \"price\": 431929.7704918033}, {\"sqft_living\": 1670, \"price\": 450159.6597938144}, {\"sqft_living\": 1676, \"price\": 330000.0}, {\"sqft_living\": 1677, \"price\": 288000.0}, {\"sqft_living\": 1678, \"price\": 353000.0}, {\"sqft_living\": 1679, \"price\": 700000.0}, {\"sqft_living\": 1680, \"price\": 435408.87387387385}, {\"sqft_living\": 1689, \"price\": 384400.0}, {\"sqft_living\": 1690, \"price\": 410560.5673076923}, {\"sqft_living\": 1700, \"price\": 432171.6836734694}, {\"sqft_living\": 1710, \"price\": 446500.275862069}, {\"sqft_living\": 1714, \"price\": 305666.6666666667}, {\"sqft_living\": 1715, \"price\": 257500.0}, {\"sqft_living\": 1720, \"price\": 433717.6637931034}, {\"sqft_living\": 1726, \"price\": 363750.0}, {\"sqft_living\": 1728, \"price\": 730000.0}, {\"sqft_living\": 1730, \"price\": 400748.08510638296}, {\"sqft_living\": 1740, \"price\": 424378.0471698113}, {\"sqft_living\": 1741, \"price\": 389500.0}, {\"sqft_living\": 1747, \"price\": 267500.0}, {\"sqft_living\": 1750, \"price\": 429163.74666666664}, {\"sqft_living\": 1752, \"price\": 249000.0}, {\"sqft_living\": 1757, \"price\": 375000.0}, {\"sqft_living\": 1760, \"price\": 463980.6458333333}, {\"sqft_living\": 1763, \"price\": 305000.0}, {\"sqft_living\": 1764, \"price\": 349950.0}, {\"sqft_living\": 1765, \"price\": 250000.0}, {\"sqft_living\": 1767, \"price\": 205000.0}, {\"sqft_living\": 1769, \"price\": 414944.0}, {\"sqft_living\": 1770, \"price\": 422407.2298850575}, {\"sqft_living\": 1776, \"price\": 620000.0}, {\"sqft_living\": 1778, \"price\": 435000.0}, {\"sqft_living\": 1780, \"price\": 449990.2090909091}, {\"sqft_living\": 1782, \"price\": 326000.0}, {\"sqft_living\": 1785, \"price\": 406000.0}, {\"sqft_living\": 1788, \"price\": 294400.0}, {\"sqft_living\": 1790, \"price\": 434905.1401869159}, {\"sqft_living\": 1794, \"price\": 254950.0}, {\"sqft_living\": 1798, \"price\": 199900.0}, {\"sqft_living\": 1800, \"price\": 437209.50877192983}, {\"sqft_living\": 1805, \"price\": 266000.0}, {\"sqft_living\": 1808, \"price\": 270000.0}, {\"sqft_living\": 1810, \"price\": 429389.53846153844}, {\"sqft_living\": 1811, \"price\": 260000.0}, {\"sqft_living\": 1812, \"price\": 370000.0}, {\"sqft_living\": 1814, \"price\": 530000.0}, {\"sqft_living\": 1820, \"price\": 441699.8181818182}, {\"sqft_living\": 1824, \"price\": 375900.0}, {\"sqft_living\": 1830, \"price\": 408484.0}, {\"sqft_living\": 1833, \"price\": 719000.0}, {\"sqft_living\": 1834, \"price\": 280000.0}, {\"sqft_living\": 1840, \"price\": 448845.27659574465}, {\"sqft_living\": 1845, \"price\": 510000.0}, {\"sqft_living\": 1847, \"price\": 215500.0}, {\"sqft_living\": 1850, \"price\": 435820.2021276596}, {\"sqft_living\": 1852, \"price\": 298450.0}, {\"sqft_living\": 1860, \"price\": 441969.18604651163}, {\"sqft_living\": 1861, \"price\": 499000.0}, {\"sqft_living\": 1864, \"price\": 235000.0}, {\"sqft_living\": 1867, \"price\": 378950.0}, {\"sqft_living\": 1870, \"price\": 432312.8510638298}, {\"sqft_living\": 1876, \"price\": 613500.0}, {\"sqft_living\": 1880, \"price\": 452610.70454545453}, {\"sqft_living\": 1889, \"price\": 277950.0}, {\"sqft_living\": 1890, \"price\": 478561.5056179775}, {\"sqft_living\": 1899, \"price\": 289900.0}, {\"sqft_living\": 1900, \"price\": 452209.63302752294}, {\"sqft_living\": 1904, \"price\": 365000.0}, {\"sqft_living\": 1909, \"price\": 630500.0}, {\"sqft_living\": 1910, \"price\": 474101.15789473685}, {\"sqft_living\": 1912, \"price\": 353000.0}, {\"sqft_living\": 1914, \"price\": 302500.0}, {\"sqft_living\": 1920, \"price\": 441607.0568181818}, {\"sqft_living\": 1921, \"price\": 245000.0}, {\"sqft_living\": 1930, \"price\": 453867.95061728393}, {\"sqft_living\": 1934, \"price\": 280000.0}, {\"sqft_living\": 1936, \"price\": 306900.0}, {\"sqft_living\": 1940, \"price\": 478779.152173913}, {\"sqft_living\": 1946, \"price\": 485000.0}, {\"sqft_living\": 1950, \"price\": 437856.6951219512}, {\"sqft_living\": 1952, \"price\": 270500.0}, {\"sqft_living\": 1954, \"price\": 287622.5}, {\"sqft_living\": 1960, \"price\": 436216.12621359224}, {\"sqft_living\": 1961, \"price\": 289000.0}, {\"sqft_living\": 1970, \"price\": 452484.3125}, {\"sqft_living\": 1975, \"price\": 311000.0}, {\"sqft_living\": 1979, \"price\": 339000.0}, {\"sqft_living\": 1980, \"price\": 469295.60638297873}, {\"sqft_living\": 1981, \"price\": 301849.5}, {\"sqft_living\": 1982, \"price\": 283200.0}, {\"sqft_living\": 1983, \"price\": 345000.0}, {\"sqft_living\": 1984, \"price\": 324000.0}, {\"sqft_living\": 1987, \"price\": 255000.0}, {\"sqft_living\": 1990, \"price\": 477570.76923076925}, {\"sqft_living\": 1992, \"price\": 429592.0}, {\"sqft_living\": 1995, \"price\": 421875.0}, {\"sqft_living\": 1996, \"price\": 285000.0}, {\"sqft_living\": 2000, \"price\": 460382.94845360826}, {\"sqft_living\": 2005, \"price\": 491000.0}, {\"sqft_living\": 2007, \"price\": 305950.0}, {\"sqft_living\": 2008, \"price\": 460000.0}, {\"sqft_living\": 2009, \"price\": 291105.0}, {\"sqft_living\": 2010, \"price\": 499087.323943662}, {\"sqft_living\": 2014, \"price\": 321000.0}, {\"sqft_living\": 2015, \"price\": 988500.0}, {\"sqft_living\": 2019, \"price\": 293000.0}, {\"sqft_living\": 2020, \"price\": 493889.98913043475}, {\"sqft_living\": 2025, \"price\": 260000.0}, {\"sqft_living\": 2026, \"price\": 358000.0}, {\"sqft_living\": 2029, \"price\": 384435.0}, {\"sqft_living\": 2030, \"price\": 474480.38157894736}, {\"sqft_living\": 2031, \"price\": 335000.0}, {\"sqft_living\": 2034, \"price\": 549000.0}, {\"sqft_living\": 2038, \"price\": 319950.0}, {\"sqft_living\": 2040, \"price\": 499972.79591836734}, {\"sqft_living\": 2044, \"price\": 1000000.0}, {\"sqft_living\": 2050, \"price\": 509064.4556962025}, {\"sqft_living\": 2052, \"price\": 349900.0}, {\"sqft_living\": 2056, \"price\": 296000.0}, {\"sqft_living\": 2060, \"price\": 496028.0752688172}, {\"sqft_living\": 2068, \"price\": 276000.0}, {\"sqft_living\": 2070, \"price\": 503905.8953488372}, {\"sqft_living\": 2074, \"price\": 515100.0}, {\"sqft_living\": 2075, \"price\": 431600.0}, {\"sqft_living\": 2080, \"price\": 489950.7252747253}, {\"sqft_living\": 2085, \"price\": 563500.0}, {\"sqft_living\": 2090, \"price\": 466172.0238095238}, {\"sqft_living\": 2092, \"price\": 390000.0}, {\"sqft_living\": 2093, \"price\": 300000.0}, {\"sqft_living\": 2095, \"price\": 557833.3333333334}, {\"sqft_living\": 2099, \"price\": 289950.0}, {\"sqft_living\": 2100, \"price\": 483806.44859813084}, {\"sqft_living\": 2105, \"price\": 330000.0}, {\"sqft_living\": 2110, \"price\": 505389.1666666667}, {\"sqft_living\": 2115, \"price\": 272000.0}, {\"sqft_living\": 2120, \"price\": 492441.0294117647}, {\"sqft_living\": 2130, \"price\": 524069.07608695654}, {\"sqft_living\": 2134, \"price\": 611000.0}, {\"sqft_living\": 2140, \"price\": 485007.5479452055}, {\"sqft_living\": 2145, \"price\": 734000.0}, {\"sqft_living\": 2150, \"price\": 484650.4691358025}, {\"sqft_living\": 2153, \"price\": 259000.0}, {\"sqft_living\": 2154, \"price\": 362500.0}, {\"sqft_living\": 2155, \"price\": 358800.0}, {\"sqft_living\": 2156, \"price\": 347500.0}, {\"sqft_living\": 2160, \"price\": 540078.7555555556}, {\"sqft_living\": 2163, \"price\": 251500.0}, {\"sqft_living\": 2166, \"price\": 326000.0}, {\"sqft_living\": 2168, \"price\": 600000.0}, {\"sqft_living\": 2170, \"price\": 545462.1369863014}, {\"sqft_living\": 2180, \"price\": 513195.25581395347}, {\"sqft_living\": 2181, \"price\": 340000.0}, {\"sqft_living\": 2190, \"price\": 515212.79069767444}, {\"sqft_living\": 2192, \"price\": 310000.0}, {\"sqft_living\": 2195, \"price\": 392450.0}, {\"sqft_living\": 2196, \"price\": 333500.0}, {\"sqft_living\": 2198, \"price\": 388000.0}, {\"sqft_living\": 2200, \"price\": 472760.5595238095}, {\"sqft_living\": 2201, \"price\": 397000.0}, {\"sqft_living\": 2206, \"price\": 780000.0}, {\"sqft_living\": 2210, \"price\": 497848.71428571426}, {\"sqft_living\": 2216, \"price\": 667000.0}, {\"sqft_living\": 2217, \"price\": 275000.0}, {\"sqft_living\": 2220, \"price\": 549134.25}, {\"sqft_living\": 2223, \"price\": 320000.0}, {\"sqft_living\": 2229, \"price\": 324950.0}, {\"sqft_living\": 2230, \"price\": 539876.8648648649}, {\"sqft_living\": 2233, \"price\": 317500.0}, {\"sqft_living\": 2235, \"price\": 337000.0}, {\"sqft_living\": 2238, \"price\": 330000.0}, {\"sqft_living\": 2240, \"price\": 526968.0104166666}, {\"sqft_living\": 2242, \"price\": 353536.0}, {\"sqft_living\": 2244, \"price\": 269950.0}, {\"sqft_living\": 2245, \"price\": 376427.5}, {\"sqft_living\": 2250, \"price\": 532717.8064516129}, {\"sqft_living\": 2251, \"price\": 305000.0}, {\"sqft_living\": 2253, \"price\": 385000.0}, {\"sqft_living\": 2257, \"price\": 349950.0}, {\"sqft_living\": 2259, \"price\": 262500.0}, {\"sqft_living\": 2260, \"price\": 551373.5}, {\"sqft_living\": 2267, \"price\": 306000.0}, {\"sqft_living\": 2270, \"price\": 508090.5172413793}, {\"sqft_living\": 2280, \"price\": 547687.987012987}, {\"sqft_living\": 2283, \"price\": 389950.0}, {\"sqft_living\": 2286, \"price\": 481000.0}, {\"sqft_living\": 2290, \"price\": 578786.3802816902}, {\"sqft_living\": 2298, \"price\": 372000.0}, {\"sqft_living\": 2300, \"price\": 478826.68055555556}, {\"sqft_living\": 2301, \"price\": 375500.0}, {\"sqft_living\": 2303, \"price\": 384998.3333333333}, {\"sqft_living\": 2305, \"price\": 705000.0}, {\"sqft_living\": 2310, \"price\": 571214.3396226416}, {\"sqft_living\": 2311, \"price\": 399440.0}, {\"sqft_living\": 2313, \"price\": 370000.0}, {\"sqft_living\": 2320, \"price\": 535606.3827160494}, {\"sqft_living\": 2329, \"price\": 433777.5}, {\"sqft_living\": 2330, \"price\": 588449.6268656716}, {\"sqft_living\": 2331, \"price\": 345000.0}, {\"sqft_living\": 2340, \"price\": 539491.5342465753}, {\"sqft_living\": 2341, \"price\": 640000.0}, {\"sqft_living\": 2344, \"price\": 573000.0}, {\"sqft_living\": 2350, \"price\": 610294.2428571428}, {\"sqft_living\": 2360, \"price\": 564637.8676470588}, {\"sqft_living\": 2370, \"price\": 564802.7101449275}, {\"sqft_living\": 2375, \"price\": 712000.0}, {\"sqft_living\": 2380, \"price\": 547849.1355932204}, {\"sqft_living\": 2382, \"price\": 345000.0}, {\"sqft_living\": 2390, \"price\": 565953.1898734177}, {\"sqft_living\": 2395, \"price\": 800000.0}, {\"sqft_living\": 2398, \"price\": 400000.0}, {\"sqft_living\": 2400, \"price\": 511984.3846153846}, {\"sqft_living\": 2403, \"price\": 519900.0}, {\"sqft_living\": 2410, \"price\": 604175.4629629629}, {\"sqft_living\": 2413, \"price\": 454950.0}, {\"sqft_living\": 2414, \"price\": 292000.0}, {\"sqft_living\": 2415, \"price\": 815000.0}, {\"sqft_living\": 2420, \"price\": 558090.8875}, {\"sqft_living\": 2423, \"price\": 290000.0}, {\"sqft_living\": 2424, \"price\": 375000.0}, {\"sqft_living\": 2425, \"price\": 447500.0}, {\"sqft_living\": 2430, \"price\": 541124.2424242424}, {\"sqft_living\": 2432, \"price\": 427000.0}, {\"sqft_living\": 2434, \"price\": 285000.0}, {\"sqft_living\": 2437, \"price\": 285000.0}, {\"sqft_living\": 2440, \"price\": 602900.6666666666}, {\"sqft_living\": 2441, \"price\": 340000.0}, {\"sqft_living\": 2448, \"price\": 447055.0}, {\"sqft_living\": 2450, \"price\": 630011.0212765958}, {\"sqft_living\": 2452, \"price\": 430000.0}, {\"sqft_living\": 2456, \"price\": 329950.0}, {\"sqft_living\": 2460, \"price\": 613216.9836065574}, {\"sqft_living\": 2470, \"price\": 589553.695652174}, {\"sqft_living\": 2473, \"price\": 343000.0}, {\"sqft_living\": 2475, \"price\": 326400.0}, {\"sqft_living\": 2478, \"price\": 386000.0}, {\"sqft_living\": 2480, \"price\": 619019.7704918033}, {\"sqft_living\": 2483, \"price\": 345500.0}, {\"sqft_living\": 2490, \"price\": 621780.0588235294}, {\"sqft_living\": 2495, \"price\": 326333.3333333333}, {\"sqft_living\": 2496, \"price\": 661000.0}, {\"sqft_living\": 2497, \"price\": 275000.0}, {\"sqft_living\": 2500, \"price\": 576582.3529411765}, {\"sqft_living\": 2502, \"price\": 453000.0}, {\"sqft_living\": 2506, \"price\": 357535.0}, {\"sqft_living\": 2507, \"price\": 551870.0}, {\"sqft_living\": 2510, \"price\": 605955.3076923077}, {\"sqft_living\": 2514, \"price\": 575000.0}, {\"sqft_living\": 2517, \"price\": 353900.0}, {\"sqft_living\": 2518, \"price\": 643000.0}, {\"sqft_living\": 2519, \"price\": 505000.0}, {\"sqft_living\": 2520, \"price\": 593274.2461538462}, {\"sqft_living\": 2530, \"price\": 559879.7391304348}, {\"sqft_living\": 2531, \"price\": 370000.0}, {\"sqft_living\": 2538, \"price\": 335606.0}, {\"sqft_living\": 2540, \"price\": 585837.8571428572}, {\"sqft_living\": 2542, \"price\": 359950.0}, {\"sqft_living\": 2544, \"price\": 415000.0}, {\"sqft_living\": 2547, \"price\": 392440.0}, {\"sqft_living\": 2550, \"price\": 589956.0303030303}, {\"sqft_living\": 2557, \"price\": 594950.0}, {\"sqft_living\": 2560, \"price\": 628249.2448979592}, {\"sqft_living\": 2568, \"price\": 425996.0}, {\"sqft_living\": 2570, \"price\": 620867.6785714285}, {\"sqft_living\": 2575, \"price\": 359000.0}, {\"sqft_living\": 2577, \"price\": 495000.0}, {\"sqft_living\": 2578, \"price\": 400950.0}, {\"sqft_living\": 2580, \"price\": 623357.5217391305}, {\"sqft_living\": 2588, \"price\": 320500.0}, {\"sqft_living\": 2590, \"price\": 628729.0961538461}, {\"sqft_living\": 2594, \"price\": 351000.0}, {\"sqft_living\": 2598, \"price\": 428900.0}, {\"sqft_living\": 2600, \"price\": 580906.3492063492}, {\"sqft_living\": 2601, \"price\": 625000.0}, {\"sqft_living\": 2605, \"price\": 802233.3333333334}, {\"sqft_living\": 2610, \"price\": 683208.5106382979}, {\"sqft_living\": 2612, \"price\": 379950.0}, {\"sqft_living\": 2620, \"price\": 639526.0}, {\"sqft_living\": 2623, \"price\": 333000.0}, {\"sqft_living\": 2628, \"price\": 499160.0}, {\"sqft_living\": 2630, \"price\": 618429.68}, {\"sqft_living\": 2632, \"price\": 695000.0}, {\"sqft_living\": 2640, \"price\": 671070.2608695652}, {\"sqft_living\": 2641, \"price\": 358975.0}, {\"sqft_living\": 2650, \"price\": 603935.1964285715}, {\"sqft_living\": 2653, \"price\": 365000.0}, {\"sqft_living\": 2656, \"price\": 495000.0}, {\"sqft_living\": 2658, \"price\": 411605.0}, {\"sqft_living\": 2660, \"price\": 702259.6071428572}, {\"sqft_living\": 2669, \"price\": 402395.0}, {\"sqft_living\": 2670, \"price\": 590066.1627906977}, {\"sqft_living\": 2672, \"price\": 700000.0}, {\"sqft_living\": 2675, \"price\": 660000.0}, {\"sqft_living\": 2678, \"price\": 546200.0}, {\"sqft_living\": 2680, \"price\": 614617.0327868853}, {\"sqft_living\": 2683, \"price\": 822000.0}, {\"sqft_living\": 2689, \"price\": 396500.0}, {\"sqft_living\": 2690, \"price\": 600272.0263157894}, {\"sqft_living\": 2692, \"price\": 435000.0}, {\"sqft_living\": 2700, \"price\": 673063.8070175438}, {\"sqft_living\": 2701, \"price\": 334947.5}, {\"sqft_living\": 2708, \"price\": 436952.0}, {\"sqft_living\": 2710, \"price\": 632419.9607843137}, {\"sqft_living\": 2714, \"price\": 475115.0}, {\"sqft_living\": 2716, \"price\": 452000.0}, {\"sqft_living\": 2717, \"price\": 338500.0}, {\"sqft_living\": 2718, \"price\": 388500.0}, {\"sqft_living\": 2720, \"price\": 674266.3636363636}, {\"sqft_living\": 2730, \"price\": 641392.4285714285}, {\"sqft_living\": 2732, \"price\": 480000.0}, {\"sqft_living\": 2734, \"price\": 520000.0}, {\"sqft_living\": 2738, \"price\": 395950.0}, {\"sqft_living\": 2740, \"price\": 583053.5208333334}, {\"sqft_living\": 2744, \"price\": 300000.0}, {\"sqft_living\": 2750, \"price\": 710885.8378378379}, {\"sqft_living\": 2753, \"price\": 1350000.0}, {\"sqft_living\": 2755, \"price\": 585125.0}, {\"sqft_living\": 2760, \"price\": 626000.525}, {\"sqft_living\": 2770, \"price\": 674362.7843137255}, {\"sqft_living\": 2780, \"price\": 710934.3829787234}, {\"sqft_living\": 2789, \"price\": 272000.0}, {\"sqft_living\": 2790, \"price\": 689511.1739130435}, {\"sqft_living\": 2795, \"price\": 562000.0}, {\"sqft_living\": 2798, \"price\": 469975.0}, {\"sqft_living\": 2800, \"price\": 639648.3333333334}, {\"sqft_living\": 2803, \"price\": 379000.0}, {\"sqft_living\": 2807, \"price\": 630000.0}, {\"sqft_living\": 2810, \"price\": 651871.25}, {\"sqft_living\": 2811, \"price\": 455000.0}, {\"sqft_living\": 2815, \"price\": 484250.0}, {\"sqft_living\": 2820, \"price\": 628956.2653061225}, {\"sqft_living\": 2828, \"price\": 367000.0}, {\"sqft_living\": 2830, \"price\": 746895.7894736842}, {\"sqft_living\": 2835, \"price\": 522000.0}, {\"sqft_living\": 2840, \"price\": 647014.2978723404}, {\"sqft_living\": 2844, \"price\": 359950.0}, {\"sqft_living\": 2846, \"price\": 482000.0}, {\"sqft_living\": 2849, \"price\": 798000.0}, {\"sqft_living\": 2850, \"price\": 731182.4375}, {\"sqft_living\": 2860, \"price\": 757106.4285714285}, {\"sqft_living\": 2870, \"price\": 761447.4166666666}, {\"sqft_living\": 2876, \"price\": 895000.0}, {\"sqft_living\": 2880, \"price\": 767639.5348837209}, {\"sqft_living\": 2885, \"price\": 605000.0}, {\"sqft_living\": 2890, \"price\": 734287.5}, {\"sqft_living\": 2891, \"price\": 415000.0}, {\"sqft_living\": 2900, \"price\": 686776.5625}, {\"sqft_living\": 2905, \"price\": 365000.0}, {\"sqft_living\": 2906, \"price\": 418395.0}, {\"sqft_living\": 2910, \"price\": 749837.9107142857}, {\"sqft_living\": 2920, \"price\": 798817.9487179487}, {\"sqft_living\": 2927, \"price\": 561000.0}, {\"sqft_living\": 2930, \"price\": 717452.5588235294}, {\"sqft_living\": 2940, \"price\": 723067.3125}, {\"sqft_living\": 2950, \"price\": 745914.4285714285}, {\"sqft_living\": 2960, \"price\": 752645.2571428572}, {\"sqft_living\": 2961, \"price\": 695000.0}, {\"sqft_living\": 2963, \"price\": 325000.0}, {\"sqft_living\": 2970, \"price\": 739412.08}, {\"sqft_living\": 2979, \"price\": 912000.0}, {\"sqft_living\": 2980, \"price\": 760288.3962264151}, {\"sqft_living\": 2990, \"price\": 654082.7209302326}, {\"sqft_living\": 2993, \"price\": 540000.0}, {\"sqft_living\": 3000, \"price\": 692889.1891891892}, {\"sqft_living\": 3001, \"price\": 373000.0}, {\"sqft_living\": 3002, \"price\": 394500.0}, {\"sqft_living\": 3004, \"price\": 398000.0}, {\"sqft_living\": 3010, \"price\": 756799.4888888889}, {\"sqft_living\": 3020, \"price\": 733682.7222222222}, {\"sqft_living\": 3028, \"price\": 480000.0}, {\"sqft_living\": 3030, \"price\": 734226.2558139535}, {\"sqft_living\": 3040, \"price\": 709528.2142857143}, {\"sqft_living\": 3045, \"price\": 414000.0}, {\"sqft_living\": 3050, \"price\": 762510.4166666666}, {\"sqft_living\": 3052, \"price\": 425000.0}, {\"sqft_living\": 3056, \"price\": 524225.0}, {\"sqft_living\": 3060, \"price\": 687107.0645161291}, {\"sqft_living\": 3065, \"price\": 729000.0}, {\"sqft_living\": 3070, \"price\": 887840.7647058824}, {\"sqft_living\": 3078, \"price\": 459950.0}, {\"sqft_living\": 3080, \"price\": 749420.28125}, {\"sqft_living\": 3085, \"price\": 359000.0}, {\"sqft_living\": 3087, \"price\": 399950.0}, {\"sqft_living\": 3090, \"price\": 820957.2857142857}, {\"sqft_living\": 3100, \"price\": 762568.1818181818}, {\"sqft_living\": 3110, \"price\": 808480.9375}, {\"sqft_living\": 3118, \"price\": 541800.0}, {\"sqft_living\": 3120, \"price\": 858802.4782608695}, {\"sqft_living\": 3130, \"price\": 766964.5454545454}, {\"sqft_living\": 3133, \"price\": 685000.0}, {\"sqft_living\": 3135, \"price\": 374500.0}, {\"sqft_living\": 3136, \"price\": 665000.0}, {\"sqft_living\": 3140, \"price\": 696587.9333333333}, {\"sqft_living\": 3148, \"price\": 550000.0}, {\"sqft_living\": 3150, \"price\": 744113.6666666666}, {\"sqft_living\": 3160, \"price\": 801197.9591836735}, {\"sqft_living\": 3170, \"price\": 843623.9090909091}, {\"sqft_living\": 3172, \"price\": 432500.0}, {\"sqft_living\": 3176, \"price\": 819000.0}, {\"sqft_living\": 3180, \"price\": 884839.3333333334}, {\"sqft_living\": 3181, \"price\": 379900.0}, {\"sqft_living\": 3190, \"price\": 829002.9782608695}, {\"sqft_living\": 3192, \"price\": 427000.0}, {\"sqft_living\": 3200, \"price\": 766575.8125}, {\"sqft_living\": 3202, \"price\": 460940.0}, {\"sqft_living\": 3206, \"price\": 375000.0}, {\"sqft_living\": 3210, \"price\": 749635.7142857143}, {\"sqft_living\": 3216, \"price\": 498445.0}, {\"sqft_living\": 3217, \"price\": 458000.0}, {\"sqft_living\": 3220, \"price\": 713510.8235294118}, {\"sqft_living\": 3223, \"price\": 474649.5}, {\"sqft_living\": 3230, \"price\": 841667.9696969697}, {\"sqft_living\": 3236, \"price\": 450000.0}, {\"sqft_living\": 3238, \"price\": 355425.0}, {\"sqft_living\": 3240, \"price\": 861739.4230769231}, {\"sqft_living\": 3250, \"price\": 750358.24}, {\"sqft_living\": 3260, \"price\": 831317.6470588235}, {\"sqft_living\": 3266, \"price\": 421475.0}, {\"sqft_living\": 3270, \"price\": 805144.5}, {\"sqft_living\": 3273, \"price\": 485000.0}, {\"sqft_living\": 3274, \"price\": 478830.0}, {\"sqft_living\": 3276, \"price\": 720000.0}, {\"sqft_living\": 3280, \"price\": 945301.7857142857}, {\"sqft_living\": 3281, \"price\": 471835.0}, {\"sqft_living\": 3284, \"price\": 460458.0}, {\"sqft_living\": 3290, \"price\": 763585.1851851852}, {\"sqft_living\": 3300, \"price\": 874018.9}, {\"sqft_living\": 3310, \"price\": 801826.3157894737}, {\"sqft_living\": 3316, \"price\": 490600.0}, {\"sqft_living\": 3320, \"price\": 842860.1142857143}, {\"sqft_living\": 3330, \"price\": 1129829.4117647058}, {\"sqft_living\": 3340, \"price\": 775627.2727272727}, {\"sqft_living\": 3350, \"price\": 788970.5294117647}, {\"sqft_living\": 3360, \"price\": 803664.75}, {\"sqft_living\": 3361, \"price\": 471275.0}, {\"sqft_living\": 3362, \"price\": 410500.0}, {\"sqft_living\": 3366, \"price\": 1300000.0}, {\"sqft_living\": 3370, \"price\": 842805.0}, {\"sqft_living\": 3380, \"price\": 750240.625}, {\"sqft_living\": 3390, \"price\": 657406.0}, {\"sqft_living\": 3400, \"price\": 825550.0}, {\"sqft_living\": 3402, \"price\": 498000.0}, {\"sqft_living\": 3410, \"price\": 984823.9130434783}, {\"sqft_living\": 3420, \"price\": 804291.1724137932}, {\"sqft_living\": 3430, \"price\": 792462.125}, {\"sqft_living\": 3440, \"price\": 816939.25}, {\"sqft_living\": 3444, \"price\": 430236.0}, {\"sqft_living\": 3450, \"price\": 957042.6086956522}, {\"sqft_living\": 3460, \"price\": 919435.6666666666}, {\"sqft_living\": 3470, \"price\": 973105.5555555555}, {\"sqft_living\": 3480, \"price\": 943321.8}, {\"sqft_living\": 3490, \"price\": 967344.2307692308}, {\"sqft_living\": 3500, \"price\": 863605.5555555555}, {\"sqft_living\": 3504, \"price\": 330000.0}, {\"sqft_living\": 3510, \"price\": 928315.4}, {\"sqft_living\": 3520, \"price\": 969043.5}, {\"sqft_living\": 3526, \"price\": 911000.0}, {\"sqft_living\": 3527, \"price\": 340000.0}, {\"sqft_living\": 3530, \"price\": 1081857.0}, {\"sqft_living\": 3540, \"price\": 1002185.4545454546}, {\"sqft_living\": 3545, \"price\": 1030000.0}, {\"sqft_living\": 3550, \"price\": 808183.75}, {\"sqft_living\": 3555, \"price\": 895990.0}, {\"sqft_living\": 3560, \"price\": 905290.3076923077}, {\"sqft_living\": 3569, \"price\": 580000.0}, {\"sqft_living\": 3570, \"price\": 952553.7333333333}, {\"sqft_living\": 3580, \"price\": 896777.8571428572}, {\"sqft_living\": 3590, \"price\": 970333.3333333334}, {\"sqft_living\": 3595, \"price\": 861990.0}, {\"sqft_living\": 3596, \"price\": 580000.0}, {\"sqft_living\": 3597, \"price\": 330000.0}, {\"sqft_living\": 3600, \"price\": 953329.2727272727}, {\"sqft_living\": 3610, \"price\": 744212.5882352941}, {\"sqft_living\": 3620, \"price\": 988300.0}, {\"sqft_living\": 3630, \"price\": 828822.7272727273}, {\"sqft_living\": 3640, \"price\": 1015967.6923076923}, {\"sqft_living\": 3650, \"price\": 1139418.3333333333}, {\"sqft_living\": 3655, \"price\": 740000.0}, {\"sqft_living\": 3660, \"price\": 890340.0}, {\"sqft_living\": 3670, \"price\": 893910.7142857143}, {\"sqft_living\": 3672, \"price\": 405000.0}, {\"sqft_living\": 3674, \"price\": 699950.0}, {\"sqft_living\": 3680, \"price\": 1000841.052631579}, {\"sqft_living\": 3690, \"price\": 948545.4545454546}, {\"sqft_living\": 3691, \"price\": 800000.0}, {\"sqft_living\": 3700, \"price\": 998465.625}, {\"sqft_living\": 3710, \"price\": 957245.0}, {\"sqft_living\": 3720, \"price\": 961969.4736842106}, {\"sqft_living\": 3730, \"price\": 959600.0}, {\"sqft_living\": 3732, \"price\": 1225000.0}, {\"sqft_living\": 3740, \"price\": 827356.9285714285}, {\"sqft_living\": 3750, \"price\": 1217250.0}, {\"sqft_living\": 3753, \"price\": 363000.0}, {\"sqft_living\": 3760, \"price\": 966226.7058823529}, {\"sqft_living\": 3770, \"price\": 1111958.3333333333}, {\"sqft_living\": 3780, \"price\": 1064188.5714285714}, {\"sqft_living\": 3786, \"price\": 1379900.0}, {\"sqft_living\": 3790, \"price\": 1300212.5}, {\"sqft_living\": 3800, \"price\": 792433.3333333334}, {\"sqft_living\": 3810, \"price\": 1009081.8181818182}, {\"sqft_living\": 3820, \"price\": 1000677.2727272727}, {\"sqft_living\": 3828, \"price\": 552900.0}, {\"sqft_living\": 3830, \"price\": 1026858.0}, {\"sqft_living\": 3831, \"price\": 2700000.0}, {\"sqft_living\": 3840, \"price\": 1009638.4615384615}, {\"sqft_living\": 3845, \"price\": 1750000.0}, {\"sqft_living\": 3847, \"price\": 810000.0}, {\"sqft_living\": 3850, \"price\": 946000.0}, {\"sqft_living\": 3860, \"price\": 923443.4615384615}, {\"sqft_living\": 3870, \"price\": 948724.0}, {\"sqft_living\": 3880, \"price\": 853650.0}, {\"sqft_living\": 3890, \"price\": 1242525.0}, {\"sqft_living\": 3900, \"price\": 1145375.0}, {\"sqft_living\": 3902, \"price\": 1300000.0}, {\"sqft_living\": 3906, \"price\": 549950.0}, {\"sqft_living\": 3910, \"price\": 1201458.3333333333}, {\"sqft_living\": 3915, \"price\": 963990.0}, {\"sqft_living\": 3920, \"price\": 1101050.0}, {\"sqft_living\": 3930, \"price\": 1370595.0}, {\"sqft_living\": 3940, \"price\": 1189715.625}, {\"sqft_living\": 3950, \"price\": 1225703.8461538462}, {\"sqft_living\": 3960, \"price\": 1130518.1818181819}, {\"sqft_living\": 3970, \"price\": 1144561.25}, {\"sqft_living\": 3980, \"price\": 1135566.6666666667}, {\"sqft_living\": 3990, \"price\": 971615.3846153846}, {\"sqft_living\": 4000, \"price\": 731825.0}, {\"sqft_living\": 4010, \"price\": 1238222.2222222222}, {\"sqft_living\": 4020, \"price\": 1289500.0}, {\"sqft_living\": 4030, \"price\": 1007700.0}, {\"sqft_living\": 4040, \"price\": 1242262.5}, {\"sqft_living\": 4050, \"price\": 1176333.3333333333}, {\"sqft_living\": 4060, \"price\": 967714.2857142857}, {\"sqft_living\": 4065, \"price\": 1950000.0}, {\"sqft_living\": 4070, \"price\": 1391937.5}, {\"sqft_living\": 4073, \"price\": 510000.0}, {\"sqft_living\": 4080, \"price\": 918800.0}, {\"sqft_living\": 4083, \"price\": 637000.0}, {\"sqft_living\": 4090, \"price\": 1305714.2857142857}, {\"sqft_living\": 4100, \"price\": 1384000.0}, {\"sqft_living\": 4110, \"price\": 1264558.888888889}, {\"sqft_living\": 4115, \"price\": 988830.0}, {\"sqft_living\": 4120, \"price\": 1115976.6}, {\"sqft_living\": 4130, \"price\": 1555600.0}, {\"sqft_living\": 4133, \"price\": 979500.0}, {\"sqft_living\": 4140, \"price\": 1008737.5}, {\"sqft_living\": 4150, \"price\": 1270053.3333333333}, {\"sqft_living\": 4160, \"price\": 1254800.0}, {\"sqft_living\": 4170, \"price\": 992825.0}, {\"sqft_living\": 4180, \"price\": 1042224.2857142857}, {\"sqft_living\": 4190, \"price\": 1245200.0}, {\"sqft_living\": 4200, \"price\": 1433333.3333333333}, {\"sqft_living\": 4210, \"price\": 1138125.6666666667}, {\"sqft_living\": 4220, \"price\": 1524158.3333333333}, {\"sqft_living\": 4225, \"price\": 1005000.0}, {\"sqft_living\": 4230, \"price\": 1463911.111111111}, {\"sqft_living\": 4240, \"price\": 1244705.0}, {\"sqft_living\": 4250, \"price\": 1487500.0}, {\"sqft_living\": 4260, \"price\": 1175000.0}, {\"sqft_living\": 4270, \"price\": 1169608.75}, {\"sqft_living\": 4280, \"price\": 1376271.111111111}, {\"sqft_living\": 4285, \"price\": 1650000.0}, {\"sqft_living\": 4290, \"price\": 1423071.4285714286}, {\"sqft_living\": 4300, \"price\": 854750.0}, {\"sqft_living\": 4310, \"price\": 1211250.0}, {\"sqft_living\": 4320, \"price\": 1225450.0}, {\"sqft_living\": 4330, \"price\": 722800.0}, {\"sqft_living\": 4340, \"price\": 1243166.6666666667}, {\"sqft_living\": 4350, \"price\": 1132400.0}, {\"sqft_living\": 4360, \"price\": 1634156.6666666667}, {\"sqft_living\": 4370, \"price\": 1295531.4285714286}, {\"sqft_living\": 4380, \"price\": 1080166.6666666667}, {\"sqft_living\": 4386, \"price\": 545000.0}, {\"sqft_living\": 4390, \"price\": 1361285.7142857143}, {\"sqft_living\": 4400, \"price\": 1189250.0}, {\"sqft_living\": 4410, \"price\": 1478250.0}, {\"sqft_living\": 4420, \"price\": 1553833.3333333333}, {\"sqft_living\": 4430, \"price\": 1801000.0}, {\"sqft_living\": 4440, \"price\": 1276000.0}, {\"sqft_living\": 4450, \"price\": 1072975.0}, {\"sqft_living\": 4460, \"price\": 1292243.75}, {\"sqft_living\": 4470, \"price\": 1123360.0}, {\"sqft_living\": 4475, \"price\": 1035480.0}, {\"sqft_living\": 4480, \"price\": 1412500.0}, {\"sqft_living\": 4490, \"price\": 2005500.0}, {\"sqft_living\": 4500, \"price\": 1389000.0}, {\"sqft_living\": 4510, \"price\": 1580666.6666666667}, {\"sqft_living\": 4520, \"price\": 900000.0}, {\"sqft_living\": 4530, \"price\": 1115000.0}, {\"sqft_living\": 4540, \"price\": 1150000.0}, {\"sqft_living\": 4550, \"price\": 1050000.0}, {\"sqft_living\": 4560, \"price\": 1171250.0}, {\"sqft_living\": 4570, \"price\": 1284975.0}, {\"sqft_living\": 4575, \"price\": 2920000.0}, {\"sqft_living\": 4580, \"price\": 2450000.0}, {\"sqft_living\": 4590, \"price\": 1886666.6666666667}, {\"sqft_living\": 4600, \"price\": 828333.3333333334}, {\"sqft_living\": 4610, \"price\": 1046600.0}, {\"sqft_living\": 4620, \"price\": 987500.0}, {\"sqft_living\": 4640, \"price\": 1832666.6666666667}, {\"sqft_living\": 4645, \"price\": 1595000.0}, {\"sqft_living\": 4650, \"price\": 1367500.0}, {\"sqft_living\": 4660, \"price\": 1585020.0}, {\"sqft_living\": 4670, \"price\": 1725000.0}, {\"sqft_living\": 4680, \"price\": 1350000.0}, {\"sqft_living\": 4690, \"price\": 1669333.3333333333}, {\"sqft_living\": 4700, \"price\": 1346166.6666666667}, {\"sqft_living\": 4710, \"price\": 2180000.0}, {\"sqft_living\": 4720, \"price\": 1043333.3333333334}, {\"sqft_living\": 4730, \"price\": 2924250.0}, {\"sqft_living\": 4740, \"price\": 1073000.0}, {\"sqft_living\": 4750, \"price\": 1172800.0}, {\"sqft_living\": 4760, \"price\": 2250000.0}, {\"sqft_living\": 4770, \"price\": 1040000.0}, {\"sqft_living\": 4790, \"price\": 1246750.0}, {\"sqft_living\": 4800, \"price\": 1975000.0}, {\"sqft_living\": 4810, \"price\": 3204000.0}, {\"sqft_living\": 4820, \"price\": 1063000.0}, {\"sqft_living\": 4830, \"price\": 1679000.0}, {\"sqft_living\": 4850, \"price\": 2027987.5}, {\"sqft_living\": 4860, \"price\": 2089000.0}, {\"sqft_living\": 4870, \"price\": 1228750.0}, {\"sqft_living\": 4883, \"price\": 537000.0}, {\"sqft_living\": 4890, \"price\": 2400000.0}, {\"sqft_living\": 4910, \"price\": 1433166.6666666667}, {\"sqft_living\": 4920, \"price\": 850000.0}, {\"sqft_living\": 4930, \"price\": 1045000.0}, {\"sqft_living\": 4940, \"price\": 800000.0}, {\"sqft_living\": 4960, \"price\": 1425000.0}, {\"sqft_living\": 4970, \"price\": 1436000.0}, {\"sqft_living\": 4980, \"price\": 1250000.0}, {\"sqft_living\": 5000, \"price\": 1476666.6666666667}, {\"sqft_living\": 5010, \"price\": 965000.0}, {\"sqft_living\": 5030, \"price\": 2450000.0}, {\"sqft_living\": 5040, \"price\": 2532000.0}, {\"sqft_living\": 5050, \"price\": 2185000.0}, {\"sqft_living\": 5067, \"price\": 452000.0}, {\"sqft_living\": 5090, \"price\": 3000000.0}, {\"sqft_living\": 5100, \"price\": 936000.0}, {\"sqft_living\": 5110, \"price\": 650000.0}, {\"sqft_living\": 5120, \"price\": 1393750.0}, {\"sqft_living\": 5150, \"price\": 1759000.0}, {\"sqft_living\": 5170, \"price\": 1680000.0}, {\"sqft_living\": 5180, \"price\": 1662500.0}, {\"sqft_living\": 5190, \"price\": 2900000.0}, {\"sqft_living\": 5210, \"price\": 2195000.0}, {\"sqft_living\": 5220, \"price\": 1481000.0}, {\"sqft_living\": 5230, \"price\": 2693750.0}, {\"sqft_living\": 5250, \"price\": 915000.0}, {\"sqft_living\": 5270, \"price\": 1725666.6666666667}, {\"sqft_living\": 5280, \"price\": 1550000.0}, {\"sqft_living\": 5290, \"price\": 1745000.0}, {\"sqft_living\": 5300, \"price\": 1852500.0}, {\"sqft_living\": 5305, \"price\": 2700000.0}, {\"sqft_living\": 5310, \"price\": 2300000.0}, {\"sqft_living\": 5340, \"price\": 2095000.0}, {\"sqft_living\": 5350, \"price\": 3345000.0}, {\"sqft_living\": 5360, \"price\": 700000.0}, {\"sqft_living\": 5370, \"price\": 1699975.0}, {\"sqft_living\": 5400, \"price\": 1210000.0}, {\"sqft_living\": 5403, \"price\": 2125000.0}, {\"sqft_living\": 5410, \"price\": 2544750.0}, {\"sqft_living\": 5430, \"price\": 1360000.0}, {\"sqft_living\": 5440, \"price\": 850000.0}, {\"sqft_living\": 5450, \"price\": 2014400.0}, {\"sqft_living\": 5461, \"price\": 545000.0}, {\"sqft_living\": 5470, \"price\": 1293750.0}, {\"sqft_living\": 5480, \"price\": 1600000.0}, {\"sqft_living\": 5510, \"price\": 3800000.0}, {\"sqft_living\": 5520, \"price\": 1270000.0}, {\"sqft_living\": 5530, \"price\": 1350000.0}, {\"sqft_living\": 5540, \"price\": 2602500.0}, {\"sqft_living\": 5545, \"price\": 937500.0}, {\"sqft_living\": 5550, \"price\": 2570000.0}, {\"sqft_living\": 5570, \"price\": 1855000.0}, {\"sqft_living\": 5600, \"price\": 1089000.0}, {\"sqft_living\": 5610, \"price\": 995000.0}, {\"sqft_living\": 5620, \"price\": 1569500.0}, {\"sqft_living\": 5635, \"price\": 950000.0}, {\"sqft_living\": 5660, \"price\": 955000.0}, {\"sqft_living\": 5700, \"price\": 1385000.0}, {\"sqft_living\": 5760, \"price\": 2880500.0}, {\"sqft_living\": 5770, \"price\": 1535000.0}, {\"sqft_living\": 5774, \"price\": 740000.0}, {\"sqft_living\": 5780, \"price\": 2605500.0}, {\"sqft_living\": 5810, \"price\": 1875000.0}, {\"sqft_living\": 5820, \"price\": 784500.0}, {\"sqft_living\": 5840, \"price\": 2200000.0}, {\"sqft_living\": 5844, \"price\": 1275000.0}, {\"sqft_living\": 5850, \"price\": 1700000.0}, {\"sqft_living\": 5860, \"price\": 1157200.0}, {\"sqft_living\": 5930, \"price\": 1520000.0}, {\"sqft_living\": 5960, \"price\": 1247500.0}, {\"sqft_living\": 5990, \"price\": 2200000.0}, {\"sqft_living\": 6040, \"price\": 1150000.0}, {\"sqft_living\": 6050, \"price\": 930000.0}, {\"sqft_living\": 6200, \"price\": 2629500.0}, {\"sqft_living\": 6210, \"price\": 3200000.0}, {\"sqft_living\": 6330, \"price\": 2385000.0}, {\"sqft_living\": 6370, \"price\": 1800000.0}, {\"sqft_living\": 6380, \"price\": 1822500.0}, {\"sqft_living\": 6400, \"price\": 1325000.0}, {\"sqft_living\": 6410, \"price\": 2725000.0}, {\"sqft_living\": 6430, \"price\": 4489000.0}, {\"sqft_living\": 6490, \"price\": 2000000.0}, {\"sqft_living\": 6563, \"price\": 1300000.0}, {\"sqft_living\": 6810, \"price\": 2479000.0}, {\"sqft_living\": 6840, \"price\": 3278000.0}, {\"sqft_living\": 6980, \"price\": 3100000.0}, {\"sqft_living\": 7320, \"price\": 1135250.0}, {\"sqft_living\": 7620, \"price\": 1680000.0}, {\"sqft_living\": 7880, \"price\": 2415000.0}]}}, {\"mode\": \"vega-lite\"});\n",
              "</script>"
            ],
            "text/plain": [
              "alt.Chart(...)"
            ]
          },
          "metadata": {},
          "execution_count": 91
        }
      ]
    },
    {
      "cell_type": "markdown",
      "source": [
        "### **Sqft_living15**"
      ],
      "metadata": {
        "id": "2vNcb5ujaWR4"
      }
    },
    {
      "cell_type": "code",
      "source": [
        "house_data['sqft_living15'].value_counts()\n",
        "house_data = house_data[house_data['sqft_living15'] >= 500]\n",
        "house_data = house_data[house_data['sqft_living15'] <= 4000]\n",
        "# Calculate the count of sqft_living15 values\n",
        "count_sqft_living15 = house_data['sqft_living15'].value_counts().reset_index()\n",
        "\n",
        "# Rename the columns\n",
        "count_sqft_living15.columns = ['sqft_living15', 'count']\n",
        "\n",
        "# Create the bar chart for count of sqft_living15\n",
        "bar_chart = alt.Chart(count_sqft_living15).mark_bar().encode(\n",
        "    x=alt.X('sqft_living15:Q', title='Sqft Living 15'),\n",
        "    y=alt.Y('count:Q', title='Count'),\n",
        "    tooltip=['sqft_living15', 'count']\n",
        ").properties(\n",
        "    title='Count of Sqft Living 15'\n",
        ")\n",
        "\n",
        "# Display the bar chart\n",
        "bar_chart"
      ],
      "metadata": {
        "colab": {
          "base_uri": "https://localhost:8080/",
          "height": 386
        },
        "id": "W6VnuNXNaZEh",
        "outputId": "e4828c84-a008-41b3-96ac-27a2f09d395b"
      },
      "execution_count": 84,
      "outputs": [
        {
          "output_type": "execute_result",
          "data": {
            "text/html": [
              "\n",
              "<div id=\"altair-viz-15381b89b2bc49a882946be161505420\"></div>\n",
              "<script type=\"text/javascript\">\n",
              "  var VEGA_DEBUG = (typeof VEGA_DEBUG == \"undefined\") ? {} : VEGA_DEBUG;\n",
              "  (function(spec, embedOpt){\n",
              "    let outputDiv = document.currentScript.previousElementSibling;\n",
              "    if (outputDiv.id !== \"altair-viz-15381b89b2bc49a882946be161505420\") {\n",
              "      outputDiv = document.getElementById(\"altair-viz-15381b89b2bc49a882946be161505420\");\n",
              "    }\n",
              "    const paths = {\n",
              "      \"vega\": \"https://cdn.jsdelivr.net/npm//vega@5?noext\",\n",
              "      \"vega-lib\": \"https://cdn.jsdelivr.net/npm//vega-lib?noext\",\n",
              "      \"vega-lite\": \"https://cdn.jsdelivr.net/npm//vega-lite@4.17.0?noext\",\n",
              "      \"vega-embed\": \"https://cdn.jsdelivr.net/npm//vega-embed@6?noext\",\n",
              "    };\n",
              "\n",
              "    function maybeLoadScript(lib, version) {\n",
              "      var key = `${lib.replace(\"-\", \"\")}_version`;\n",
              "      return (VEGA_DEBUG[key] == version) ?\n",
              "        Promise.resolve(paths[lib]) :\n",
              "        new Promise(function(resolve, reject) {\n",
              "          var s = document.createElement('script');\n",
              "          document.getElementsByTagName(\"head\")[0].appendChild(s);\n",
              "          s.async = true;\n",
              "          s.onload = () => {\n",
              "            VEGA_DEBUG[key] = version;\n",
              "            return resolve(paths[lib]);\n",
              "          };\n",
              "          s.onerror = () => reject(`Error loading script: ${paths[lib]}`);\n",
              "          s.src = paths[lib];\n",
              "        });\n",
              "    }\n",
              "\n",
              "    function showError(err) {\n",
              "      outputDiv.innerHTML = `<div class=\"error\" style=\"color:red;\">${err}</div>`;\n",
              "      throw err;\n",
              "    }\n",
              "\n",
              "    function displayChart(vegaEmbed) {\n",
              "      vegaEmbed(outputDiv, spec, embedOpt)\n",
              "        .catch(err => showError(`Javascript Error: ${err.message}<br>This usually means there's a typo in your chart specification. See the javascript console for the full traceback.`));\n",
              "    }\n",
              "\n",
              "    if(typeof define === \"function\" && define.amd) {\n",
              "      requirejs.config({paths});\n",
              "      require([\"vega-embed\"], displayChart, err => showError(`Error loading script: ${err.message}`));\n",
              "    } else {\n",
              "      maybeLoadScript(\"vega\", \"5\")\n",
              "        .then(() => maybeLoadScript(\"vega-lite\", \"4.17.0\"))\n",
              "        .then(() => maybeLoadScript(\"vega-embed\", \"6\"))\n",
              "        .catch(showError)\n",
              "        .then(() => displayChart(vegaEmbed));\n",
              "    }\n",
              "  })({\"config\": {\"view\": {\"continuousWidth\": 400, \"continuousHeight\": 300}}, \"data\": {\"name\": \"data-a9e8bdb1266fe48236fa3e2adfff6bb4\"}, \"mark\": \"bar\", \"encoding\": {\"tooltip\": [{\"field\": \"sqft_living15\", \"type\": \"quantitative\"}, {\"field\": \"count\", \"type\": \"quantitative\"}], \"x\": {\"field\": \"sqft_living15\", \"title\": \"Sqft Living 15\", \"type\": \"quantitative\"}, \"y\": {\"field\": \"count\", \"title\": \"Count\", \"type\": \"quantitative\"}}, \"title\": \"Count of Sqft Living 15\", \"$schema\": \"https://vega.github.io/schema/vega-lite/v4.17.0.json\", \"datasets\": {\"data-a9e8bdb1266fe48236fa3e2adfff6bb4\": [{\"sqft_living15\": 1540, \"count\": 183}, {\"sqft_living15\": 1560, \"count\": 177}, {\"sqft_living15\": 1440, \"count\": 175}, {\"sqft_living15\": 1500, \"count\": 163}, {\"sqft_living15\": 1610, \"count\": 159}, {\"sqft_living15\": 1510, \"count\": 152}, {\"sqft_living15\": 1580, \"count\": 152}, {\"sqft_living15\": 1460, \"count\": 151}, {\"sqft_living15\": 1620, \"count\": 151}, {\"sqft_living15\": 1820, \"count\": 150}, {\"sqft_living15\": 1680, \"count\": 149}, {\"sqft_living15\": 1480, \"count\": 148}, {\"sqft_living15\": 1410, \"count\": 148}, {\"sqft_living15\": 1670, \"count\": 148}, {\"sqft_living15\": 1800, \"count\": 147}, {\"sqft_living15\": 1720, \"count\": 147}, {\"sqft_living15\": 1550, \"count\": 145}, {\"sqft_living15\": 1520, \"count\": 145}, {\"sqft_living15\": 1780, \"count\": 145}, {\"sqft_living15\": 1470, \"count\": 144}, {\"sqft_living15\": 1640, \"count\": 142}, {\"sqft_living15\": 1760, \"count\": 142}, {\"sqft_living15\": 1660, \"count\": 142}, {\"sqft_living15\": 1570, \"count\": 140}, {\"sqft_living15\": 1320, \"count\": 140}, {\"sqft_living15\": 1600, \"count\": 139}, {\"sqft_living15\": 1690, \"count\": 137}, {\"sqft_living15\": 1300, \"count\": 136}, {\"sqft_living15\": 1420, \"count\": 136}, {\"sqft_living15\": 1650, \"count\": 135}, {\"sqft_living15\": 1360, \"count\": 133}, {\"sqft_living15\": 1310, \"count\": 133}, {\"sqft_living15\": 1770, \"count\": 133}, {\"sqft_living15\": 1530, \"count\": 133}, {\"sqft_living15\": 1830, \"count\": 132}, {\"sqft_living15\": 1700, \"count\": 132}, {\"sqft_living15\": 1490, \"count\": 130}, {\"sqft_living15\": 1380, \"count\": 128}, {\"sqft_living15\": 1850, \"count\": 127}, {\"sqft_living15\": 1370, \"count\": 126}, {\"sqft_living15\": 1940, \"count\": 126}, {\"sqft_living15\": 1590, \"count\": 125}, {\"sqft_living15\": 1950, \"count\": 124}, {\"sqft_living15\": 1900, \"count\": 124}, {\"sqft_living15\": 1880, \"count\": 124}, {\"sqft_living15\": 1350, \"count\": 123}, {\"sqft_living15\": 1630, \"count\": 122}, {\"sqft_living15\": 1390, \"count\": 120}, {\"sqft_living15\": 1400, \"count\": 120}, {\"sqft_living15\": 1430, \"count\": 119}, {\"sqft_living15\": 1250, \"count\": 119}, {\"sqft_living15\": 1710, \"count\": 118}, {\"sqft_living15\": 1330, \"count\": 117}, {\"sqft_living15\": 1750, \"count\": 117}, {\"sqft_living15\": 2090, \"count\": 116}, {\"sqft_living15\": 1740, \"count\": 116}, {\"sqft_living15\": 2060, \"count\": 116}, {\"sqft_living15\": 1450, \"count\": 114}, {\"sqft_living15\": 1960, \"count\": 112}, {\"sqft_living15\": 1860, \"count\": 112}, {\"sqft_living15\": 1890, \"count\": 112}, {\"sqft_living15\": 2040, \"count\": 112}, {\"sqft_living15\": 1920, \"count\": 112}, {\"sqft_living15\": 1280, \"count\": 111}, {\"sqft_living15\": 1340, \"count\": 111}, {\"sqft_living15\": 1790, \"count\": 111}, {\"sqft_living15\": 1970, \"count\": 110}, {\"sqft_living15\": 1910, \"count\": 109}, {\"sqft_living15\": 1730, \"count\": 107}, {\"sqft_living15\": 1980, \"count\": 106}, {\"sqft_living15\": 2030, \"count\": 106}, {\"sqft_living15\": 1810, \"count\": 105}, {\"sqft_living15\": 1840, \"count\": 105}, {\"sqft_living15\": 2080, \"count\": 104}, {\"sqft_living15\": 1870, \"count\": 103}, {\"sqft_living15\": 2020, \"count\": 102}, {\"sqft_living15\": 1930, \"count\": 99}, {\"sqft_living15\": 2000, \"count\": 99}, {\"sqft_living15\": 2100, \"count\": 98}, {\"sqft_living15\": 1220, \"count\": 98}, {\"sqft_living15\": 1260, \"count\": 98}, {\"sqft_living15\": 2190, \"count\": 97}, {\"sqft_living15\": 2140, \"count\": 97}, {\"sqft_living15\": 1230, \"count\": 97}, {\"sqft_living15\": 1290, \"count\": 97}, {\"sqft_living15\": 1200, \"count\": 97}, {\"sqft_living15\": 2010, \"count\": 96}, {\"sqft_living15\": 1240, \"count\": 96}, {\"sqft_living15\": 1160, \"count\": 94}, {\"sqft_living15\": 1270, \"count\": 94}, {\"sqft_living15\": 2200, \"count\": 92}, {\"sqft_living15\": 2260, \"count\": 91}, {\"sqft_living15\": 2150, \"count\": 90}, {\"sqft_living15\": 2280, \"count\": 89}, {\"sqft_living15\": 2050, \"count\": 88}, {\"sqft_living15\": 2180, \"count\": 88}, {\"sqft_living15\": 2240, \"count\": 86}, {\"sqft_living15\": 2250, \"count\": 86}, {\"sqft_living15\": 2230, \"count\": 85}, {\"sqft_living15\": 2300, \"count\": 84}, {\"sqft_living15\": 2440, \"count\": 84}, {\"sqft_living15\": 2160, \"count\": 83}, {\"sqft_living15\": 2120, \"count\": 83}, {\"sqft_living15\": 2070, \"count\": 81}, {\"sqft_living15\": 1990, \"count\": 80}, {\"sqft_living15\": 2390, \"count\": 80}, {\"sqft_living15\": 1150, \"count\": 79}, {\"sqft_living15\": 2500, \"count\": 78}, {\"sqft_living15\": 2400, \"count\": 77}, {\"sqft_living15\": 2110, \"count\": 77}, {\"sqft_living15\": 1180, \"count\": 76}, {\"sqft_living15\": 2340, \"count\": 73}, {\"sqft_living15\": 2170, \"count\": 73}, {\"sqft_living15\": 1100, \"count\": 73}, {\"sqft_living15\": 2370, \"count\": 72}, {\"sqft_living15\": 2580, \"count\": 72}, {\"sqft_living15\": 2310, \"count\": 71}, {\"sqft_living15\": 2130, \"count\": 71}, {\"sqft_living15\": 2460, \"count\": 70}, {\"sqft_living15\": 2590, \"count\": 70}, {\"sqft_living15\": 2330, \"count\": 70}, {\"sqft_living15\": 2320, \"count\": 69}, {\"sqft_living15\": 1210, \"count\": 69}, {\"sqft_living15\": 2290, \"count\": 69}, {\"sqft_living15\": 1170, \"count\": 67}, {\"sqft_living15\": 1190, \"count\": 66}, {\"sqft_living15\": 2550, \"count\": 65}, {\"sqft_living15\": 2220, \"count\": 65}, {\"sqft_living15\": 2430, \"count\": 65}, {\"sqft_living15\": 2210, \"count\": 64}, {\"sqft_living15\": 2640, \"count\": 64}, {\"sqft_living15\": 2650, \"count\": 62}, {\"sqft_living15\": 2270, \"count\": 61}, {\"sqft_living15\": 2520, \"count\": 61}, {\"sqft_living15\": 1060, \"count\": 60}, {\"sqft_living15\": 2360, \"count\": 60}, {\"sqft_living15\": 2480, \"count\": 60}, {\"sqft_living15\": 1140, \"count\": 60}, {\"sqft_living15\": 2540, \"count\": 60}, {\"sqft_living15\": 2450, \"count\": 60}, {\"sqft_living15\": 2420, \"count\": 59}, {\"sqft_living15\": 1120, \"count\": 58}, {\"sqft_living15\": 2350, \"count\": 58}, {\"sqft_living15\": 2380, \"count\": 57}, {\"sqft_living15\": 2510, \"count\": 57}, {\"sqft_living15\": 2470, \"count\": 55}, {\"sqft_living15\": 1130, \"count\": 55}, {\"sqft_living15\": 1090, \"count\": 54}, {\"sqft_living15\": 2760, \"count\": 54}, {\"sqft_living15\": 2410, \"count\": 54}, {\"sqft_living15\": 2620, \"count\": 54}, {\"sqft_living15\": 2560, \"count\": 54}, {\"sqft_living15\": 2660, \"count\": 54}, {\"sqft_living15\": 2570, \"count\": 52}, {\"sqft_living15\": 2730, \"count\": 52}, {\"sqft_living15\": 2790, \"count\": 51}, {\"sqft_living15\": 2740, \"count\": 51}, {\"sqft_living15\": 2820, \"count\": 50}, {\"sqft_living15\": 2980, \"count\": 50}, {\"sqft_living15\": 2670, \"count\": 49}, {\"sqft_living15\": 2840, \"count\": 48}, {\"sqft_living15\": 2600, \"count\": 47}, {\"sqft_living15\": 1110, \"count\": 46}, {\"sqft_living15\": 1010, \"count\": 46}, {\"sqft_living15\": 2710, \"count\": 46}, {\"sqft_living15\": 2530, \"count\": 44}, {\"sqft_living15\": 2810, \"count\": 44}, {\"sqft_living15\": 3010, \"count\": 43}, {\"sqft_living15\": 2720, \"count\": 43}, {\"sqft_living15\": 2750, \"count\": 42}, {\"sqft_living15\": 980, \"count\": 42}, {\"sqft_living15\": 2970, \"count\": 42}, {\"sqft_living15\": 2910, \"count\": 41}, {\"sqft_living15\": 3030, \"count\": 41}, {\"sqft_living15\": 2900, \"count\": 40}, {\"sqft_living15\": 2610, \"count\": 40}, {\"sqft_living15\": 2490, \"count\": 39}, {\"sqft_living15\": 2690, \"count\": 38}, {\"sqft_living15\": 2950, \"count\": 38}, {\"sqft_living15\": 2850, \"count\": 38}, {\"sqft_living15\": 2630, \"count\": 38}, {\"sqft_living15\": 1020, \"count\": 37}, {\"sqft_living15\": 1080, \"count\": 37}, {\"sqft_living15\": 2880, \"count\": 37}, {\"sqft_living15\": 2700, \"count\": 36}, {\"sqft_living15\": 2990, \"count\": 36}, {\"sqft_living15\": 1030, \"count\": 36}, {\"sqft_living15\": 2800, \"count\": 36}, {\"sqft_living15\": 2780, \"count\": 35}, {\"sqft_living15\": 1070, \"count\": 35}, {\"sqft_living15\": 3150, \"count\": 35}, {\"sqft_living15\": 2770, \"count\": 35}, {\"sqft_living15\": 2870, \"count\": 34}, {\"sqft_living15\": 1050, \"count\": 34}, {\"sqft_living15\": 2890, \"count\": 34}, {\"sqft_living15\": 2680, \"count\": 34}, {\"sqft_living15\": 3080, \"count\": 34}, {\"sqft_living15\": 3000, \"count\": 34}, {\"sqft_living15\": 2860, \"count\": 34}, {\"sqft_living15\": 1000, \"count\": 33}, {\"sqft_living15\": 990, \"count\": 33}, {\"sqft_living15\": 2920, \"count\": 33}, {\"sqft_living15\": 2960, \"count\": 32}, {\"sqft_living15\": 3110, \"count\": 30}, {\"sqft_living15\": 1040, \"count\": 30}, {\"sqft_living15\": 2830, \"count\": 30}, {\"sqft_living15\": 3020, \"count\": 30}, {\"sqft_living15\": 3140, \"count\": 28}, {\"sqft_living15\": 3240, \"count\": 27}, {\"sqft_living15\": 3220, \"count\": 27}, {\"sqft_living15\": 2940, \"count\": 27}, {\"sqft_living15\": 3230, \"count\": 27}, {\"sqft_living15\": 3040, \"count\": 27}, {\"sqft_living15\": 3160, \"count\": 26}, {\"sqft_living15\": 3180, \"count\": 25}, {\"sqft_living15\": 3200, \"count\": 25}, {\"sqft_living15\": 3170, \"count\": 24}, {\"sqft_living15\": 3100, \"count\": 24}, {\"sqft_living15\": 960, \"count\": 23}, {\"sqft_living15\": 2930, \"count\": 22}, {\"sqft_living15\": 3450, \"count\": 21}, {\"sqft_living15\": 3050, \"count\": 21}, {\"sqft_living15\": 3060, \"count\": 21}, {\"sqft_living15\": 920, \"count\": 21}, {\"sqft_living15\": 3210, \"count\": 20}, {\"sqft_living15\": 3370, \"count\": 20}, {\"sqft_living15\": 3190, \"count\": 20}, {\"sqft_living15\": 3130, \"count\": 20}, {\"sqft_living15\": 3250, \"count\": 19}, {\"sqft_living15\": 3090, \"count\": 19}, {\"sqft_living15\": 3120, \"count\": 19}, {\"sqft_living15\": 3400, \"count\": 18}, {\"sqft_living15\": 3340, \"count\": 18}, {\"sqft_living15\": 3330, \"count\": 18}, {\"sqft_living15\": 3360, \"count\": 18}, {\"sqft_living15\": 940, \"count\": 17}, {\"sqft_living15\": 970, \"count\": 17}, {\"sqft_living15\": 3290, \"count\": 17}, {\"sqft_living15\": 3280, \"count\": 17}, {\"sqft_living15\": 3550, \"count\": 16}, {\"sqft_living15\": 3490, \"count\": 16}, {\"sqft_living15\": 3470, \"count\": 16}, {\"sqft_living15\": 3350, \"count\": 16}, {\"sqft_living15\": 900, \"count\": 16}, {\"sqft_living15\": 3420, \"count\": 16}, {\"sqft_living15\": 3540, \"count\": 16}, {\"sqft_living15\": 3070, \"count\": 15}, {\"sqft_living15\": 3480, \"count\": 15}, {\"sqft_living15\": 3600, \"count\": 15}, {\"sqft_living15\": 3300, \"count\": 15}, {\"sqft_living15\": 950, \"count\": 15}, {\"sqft_living15\": 3740, \"count\": 15}, {\"sqft_living15\": 3530, \"count\": 14}, {\"sqft_living15\": 3270, \"count\": 14}, {\"sqft_living15\": 840, \"count\": 14}, {\"sqft_living15\": 3430, \"count\": 14}, {\"sqft_living15\": 3390, \"count\": 14}, {\"sqft_living15\": 3410, \"count\": 14}, {\"sqft_living15\": 3310, \"count\": 14}, {\"sqft_living15\": 3320, \"count\": 13}, {\"sqft_living15\": 3920, \"count\": 13}, {\"sqft_living15\": 3380, \"count\": 13}, {\"sqft_living15\": 3730, \"count\": 13}, {\"sqft_living15\": 3620, \"count\": 13}, {\"sqft_living15\": 3560, \"count\": 12}, {\"sqft_living15\": 3260, \"count\": 12}, {\"sqft_living15\": 3640, \"count\": 12}, {\"sqft_living15\": 3680, \"count\": 12}, {\"sqft_living15\": 880, \"count\": 12}, {\"sqft_living15\": 3510, \"count\": 12}, {\"sqft_living15\": 3770, \"count\": 11}, {\"sqft_living15\": 3930, \"count\": 11}, {\"sqft_living15\": 930, \"count\": 11}, {\"sqft_living15\": 3720, \"count\": 11}, {\"sqft_living15\": 3860, \"count\": 11}, {\"sqft_living15\": 3750, \"count\": 11}, {\"sqft_living15\": 850, \"count\": 10}, {\"sqft_living15\": 3460, \"count\": 10}, {\"sqft_living15\": 860, \"count\": 10}, {\"sqft_living15\": 3690, \"count\": 10}, {\"sqft_living15\": 890, \"count\": 10}, {\"sqft_living15\": 3440, \"count\": 9}, {\"sqft_living15\": 3630, \"count\": 9}, {\"sqft_living15\": 3570, \"count\": 9}, {\"sqft_living15\": 3520, \"count\": 9}, {\"sqft_living15\": 3880, \"count\": 9}, {\"sqft_living15\": 3590, \"count\": 9}, {\"sqft_living15\": 3810, \"count\": 9}, {\"sqft_living15\": 1714, \"count\": 9}, {\"sqft_living15\": 3670, \"count\": 8}, {\"sqft_living15\": 3960, \"count\": 8}, {\"sqft_living15\": 3500, \"count\": 8}, {\"sqft_living15\": 3850, \"count\": 8}, {\"sqft_living15\": 740, \"count\": 8}, {\"sqft_living15\": 910, \"count\": 7}, {\"sqft_living15\": 870, \"count\": 7}, {\"sqft_living15\": 820, \"count\": 7}, {\"sqft_living15\": 3650, \"count\": 7}, {\"sqft_living15\": 3890, \"count\": 7}, {\"sqft_living15\": 830, \"count\": 7}, {\"sqft_living15\": 3990, \"count\": 7}, {\"sqft_living15\": 2095, \"count\": 7}, {\"sqft_living15\": 2009, \"count\": 7}, {\"sqft_living15\": 3580, \"count\": 6}, {\"sqft_living15\": 3800, \"count\": 6}, {\"sqft_living15\": 3780, \"count\": 6}, {\"sqft_living15\": 1078, \"count\": 6}, {\"sqft_living15\": 3980, \"count\": 6}, {\"sqft_living15\": 3950, \"count\": 6}, {\"sqft_living15\": 1509, \"count\": 6}, {\"sqft_living15\": 3760, \"count\": 6}, {\"sqft_living15\": 3710, \"count\": 6}, {\"sqft_living15\": 780, \"count\": 5}, {\"sqft_living15\": 1445, \"count\": 5}, {\"sqft_living15\": 3840, \"count\": 5}, {\"sqft_living15\": 2434, \"count\": 5}, {\"sqft_living15\": 3830, \"count\": 5}, {\"sqft_living15\": 2502, \"count\": 5}, {\"sqft_living15\": 1584, \"count\": 5}, {\"sqft_living15\": 3970, \"count\": 5}, {\"sqft_living15\": 3900, \"count\": 5}, {\"sqft_living15\": 3790, \"count\": 5}, {\"sqft_living15\": 3625, \"count\": 4}, {\"sqft_living15\": 3660, \"count\": 4}, {\"sqft_living15\": 1975, \"count\": 4}, {\"sqft_living15\": 3700, \"count\": 4}, {\"sqft_living15\": 1979, \"count\": 4}, {\"sqft_living15\": 2475, \"count\": 4}, {\"sqft_living15\": 3940, \"count\": 4}, {\"sqft_living15\": 2665, \"count\": 4}, {\"sqft_living15\": 3910, \"count\": 4}, {\"sqft_living15\": 1677, \"count\": 4}, {\"sqft_living15\": 3820, \"count\": 4}, {\"sqft_living15\": 3610, \"count\": 4}, {\"sqft_living15\": 1746, \"count\": 3}, {\"sqft_living15\": 1934, \"count\": 3}, {\"sqft_living15\": 2315, \"count\": 3}, {\"sqft_living15\": 760, \"count\": 3}, {\"sqft_living15\": 750, \"count\": 3}, {\"sqft_living15\": 2815, \"count\": 3}, {\"sqft_living15\": 1458, \"count\": 3}, {\"sqft_living15\": 2056, \"count\": 3}, {\"sqft_living15\": 2641, \"count\": 3}, {\"sqft_living15\": 1264, \"count\": 3}, {\"sqft_living15\": 1768, \"count\": 3}, {\"sqft_living15\": 1188, \"count\": 3}, {\"sqft_living15\": 2305, \"count\": 3}, {\"sqft_living15\": 810, \"count\": 3}, {\"sqft_living15\": 1494, \"count\": 3}, {\"sqft_living15\": 3870, \"count\": 3}, {\"sqft_living15\": 1358, \"count\": 3}, {\"sqft_living15\": 2242, \"count\": 2}, {\"sqft_living15\": 690, \"count\": 2}, {\"sqft_living15\": 620, \"count\": 2}, {\"sqft_living15\": 1981, \"count\": 2}, {\"sqft_living15\": 2092, \"count\": 2}, {\"sqft_living15\": 2419, \"count\": 2}, {\"sqft_living15\": 2358, \"count\": 2}, {\"sqft_living15\": 700, \"count\": 2}, {\"sqft_living15\": 1408, \"count\": 2}, {\"sqft_living15\": 1131, \"count\": 2}, {\"sqft_living15\": 2555, \"count\": 2}, {\"sqft_living15\": 2848, \"count\": 2}, {\"sqft_living15\": 2583, \"count\": 2}, {\"sqft_living15\": 790, \"count\": 2}, {\"sqft_living15\": 1664, \"count\": 2}, {\"sqft_living15\": 2077, \"count\": 2}, {\"sqft_living15\": 2028, \"count\": 2}, {\"sqft_living15\": 1798, \"count\": 2}, {\"sqft_living15\": 1492, \"count\": 2}, {\"sqft_living15\": 3639, \"count\": 2}, {\"sqft_living15\": 1544, \"count\": 2}, {\"sqft_living15\": 2849, \"count\": 2}, {\"sqft_living15\": 3715, \"count\": 2}, {\"sqft_living15\": 1608, \"count\": 2}, {\"sqft_living15\": 2996, \"count\": 2}, {\"sqft_living15\": 2166, \"count\": 2}, {\"sqft_living15\": 1763, \"count\": 2}, {\"sqft_living15\": 2667, \"count\": 2}, {\"sqft_living15\": 2566, \"count\": 2}, {\"sqft_living15\": 2673, \"count\": 2}, {\"sqft_living15\": 1654, \"count\": 2}, {\"sqft_living15\": 1128, \"count\": 2}, {\"sqft_living15\": 1639, \"count\": 2}, {\"sqft_living15\": 2441, \"count\": 2}, {\"sqft_living15\": 1481, \"count\": 2}, {\"sqft_living15\": 2424, \"count\": 2}, {\"sqft_living15\": 1894, \"count\": 2}, {\"sqft_living15\": 2415, \"count\": 2}, {\"sqft_living15\": 1484, \"count\": 2}, {\"sqft_living15\": 4000, \"count\": 2}, {\"sqft_living15\": 1767, \"count\": 2}, {\"sqft_living15\": 1522, \"count\": 2}, {\"sqft_living15\": 2738, \"count\": 2}, {\"sqft_living15\": 2474, \"count\": 2}, {\"sqft_living15\": 2598, \"count\": 2}, {\"sqft_living15\": 720, \"count\": 2}, {\"sqft_living15\": 1285, \"count\": 2}, {\"sqft_living15\": 2597, \"count\": 2}, {\"sqft_living15\": 800, \"count\": 2}, {\"sqft_living15\": 2547, \"count\": 2}, {\"sqft_living15\": 2578, \"count\": 2}, {\"sqft_living15\": 1525, \"count\": 2}, {\"sqft_living15\": 1256, \"count\": 2}, {\"sqft_living15\": 2724, \"count\": 2}, {\"sqft_living15\": 3087, \"count\": 2}, {\"sqft_living15\": 3557, \"count\": 2}, {\"sqft_living15\": 710, \"count\": 2}, {\"sqft_living15\": 1616, \"count\": 2}, {\"sqft_living15\": 1365, \"count\": 2}, {\"sqft_living15\": 2014, \"count\": 2}, {\"sqft_living15\": 2605, \"count\": 2}, {\"sqft_living15\": 1439, \"count\": 2}, {\"sqft_living15\": 998, \"count\": 2}, {\"sqft_living15\": 1137, \"count\": 1}, {\"sqft_living15\": 2037, \"count\": 1}, {\"sqft_living15\": 2961, \"count\": 1}, {\"sqft_living15\": 1463, \"count\": 1}, {\"sqft_living15\": 1528, \"count\": 1}, {\"sqft_living15\": 1307, \"count\": 1}, {\"sqft_living15\": 1537, \"count\": 1}, {\"sqft_living15\": 1309, \"count\": 1}, {\"sqft_living15\": 2412, \"count\": 1}, {\"sqft_living15\": 1443, \"count\": 1}, {\"sqft_living15\": 2005, \"count\": 1}, {\"sqft_living15\": 2253, \"count\": 1}, {\"sqft_living15\": 2875, \"count\": 1}, {\"sqft_living15\": 1716, \"count\": 1}, {\"sqft_living15\": 2586, \"count\": 1}, {\"sqft_living15\": 2683, \"count\": 1}, {\"sqft_living15\": 2406, \"count\": 1}, {\"sqft_living15\": 1554, \"count\": 1}, {\"sqft_living15\": 1302, \"count\": 1}, {\"sqft_living15\": 3159, \"count\": 1}, {\"sqft_living15\": 770, \"count\": 1}, {\"sqft_living15\": 1765, \"count\": 1}, {\"sqft_living15\": 2197, \"count\": 1}, {\"sqft_living15\": 2027, \"count\": 1}, {\"sqft_living15\": 1175, \"count\": 1}, {\"sqft_living15\": 1084, \"count\": 1}, {\"sqft_living15\": 2513, \"count\": 1}, {\"sqft_living15\": 1268, \"count\": 1}, {\"sqft_living15\": 2175, \"count\": 1}, {\"sqft_living15\": 1466, \"count\": 1}, {\"sqft_living15\": 2049, \"count\": 1}, {\"sqft_living15\": 2136, \"count\": 1}, {\"sqft_living15\": 3494, \"count\": 1}, {\"sqft_living15\": 1232, \"count\": 1}, {\"sqft_living15\": 1364, \"count\": 1}, {\"sqft_living15\": 1427, \"count\": 1}, {\"sqft_living15\": 2456, \"count\": 1}, {\"sqft_living15\": 1429, \"count\": 1}, {\"sqft_living15\": 1502, \"count\": 1}, {\"sqft_living15\": 2765, \"count\": 1}, {\"sqft_living15\": 2619, \"count\": 1}, {\"sqft_living15\": 1088, \"count\": 1}, {\"sqft_living15\": 2273, \"count\": 1}, {\"sqft_living15\": 1092, \"count\": 1}, {\"sqft_living15\": 1516, \"count\": 1}, {\"sqft_living15\": 1638, \"count\": 1}, {\"sqft_living15\": 2488, \"count\": 1}, {\"sqft_living15\": 3425, \"count\": 1}, {\"sqft_living15\": 2403, \"count\": 1}, {\"sqft_living15\": 1658, \"count\": 1}, {\"sqft_living15\": 2798, \"count\": 1}, {\"sqft_living15\": 2495, \"count\": 1}, {\"sqft_living15\": 1357, \"count\": 1}, {\"sqft_living15\": 1847, \"count\": 1}, {\"sqft_living15\": 2255, \"count\": 1}, {\"sqft_living15\": 2527, \"count\": 1}, {\"sqft_living15\": 1415, \"count\": 1}, {\"sqft_living15\": 3038, \"count\": 1}, {\"sqft_living15\": 1949, \"count\": 1}, {\"sqft_living15\": 2109, \"count\": 1}, {\"sqft_living15\": 1564, \"count\": 1}, {\"sqft_living15\": 2533, \"count\": 1}, {\"sqft_living15\": 2214, \"count\": 1}, {\"sqft_living15\": 1156, \"count\": 1}, {\"sqft_living15\": 1815, \"count\": 1}, {\"sqft_living15\": 2002, \"count\": 1}, {\"sqft_living15\": 2216, \"count\": 1}, {\"sqft_living15\": 2011, \"count\": 1}, {\"sqft_living15\": 2114, \"count\": 1}, {\"sqft_living15\": 1691, \"count\": 1}, {\"sqft_living15\": 3674, \"count\": 1}, {\"sqft_living15\": 2316, \"count\": 1}, {\"sqft_living15\": 1984, \"count\": 1}, {\"sqft_living15\": 1303, \"count\": 1}, {\"sqft_living15\": 1665, \"count\": 1}, {\"sqft_living15\": 2405, \"count\": 1}, {\"sqft_living15\": 1576, \"count\": 1}, {\"sqft_living15\": 1921, \"count\": 1}, {\"sqft_living15\": 3193, \"count\": 1}, {\"sqft_living15\": 2303, \"count\": 1}, {\"sqft_living15\": 3056, \"count\": 1}, {\"sqft_living15\": 2382, \"count\": 1}, {\"sqft_living15\": 2221, \"count\": 1}, {\"sqft_living15\": 3618, \"count\": 1}, {\"sqft_living15\": 2873, \"count\": 1}, {\"sqft_living15\": 1381, \"count\": 1}, {\"sqft_living15\": 2279, \"count\": 1}, {\"sqft_living15\": 2688, \"count\": 1}, {\"sqft_living15\": 1442, \"count\": 1}, {\"sqft_living15\": 2437, \"count\": 1}, {\"sqft_living15\": 1914, \"count\": 1}, {\"sqft_living15\": 2376, \"count\": 1}, {\"sqft_living15\": 2396, \"count\": 1}, {\"sqft_living15\": 1855, \"count\": 1}, {\"sqft_living15\": 2622, \"count\": 1}, {\"sqft_living15\": 1098, \"count\": 1}, {\"sqft_living15\": 2517, \"count\": 1}, {\"sqft_living15\": 2156, \"count\": 1}, {\"sqft_living15\": 1678, \"count\": 1}, {\"sqft_living15\": 2912, \"count\": 1}, {\"sqft_living15\": 2389, \"count\": 1}, {\"sqft_living15\": 2612, \"count\": 1}, {\"sqft_living15\": 2198, \"count\": 1}, {\"sqft_living15\": 1398, \"count\": 1}, {\"sqft_living15\": 2615, \"count\": 1}, {\"sqft_living15\": 1805, \"count\": 1}, {\"sqft_living15\": 1728, \"count\": 1}, {\"sqft_living15\": 2384, \"count\": 1}, {\"sqft_living15\": 1955, \"count\": 1}, {\"sqft_living15\": 1941, \"count\": 1}, {\"sqft_living15\": 1459, \"count\": 1}, {\"sqft_living15\": 1708, \"count\": 1}, {\"sqft_living15\": 1536, \"count\": 1}, {\"sqft_living15\": 1216, \"count\": 1}, {\"sqft_living15\": 2112, \"count\": 1}, {\"sqft_living15\": 2155, \"count\": 1}, {\"sqft_living15\": 1425, \"count\": 1}, {\"sqft_living15\": 2725, \"count\": 1}, {\"sqft_living15\": 2451, \"count\": 1}, {\"sqft_living15\": 2189, \"count\": 1}, {\"sqft_living15\": 1943, \"count\": 1}, {\"sqft_living15\": 2142, \"count\": 1}, {\"sqft_living15\": 2575, \"count\": 1}, {\"sqft_living15\": 1518, \"count\": 1}, {\"sqft_living15\": 2409, \"count\": 1}, {\"sqft_living15\": 2083, \"count\": 1}, {\"sqft_living15\": 1546, \"count\": 1}, {\"sqft_living15\": 2604, \"count\": 1}, {\"sqft_living15\": 1569, \"count\": 1}, {\"sqft_living15\": 1399, \"count\": 1}, {\"sqft_living15\": 1369, \"count\": 1}, {\"sqft_living15\": 1346, \"count\": 1}, {\"sqft_living15\": 2669, \"count\": 1}, {\"sqft_living15\": 806, \"count\": 1}, {\"sqft_living15\": 1786, \"count\": 1}, {\"sqft_living15\": 1304, \"count\": 1}, {\"sqft_living15\": 2704, \"count\": 1}, {\"sqft_living15\": 2168, \"count\": 1}, {\"sqft_living15\": 3568, \"count\": 1}, {\"sqft_living15\": 1792, \"count\": 1}, {\"sqft_living15\": 1884, \"count\": 1}, {\"sqft_living15\": 2728, \"count\": 1}, {\"sqft_living15\": 2154, \"count\": 1}, {\"sqft_living15\": 2425, \"count\": 1}, {\"sqft_living15\": 1336, \"count\": 1}, {\"sqft_living15\": 2478, \"count\": 1}, {\"sqft_living15\": 1886, \"count\": 1}, {\"sqft_living15\": 1377, \"count\": 1}, {\"sqft_living15\": 2052, \"count\": 1}, {\"sqft_living15\": 1228, \"count\": 1}, {\"sqft_living15\": 1802, \"count\": 1}, {\"sqft_living15\": 1919, \"count\": 1}, {\"sqft_living15\": 2516, \"count\": 1}, {\"sqft_living15\": 2822, \"count\": 1}, {\"sqft_living15\": 1448, \"count\": 1}, {\"sqft_living15\": 2697, \"count\": 1}, {\"sqft_living15\": 2234, \"count\": 1}, {\"sqft_living15\": 3236, \"count\": 1}, {\"sqft_living15\": 3726, \"count\": 1}, {\"sqft_living15\": 2091, \"count\": 1}, {\"sqft_living15\": 2054, \"count\": 1}, {\"sqft_living15\": 670, \"count\": 1}, {\"sqft_living15\": 3335, \"count\": 1}, {\"sqft_living15\": 2144, \"count\": 1}, {\"sqft_living15\": 2496, \"count\": 1}, {\"sqft_living15\": 1566, \"count\": 1}, {\"sqft_living15\": 1696, \"count\": 1}, {\"sqft_living15\": 2238, \"count\": 1}, {\"sqft_living15\": 2767, \"count\": 1}, {\"sqft_living15\": 2648, \"count\": 1}, {\"sqft_living15\": 2019, \"count\": 1}, {\"sqft_living15\": 1468, \"count\": 1}, {\"sqft_living15\": 3736, \"count\": 1}, {\"sqft_living15\": 1845, \"count\": 1}, {\"sqft_living15\": 2236, \"count\": 1}, {\"sqft_living15\": 2075, \"count\": 1}, {\"sqft_living15\": 2458, \"count\": 1}, {\"sqft_living15\": 1811, \"count\": 1}, {\"sqft_living15\": 2004, \"count\": 1}, {\"sqft_living15\": 3402, \"count\": 1}, {\"sqft_living15\": 1282, \"count\": 1}, {\"sqft_living15\": 1495, \"count\": 1}, {\"sqft_living15\": 2099, \"count\": 1}, {\"sqft_living15\": 1876, \"count\": 1}, {\"sqft_living15\": 2326, \"count\": 1}, {\"sqft_living15\": 1125, \"count\": 1}, {\"sqft_living15\": 1813, \"count\": 1}, {\"sqft_living15\": 3515, \"count\": 1}, {\"sqft_living15\": 2354, \"count\": 1}, {\"sqft_living15\": 2647, \"count\": 1}, {\"sqft_living15\": 3721, \"count\": 1}, {\"sqft_living15\": 2981, \"count\": 1}, {\"sqft_living15\": 2304, \"count\": 1}, {\"sqft_living15\": 2755, \"count\": 1}, {\"sqft_living15\": 2967, \"count\": 1}, {\"sqft_living15\": 2165, \"count\": 1}, {\"sqft_living15\": 1834, \"count\": 1}, {\"sqft_living15\": 2634, \"count\": 1}, {\"sqft_living15\": 2554, \"count\": 1}, {\"sqft_living15\": 2246, \"count\": 1}, {\"sqft_living15\": 1168, \"count\": 1}, {\"sqft_living15\": 2125, \"count\": 1}, {\"sqft_living15\": 1217, \"count\": 1}, {\"sqft_living15\": 2336, \"count\": 1}, {\"sqft_living15\": 3543, \"count\": 1}, {\"sqft_living15\": 2029, \"count\": 1}, {\"sqft_living15\": 2901, \"count\": 1}, {\"sqft_living15\": 1571, \"count\": 1}, {\"sqft_living15\": 2258, \"count\": 1}, {\"sqft_living15\": 1352, \"count\": 1}, {\"sqft_living15\": 1132, \"count\": 1}, {\"sqft_living15\": 2256, \"count\": 1}, {\"sqft_living15\": 2106, \"count\": 1}, {\"sqft_living15\": 1277, \"count\": 1}, {\"sqft_living15\": 1405, \"count\": 1}, {\"sqft_living15\": 1862, \"count\": 1}, {\"sqft_living15\": 2333, \"count\": 1}, {\"sqft_living15\": 1056, \"count\": 1}, {\"sqft_living15\": 1321, \"count\": 1}, {\"sqft_living15\": 1326, \"count\": 1}, {\"sqft_living15\": 3413, \"count\": 1}, {\"sqft_living15\": 1414, \"count\": 1}, {\"sqft_living15\": 2323, \"count\": 1}, {\"sqft_living15\": 2616, \"count\": 1}, {\"sqft_living15\": 3045, \"count\": 1}, {\"sqft_living15\": 3008, \"count\": 1}, {\"sqft_living15\": 1162, \"count\": 1}, {\"sqft_living15\": 2015, \"count\": 1}, {\"sqft_living15\": 2653, \"count\": 1}, {\"sqft_living15\": 1404, \"count\": 1}, {\"sqft_living15\": 952, \"count\": 1}, {\"sqft_living15\": 1745, \"count\": 1}, {\"sqft_living15\": 1138, \"count\": 1}, {\"sqft_living15\": 3836, \"count\": 1}, {\"sqft_living15\": 2594, \"count\": 1}, {\"sqft_living15\": 2344, \"count\": 1}, {\"sqft_living15\": 1356, \"count\": 1}, {\"sqft_living15\": 1961, \"count\": 1}, {\"sqft_living15\": 1295, \"count\": 1}, {\"sqft_living15\": 2927, \"count\": 1}]}}, {\"mode\": \"vega-lite\"});\n",
              "</script>"
            ],
            "text/plain": [
              "alt.Chart(...)"
            ]
          },
          "metadata": {},
          "execution_count": 84
        }
      ]
    },
    {
      "cell_type": "markdown",
      "source": [
        "## **Bathrooms**"
      ],
      "metadata": {
        "id": "6Nu5WpmjVNSk"
      }
    },
    {
      "cell_type": "code",
      "source": [
        "house_data = house_data[house_data['bathrooms'] >= 1]\n",
        "house_data = house_data[house_data['bathrooms'] <= 5]\n",
        "house_data['bathrooms'].value_counts()"
      ],
      "metadata": {
        "colab": {
          "base_uri": "https://localhost:8080/"
        },
        "id": "XzymZQcSVSwK",
        "outputId": "9b0432e5-e334-4621-99ce-4059d60c7813"
      },
      "execution_count": 85,
      "outputs": [
        {
          "output_type": "execute_result",
          "data": {
            "text/plain": [
              "2.50    4976\n",
              "1.00    3552\n",
              "1.75    2841\n",
              "2.25    1875\n",
              "2.00    1769\n",
              "1.50    1346\n",
              "2.75    1091\n",
              "3.00     678\n",
              "3.50     627\n",
              "3.25     502\n",
              "3.75     131\n",
              "4.00     105\n",
              "4.50      76\n",
              "4.25      56\n",
              "4.75      16\n",
              "5.00      13\n",
              "1.25       8\n",
              "Name: bathrooms, dtype: int64"
            ]
          },
          "metadata": {},
          "execution_count": 85
        }
      ]
    },
    {
      "cell_type": "markdown",
      "source": [
        "### **Grade**"
      ],
      "metadata": {
        "id": "uzhsjH2nXvNO"
      }
    },
    {
      "cell_type": "code",
      "source": [
        "sorted = house_data['grade'].sort_values()\n",
        "sorted.value_counts()\n",
        "\n",
        "import altair as alt\n",
        "\n",
        "# Calculate the average price for each grade\n",
        "average_price_by_grade = house_data.groupby('grade')['price'].mean().reset_index()\n",
        "\n",
        "# Create the bar graph using Altair\n",
        "bar_chart = alt.Chart(average_price_by_grade).mark_bar().encode(\n",
        "    x='grade:O',\n",
        "    y='price:Q'\n",
        ")\n",
        "\n",
        "# Display the bar chart\n",
        "bar_chart\n"
      ],
      "metadata": {
        "colab": {
          "base_uri": "https://localhost:8080/",
          "height": 366
        },
        "id": "ScX3UsqQXxsI",
        "outputId": "89349bcd-ecb2-45d2-dd8b-2b30e0725255"
      },
      "execution_count": 86,
      "outputs": [
        {
          "output_type": "execute_result",
          "data": {
            "text/html": [
              "\n",
              "<div id=\"altair-viz-85f2a09bf5ae4fbfaeee77965c86ad9b\"></div>\n",
              "<script type=\"text/javascript\">\n",
              "  var VEGA_DEBUG = (typeof VEGA_DEBUG == \"undefined\") ? {} : VEGA_DEBUG;\n",
              "  (function(spec, embedOpt){\n",
              "    let outputDiv = document.currentScript.previousElementSibling;\n",
              "    if (outputDiv.id !== \"altair-viz-85f2a09bf5ae4fbfaeee77965c86ad9b\") {\n",
              "      outputDiv = document.getElementById(\"altair-viz-85f2a09bf5ae4fbfaeee77965c86ad9b\");\n",
              "    }\n",
              "    const paths = {\n",
              "      \"vega\": \"https://cdn.jsdelivr.net/npm//vega@5?noext\",\n",
              "      \"vega-lib\": \"https://cdn.jsdelivr.net/npm//vega-lib?noext\",\n",
              "      \"vega-lite\": \"https://cdn.jsdelivr.net/npm//vega-lite@4.17.0?noext\",\n",
              "      \"vega-embed\": \"https://cdn.jsdelivr.net/npm//vega-embed@6?noext\",\n",
              "    };\n",
              "\n",
              "    function maybeLoadScript(lib, version) {\n",
              "      var key = `${lib.replace(\"-\", \"\")}_version`;\n",
              "      return (VEGA_DEBUG[key] == version) ?\n",
              "        Promise.resolve(paths[lib]) :\n",
              "        new Promise(function(resolve, reject) {\n",
              "          var s = document.createElement('script');\n",
              "          document.getElementsByTagName(\"head\")[0].appendChild(s);\n",
              "          s.async = true;\n",
              "          s.onload = () => {\n",
              "            VEGA_DEBUG[key] = version;\n",
              "            return resolve(paths[lib]);\n",
              "          };\n",
              "          s.onerror = () => reject(`Error loading script: ${paths[lib]}`);\n",
              "          s.src = paths[lib];\n",
              "        });\n",
              "    }\n",
              "\n",
              "    function showError(err) {\n",
              "      outputDiv.innerHTML = `<div class=\"error\" style=\"color:red;\">${err}</div>`;\n",
              "      throw err;\n",
              "    }\n",
              "\n",
              "    function displayChart(vegaEmbed) {\n",
              "      vegaEmbed(outputDiv, spec, embedOpt)\n",
              "        .catch(err => showError(`Javascript Error: ${err.message}<br>This usually means there's a typo in your chart specification. See the javascript console for the full traceback.`));\n",
              "    }\n",
              "\n",
              "    if(typeof define === \"function\" && define.amd) {\n",
              "      requirejs.config({paths});\n",
              "      require([\"vega-embed\"], displayChart, err => showError(`Error loading script: ${err.message}`));\n",
              "    } else {\n",
              "      maybeLoadScript(\"vega\", \"5\")\n",
              "        .then(() => maybeLoadScript(\"vega-lite\", \"4.17.0\"))\n",
              "        .then(() => maybeLoadScript(\"vega-embed\", \"6\"))\n",
              "        .catch(showError)\n",
              "        .then(() => displayChart(vegaEmbed));\n",
              "    }\n",
              "  })({\"config\": {\"view\": {\"continuousWidth\": 400, \"continuousHeight\": 300}}, \"data\": {\"name\": \"data-91729d66eade15d9e3872e6e7e3b0a00\"}, \"mark\": \"bar\", \"encoding\": {\"x\": {\"field\": \"grade\", \"type\": \"ordinal\"}, \"y\": {\"field\": \"price\", \"type\": \"quantitative\"}}, \"$schema\": \"https://vega.github.io/schema/vega-lite/v4.17.0.json\", \"datasets\": {\"data-91729d66eade15d9e3872e6e7e3b0a00\": [{\"grade\": 4, \"price\": 187936.66666666666}, {\"grade\": 5, \"price\": 249431.118226601}, {\"grade\": 6, \"price\": 302674.6962843296}, {\"grade\": 7, \"price\": 402521.46773416805}, {\"grade\": 8, \"price\": 540800.4650330889}, {\"grade\": 9, \"price\": 767606.596921797}, {\"grade\": 10, \"price\": 1055162.0263157894}, {\"grade\": 11, \"price\": 1468429.6931818181}, {\"grade\": 12, \"price\": 2125116.6666666665}, {\"grade\": 13, \"price\": 2769750.0}]}}, {\"mode\": \"vega-lite\"});\n",
              "</script>"
            ],
            "text/plain": [
              "alt.Chart(...)"
            ]
          },
          "metadata": {},
          "execution_count": 86
        }
      ]
    },
    {
      "cell_type": "markdown",
      "source": [
        "# **XGBoost Model**"
      ],
      "metadata": {
        "id": "w2Wpz6YMmdcl"
      }
    },
    {
      "cell_type": "markdown",
      "source": [
        "TEST AND TRAIN SETS"
      ],
      "metadata": {
        "id": "uobU2UE69pq9"
      }
    },
    {
      "cell_type": "code",
      "source": [
        "from xgboost import XGBRegressor\n",
        "from sklearn.model_selection import train_test_split\n",
        "\n",
        "\n",
        "X = house_data[['sqft_living', 'grade', 'sqft_above', 'sqft_living15', 'bathrooms']]\n",
        "y = house_data['price']\n",
        "\n",
        "\n",
        "# How do we want to do the testing size?\n",
        "X_train, X_test, y_train, y_test = train_test_split(X, y, test_size=0.2, random_state=42)\n",
        "X"
      ],
      "metadata": {
        "id": "3f4iC2Ia7c2A",
        "colab": {
          "base_uri": "https://localhost:8080/",
          "height": 423
        },
        "outputId": "3ac27ddc-89e7-4ec1-a2af-4ee668134826"
      },
      "execution_count": 87,
      "outputs": [
        {
          "output_type": "execute_result",
          "data": {
            "text/plain": [
              "       sqft_living  grade  sqft_above  sqft_living15  bathrooms\n",
              "0             3760      8        2740           3280       3.25\n",
              "1             1460      7        1040           1310       1.75\n",
              "2             1340      7        1340           1900       1.00\n",
              "3             1440      8        1440           1790       1.75\n",
              "4             1780      7        1080           1690       1.50\n",
              "...            ...    ...         ...            ...        ...\n",
              "19994         4400     11        3390           2150       4.50\n",
              "19995         1000      7        1000           1000       1.50\n",
              "19996         3087      8        3087           2927       2.50\n",
              "19997         2120      7        2120           1690       2.50\n",
              "19999         3130      7        3130           3020       2.50\n",
              "\n",
              "[19662 rows x 5 columns]"
            ],
            "text/html": [
              "\n",
              "  <div id=\"df-a84a65c4-36d7-4ff0-8e97-9b5c7f7613b8\">\n",
              "    <div class=\"colab-df-container\">\n",
              "      <div>\n",
              "<style scoped>\n",
              "    .dataframe tbody tr th:only-of-type {\n",
              "        vertical-align: middle;\n",
              "    }\n",
              "\n",
              "    .dataframe tbody tr th {\n",
              "        vertical-align: top;\n",
              "    }\n",
              "\n",
              "    .dataframe thead th {\n",
              "        text-align: right;\n",
              "    }\n",
              "</style>\n",
              "<table border=\"1\" class=\"dataframe\">\n",
              "  <thead>\n",
              "    <tr style=\"text-align: right;\">\n",
              "      <th></th>\n",
              "      <th>sqft_living</th>\n",
              "      <th>grade</th>\n",
              "      <th>sqft_above</th>\n",
              "      <th>sqft_living15</th>\n",
              "      <th>bathrooms</th>\n",
              "    </tr>\n",
              "  </thead>\n",
              "  <tbody>\n",
              "    <tr>\n",
              "      <th>0</th>\n",
              "      <td>3760</td>\n",
              "      <td>8</td>\n",
              "      <td>2740</td>\n",
              "      <td>3280</td>\n",
              "      <td>3.25</td>\n",
              "    </tr>\n",
              "    <tr>\n",
              "      <th>1</th>\n",
              "      <td>1460</td>\n",
              "      <td>7</td>\n",
              "      <td>1040</td>\n",
              "      <td>1310</td>\n",
              "      <td>1.75</td>\n",
              "    </tr>\n",
              "    <tr>\n",
              "      <th>2</th>\n",
              "      <td>1340</td>\n",
              "      <td>7</td>\n",
              "      <td>1340</td>\n",
              "      <td>1900</td>\n",
              "      <td>1.00</td>\n",
              "    </tr>\n",
              "    <tr>\n",
              "      <th>3</th>\n",
              "      <td>1440</td>\n",
              "      <td>8</td>\n",
              "      <td>1440</td>\n",
              "      <td>1790</td>\n",
              "      <td>1.75</td>\n",
              "    </tr>\n",
              "    <tr>\n",
              "      <th>4</th>\n",
              "      <td>1780</td>\n",
              "      <td>7</td>\n",
              "      <td>1080</td>\n",
              "      <td>1690</td>\n",
              "      <td>1.50</td>\n",
              "    </tr>\n",
              "    <tr>\n",
              "      <th>...</th>\n",
              "      <td>...</td>\n",
              "      <td>...</td>\n",
              "      <td>...</td>\n",
              "      <td>...</td>\n",
              "      <td>...</td>\n",
              "    </tr>\n",
              "    <tr>\n",
              "      <th>19994</th>\n",
              "      <td>4400</td>\n",
              "      <td>11</td>\n",
              "      <td>3390</td>\n",
              "      <td>2150</td>\n",
              "      <td>4.50</td>\n",
              "    </tr>\n",
              "    <tr>\n",
              "      <th>19995</th>\n",
              "      <td>1000</td>\n",
              "      <td>7</td>\n",
              "      <td>1000</td>\n",
              "      <td>1000</td>\n",
              "      <td>1.50</td>\n",
              "    </tr>\n",
              "    <tr>\n",
              "      <th>19996</th>\n",
              "      <td>3087</td>\n",
              "      <td>8</td>\n",
              "      <td>3087</td>\n",
              "      <td>2927</td>\n",
              "      <td>2.50</td>\n",
              "    </tr>\n",
              "    <tr>\n",
              "      <th>19997</th>\n",
              "      <td>2120</td>\n",
              "      <td>7</td>\n",
              "      <td>2120</td>\n",
              "      <td>1690</td>\n",
              "      <td>2.50</td>\n",
              "    </tr>\n",
              "    <tr>\n",
              "      <th>19999</th>\n",
              "      <td>3130</td>\n",
              "      <td>7</td>\n",
              "      <td>3130</td>\n",
              "      <td>3020</td>\n",
              "      <td>2.50</td>\n",
              "    </tr>\n",
              "  </tbody>\n",
              "</table>\n",
              "<p>19662 rows × 5 columns</p>\n",
              "</div>\n",
              "      <button class=\"colab-df-convert\" onclick=\"convertToInteractive('df-a84a65c4-36d7-4ff0-8e97-9b5c7f7613b8')\"\n",
              "              title=\"Convert this dataframe to an interactive table.\"\n",
              "              style=\"display:none;\">\n",
              "        \n",
              "  <svg xmlns=\"http://www.w3.org/2000/svg\" height=\"24px\"viewBox=\"0 0 24 24\"\n",
              "       width=\"24px\">\n",
              "    <path d=\"M0 0h24v24H0V0z\" fill=\"none\"/>\n",
              "    <path d=\"M18.56 5.44l.94 2.06.94-2.06 2.06-.94-2.06-.94-.94-2.06-.94 2.06-2.06.94zm-11 1L8.5 8.5l.94-2.06 2.06-.94-2.06-.94L8.5 2.5l-.94 2.06-2.06.94zm10 10l.94 2.06.94-2.06 2.06-.94-2.06-.94-.94-2.06-.94 2.06-2.06.94z\"/><path d=\"M17.41 7.96l-1.37-1.37c-.4-.4-.92-.59-1.43-.59-.52 0-1.04.2-1.43.59L10.3 9.45l-7.72 7.72c-.78.78-.78 2.05 0 2.83L4 21.41c.39.39.9.59 1.41.59.51 0 1.02-.2 1.41-.59l7.78-7.78 2.81-2.81c.8-.78.8-2.07 0-2.86zM5.41 20L4 18.59l7.72-7.72 1.47 1.35L5.41 20z\"/>\n",
              "  </svg>\n",
              "      </button>\n",
              "      \n",
              "  <style>\n",
              "    .colab-df-container {\n",
              "      display:flex;\n",
              "      flex-wrap:wrap;\n",
              "      gap: 12px;\n",
              "    }\n",
              "\n",
              "    .colab-df-convert {\n",
              "      background-color: #E8F0FE;\n",
              "      border: none;\n",
              "      border-radius: 50%;\n",
              "      cursor: pointer;\n",
              "      display: none;\n",
              "      fill: #1967D2;\n",
              "      height: 32px;\n",
              "      padding: 0 0 0 0;\n",
              "      width: 32px;\n",
              "    }\n",
              "\n",
              "    .colab-df-convert:hover {\n",
              "      background-color: #E2EBFA;\n",
              "      box-shadow: 0px 1px 2px rgba(60, 64, 67, 0.3), 0px 1px 3px 1px rgba(60, 64, 67, 0.15);\n",
              "      fill: #174EA6;\n",
              "    }\n",
              "\n",
              "    [theme=dark] .colab-df-convert {\n",
              "      background-color: #3B4455;\n",
              "      fill: #D2E3FC;\n",
              "    }\n",
              "\n",
              "    [theme=dark] .colab-df-convert:hover {\n",
              "      background-color: #434B5C;\n",
              "      box-shadow: 0px 1px 3px 1px rgba(0, 0, 0, 0.15);\n",
              "      filter: drop-shadow(0px 1px 2px rgba(0, 0, 0, 0.3));\n",
              "      fill: #FFFFFF;\n",
              "    }\n",
              "  </style>\n",
              "\n",
              "      <script>\n",
              "        const buttonEl =\n",
              "          document.querySelector('#df-a84a65c4-36d7-4ff0-8e97-9b5c7f7613b8 button.colab-df-convert');\n",
              "        buttonEl.style.display =\n",
              "          google.colab.kernel.accessAllowed ? 'block' : 'none';\n",
              "\n",
              "        async function convertToInteractive(key) {\n",
              "          const element = document.querySelector('#df-a84a65c4-36d7-4ff0-8e97-9b5c7f7613b8');\n",
              "          const dataTable =\n",
              "            await google.colab.kernel.invokeFunction('convertToInteractive',\n",
              "                                                     [key], {});\n",
              "          if (!dataTable) return;\n",
              "\n",
              "          const docLinkHtml = 'Like what you see? Visit the ' +\n",
              "            '<a target=\"_blank\" href=https://colab.research.google.com/notebooks/data_table.ipynb>data table notebook</a>'\n",
              "            + ' to learn more about interactive tables.';\n",
              "          element.innerHTML = '';\n",
              "          dataTable['output_type'] = 'display_data';\n",
              "          await google.colab.output.renderOutput(dataTable, element);\n",
              "          const docLink = document.createElement('div');\n",
              "          docLink.innerHTML = docLinkHtml;\n",
              "          element.appendChild(docLink);\n",
              "        }\n",
              "      </script>\n",
              "    </div>\n",
              "  </div>\n",
              "  "
            ]
          },
          "metadata": {},
          "execution_count": 87
        }
      ]
    },
    {
      "cell_type": "code",
      "source": [
        "# from sklearn.preprocessing import StandardScaler\n",
        "\n",
        "# # Assuming house_data is a pandas DataFrame and 'price' is a column in the DataFrame\n",
        "\n",
        "# # Create a StandardScaler object\n",
        "# scaler = StandardScaler()\n",
        "\n",
        "# # Fit the scaler to the 'price' column\n",
        "# scaler.fit(house_data[['price']])\n",
        "\n",
        "# # Transform the 'price' column using the fitted scaler\n",
        "# house_data['price_scaled'] = scaler.transform(house_data[['price']])\n",
        "# house_data['price_scaled']"
      ],
      "metadata": {
        "id": "WWpb-Gj5T1en"
      },
      "execution_count": null,
      "outputs": []
    },
    {
      "cell_type": "markdown",
      "source": [
        "TRAINING"
      ],
      "metadata": {
        "id": "EhZn-QkT9nF2"
      }
    },
    {
      "cell_type": "code",
      "source": [
        "model = XGBRegressor()\n",
        "             \n",
        "model.fit(X_train, y_train)"
      ],
      "metadata": {
        "colab": {
          "base_uri": "https://localhost:8080/",
          "height": 248
        },
        "id": "MQ6FX1-I9o1b",
        "outputId": "0615047f-6a23-403c-8ce6-12c386520c31"
      },
      "execution_count": 88,
      "outputs": [
        {
          "output_type": "execute_result",
          "data": {
            "text/plain": [
              "XGBRegressor(base_score=None, booster=None, callbacks=None,\n",
              "             colsample_bylevel=None, colsample_bynode=None,\n",
              "             colsample_bytree=None, early_stopping_rounds=None,\n",
              "             enable_categorical=False, eval_metric=None, feature_types=None,\n",
              "             gamma=None, gpu_id=None, grow_policy=None, importance_type=None,\n",
              "             interaction_constraints=None, learning_rate=None, max_bin=None,\n",
              "             max_cat_threshold=None, max_cat_to_onehot=None,\n",
              "             max_delta_step=None, max_depth=None, max_leaves=None,\n",
              "             min_child_weight=None, missing=nan, monotone_constraints=None,\n",
              "             n_estimators=100, n_jobs=None, num_parallel_tree=None,\n",
              "             predictor=None, random_state=None, ...)"
            ],
            "text/html": [
              "<style>#sk-container-id-9 {color: black;background-color: white;}#sk-container-id-9 pre{padding: 0;}#sk-container-id-9 div.sk-toggleable {background-color: white;}#sk-container-id-9 label.sk-toggleable__label {cursor: pointer;display: block;width: 100%;margin-bottom: 0;padding: 0.3em;box-sizing: border-box;text-align: center;}#sk-container-id-9 label.sk-toggleable__label-arrow:before {content: \"▸\";float: left;margin-right: 0.25em;color: #696969;}#sk-container-id-9 label.sk-toggleable__label-arrow:hover:before {color: black;}#sk-container-id-9 div.sk-estimator:hover label.sk-toggleable__label-arrow:before {color: black;}#sk-container-id-9 div.sk-toggleable__content {max-height: 0;max-width: 0;overflow: hidden;text-align: left;background-color: #f0f8ff;}#sk-container-id-9 div.sk-toggleable__content pre {margin: 0.2em;color: black;border-radius: 0.25em;background-color: #f0f8ff;}#sk-container-id-9 input.sk-toggleable__control:checked~div.sk-toggleable__content {max-height: 200px;max-width: 100%;overflow: auto;}#sk-container-id-9 input.sk-toggleable__control:checked~label.sk-toggleable__label-arrow:before {content: \"▾\";}#sk-container-id-9 div.sk-estimator input.sk-toggleable__control:checked~label.sk-toggleable__label {background-color: #d4ebff;}#sk-container-id-9 div.sk-label input.sk-toggleable__control:checked~label.sk-toggleable__label {background-color: #d4ebff;}#sk-container-id-9 input.sk-hidden--visually {border: 0;clip: rect(1px 1px 1px 1px);clip: rect(1px, 1px, 1px, 1px);height: 1px;margin: -1px;overflow: hidden;padding: 0;position: absolute;width: 1px;}#sk-container-id-9 div.sk-estimator {font-family: monospace;background-color: #f0f8ff;border: 1px dotted black;border-radius: 0.25em;box-sizing: border-box;margin-bottom: 0.5em;}#sk-container-id-9 div.sk-estimator:hover {background-color: #d4ebff;}#sk-container-id-9 div.sk-parallel-item::after {content: \"\";width: 100%;border-bottom: 1px solid gray;flex-grow: 1;}#sk-container-id-9 div.sk-label:hover label.sk-toggleable__label {background-color: #d4ebff;}#sk-container-id-9 div.sk-serial::before {content: \"\";position: absolute;border-left: 1px solid gray;box-sizing: border-box;top: 0;bottom: 0;left: 50%;z-index: 0;}#sk-container-id-9 div.sk-serial {display: flex;flex-direction: column;align-items: center;background-color: white;padding-right: 0.2em;padding-left: 0.2em;position: relative;}#sk-container-id-9 div.sk-item {position: relative;z-index: 1;}#sk-container-id-9 div.sk-parallel {display: flex;align-items: stretch;justify-content: center;background-color: white;position: relative;}#sk-container-id-9 div.sk-item::before, #sk-container-id-9 div.sk-parallel-item::before {content: \"\";position: absolute;border-left: 1px solid gray;box-sizing: border-box;top: 0;bottom: 0;left: 50%;z-index: -1;}#sk-container-id-9 div.sk-parallel-item {display: flex;flex-direction: column;z-index: 1;position: relative;background-color: white;}#sk-container-id-9 div.sk-parallel-item:first-child::after {align-self: flex-end;width: 50%;}#sk-container-id-9 div.sk-parallel-item:last-child::after {align-self: flex-start;width: 50%;}#sk-container-id-9 div.sk-parallel-item:only-child::after {width: 0;}#sk-container-id-9 div.sk-dashed-wrapped {border: 1px dashed gray;margin: 0 0.4em 0.5em 0.4em;box-sizing: border-box;padding-bottom: 0.4em;background-color: white;}#sk-container-id-9 div.sk-label label {font-family: monospace;font-weight: bold;display: inline-block;line-height: 1.2em;}#sk-container-id-9 div.sk-label-container {text-align: center;}#sk-container-id-9 div.sk-container {/* jupyter's `normalize.less` sets `[hidden] { display: none; }` but bootstrap.min.css set `[hidden] { display: none !important; }` so we also need the `!important` here to be able to override the default hidden behavior on the sphinx rendered scikit-learn.org. See: https://github.com/scikit-learn/scikit-learn/issues/21755 */display: inline-block !important;position: relative;}#sk-container-id-9 div.sk-text-repr-fallback {display: none;}</style><div id=\"sk-container-id-9\" class=\"sk-top-container\"><div class=\"sk-text-repr-fallback\"><pre>XGBRegressor(base_score=None, booster=None, callbacks=None,\n",
              "             colsample_bylevel=None, colsample_bynode=None,\n",
              "             colsample_bytree=None, early_stopping_rounds=None,\n",
              "             enable_categorical=False, eval_metric=None, feature_types=None,\n",
              "             gamma=None, gpu_id=None, grow_policy=None, importance_type=None,\n",
              "             interaction_constraints=None, learning_rate=None, max_bin=None,\n",
              "             max_cat_threshold=None, max_cat_to_onehot=None,\n",
              "             max_delta_step=None, max_depth=None, max_leaves=None,\n",
              "             min_child_weight=None, missing=nan, monotone_constraints=None,\n",
              "             n_estimators=100, n_jobs=None, num_parallel_tree=None,\n",
              "             predictor=None, random_state=None, ...)</pre><b>In a Jupyter environment, please rerun this cell to show the HTML representation or trust the notebook. <br />On GitHub, the HTML representation is unable to render, please try loading this page with nbviewer.org.</b></div><div class=\"sk-container\" hidden><div class=\"sk-item\"><div class=\"sk-estimator sk-toggleable\"><input class=\"sk-toggleable__control sk-hidden--visually\" id=\"sk-estimator-id-9\" type=\"checkbox\" checked><label for=\"sk-estimator-id-9\" class=\"sk-toggleable__label sk-toggleable__label-arrow\">XGBRegressor</label><div class=\"sk-toggleable__content\"><pre>XGBRegressor(base_score=None, booster=None, callbacks=None,\n",
              "             colsample_bylevel=None, colsample_bynode=None,\n",
              "             colsample_bytree=None, early_stopping_rounds=None,\n",
              "             enable_categorical=False, eval_metric=None, feature_types=None,\n",
              "             gamma=None, gpu_id=None, grow_policy=None, importance_type=None,\n",
              "             interaction_constraints=None, learning_rate=None, max_bin=None,\n",
              "             max_cat_threshold=None, max_cat_to_onehot=None,\n",
              "             max_delta_step=None, max_depth=None, max_leaves=None,\n",
              "             min_child_weight=None, missing=nan, monotone_constraints=None,\n",
              "             n_estimators=100, n_jobs=None, num_parallel_tree=None,\n",
              "             predictor=None, random_state=None, ...)</pre></div></div></div></div></div>"
            ]
          },
          "metadata": {},
          "execution_count": 88
        }
      ]
    },
    {
      "cell_type": "markdown",
      "source": [
        "PREDICTIONS"
      ],
      "metadata": {
        "id": "e5nJiSIt94Ea"
      }
    },
    {
      "cell_type": "code",
      "source": [
        "predictions = model.predict(X_test)\n",
        "predictions"
      ],
      "metadata": {
        "colab": {
          "base_uri": "https://localhost:8080/"
        },
        "id": "7LHaNgOZ95JG",
        "outputId": "18e3ea88-4b2c-425b-943a-3bfa90e45d51"
      },
      "execution_count": 89,
      "outputs": [
        {
          "output_type": "execute_result",
          "data": {
            "text/plain": [
              "array([723629.1 , 450964.47, 417803.53, ..., 392257.9 , 499058.44,\n",
              "       557258.25], dtype=float32)"
            ]
          },
          "metadata": {},
          "execution_count": 89
        }
      ]
    },
    {
      "cell_type": "markdown",
      "source": [
        "RESULTS"
      ],
      "metadata": {
        "id": "HhxGRakX9_jl"
      }
    },
    {
      "cell_type": "code",
      "source": [
        "from sklearn.metrics import mean_squared_error\n",
        "# holdout_mini = pd.read_csv(\"https://raw.githubusercontent.com/byui-cse/cse450-course/master/data/housing_holdout_test_mini.csv\")\n",
        "\n",
        "\n",
        "result = mean_squared_error(y_test, predictions, squared=False)\n",
        "result # Not good."
      ],
      "metadata": {
        "colab": {
          "base_uri": "https://localhost:8080/"
        },
        "id": "S74fsGfA-ArO",
        "outputId": "a9ea7e20-d6aa-42a3-c56c-abfe4d354720"
      },
      "execution_count": 90,
      "outputs": [
        {
          "output_type": "execute_result",
          "data": {
            "text/plain": [
              "211013.23812023952"
            ]
          },
          "metadata": {},
          "execution_count": 90
        }
      ]
    },
    {
      "cell_type": "code",
      "source": [
        "# # Assuming scaler is the StandardScaler used for scaling the 'price' feature\n",
        "# predictions_inverse = scaler.inverse_transform(predictions.reshape(-1, 1))\n",
        "\n",
        "# # Calculate the MSE in the original scale\n",
        "# result = mean_squared_error(y_test, predictions_inverse, squared=False)\n",
        "# result"
      ],
      "metadata": {
        "id": "IVZ4tm4pUbu2"
      },
      "execution_count": null,
      "outputs": []
    }
  ]
}