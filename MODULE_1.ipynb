{
  "nbformat": 4,
  "nbformat_minor": 0,
  "metadata": {
    "colab": {
      "provenance": [],
      "include_colab_link": true
    },
    "kernelspec": {
      "name": "python3",
      "display_name": "Python 3"
    },
    "language_info": {
      "name": "python"
    }
  },
  "cells": [
    {
      "cell_type": "markdown",
      "metadata": {
        "id": "view-in-github",
        "colab_type": "text"
      },
      "source": [
        "<a href=\"https://colab.research.google.com/github/joehawkens/MachineLearning/blob/main/MODULE_1.ipynb\" target=\"_parent\"><img src=\"https://colab.research.google.com/assets/colab-badge.svg\" alt=\"Open In Colab\"/></a>"
      ]
    },
    {
      "cell_type": "markdown",
      "source": [
        "# MODULE 1"
      ],
      "metadata": {
        "id": "5Aqaj2qbzMP5"
      }
    },
    {
      "cell_type": "markdown",
      "source": [
        "## Libraries"
      ],
      "metadata": {
        "id": "L0DJ2wPT1YJD"
      }
    },
    {
      "cell_type": "code",
      "execution_count": null,
      "metadata": {
        "id": "BFpmiH52zJa_"
      },
      "outputs": [],
      "source": [
        "import pandas as pd\n",
        "import seaborn as sns"
      ]
    },
    {
      "cell_type": "markdown",
      "source": [
        "## Important Data Attributes\n",
        "- Education: Categorical\n",
        "- Marital Status: Categorical\n",
        "- Job: Categorical\n",
        "- Loan: Categorical (Yes, No, Unk)\n",
        "- House: Categorical (Yes, No, Unknown)"
      ],
      "metadata": {
        "id": "EDB1a1WKzw0G"
      }
    },
    {
      "cell_type": "markdown",
      "source": [
        "## Normalize:\n",
        "- Turn all categorical values into numerical?"
      ],
      "metadata": {
        "id": "Z_kTFfcw1KxN"
      }
    },
    {
      "cell_type": "code",
      "source": [],
      "metadata": {
        "id": "cpOyj5671cA-"
      },
      "execution_count": null,
      "outputs": []
    }
  ]
}