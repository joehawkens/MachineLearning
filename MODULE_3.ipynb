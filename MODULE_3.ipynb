{
  "nbformat": 4,
  "nbformat_minor": 0,
  "metadata": {
    "colab": {
      "provenance": [],
      "authorship_tag": "ABX9TyOq6bFoikaB2vCBlE1oi9nA",
      "include_colab_link": true
    },
    "kernelspec": {
      "name": "python3",
      "display_name": "Python 3"
    },
    "language_info": {
      "name": "python"
    }
  },
  "cells": [
    {
      "cell_type": "markdown",
      "metadata": {
        "id": "view-in-github",
        "colab_type": "text"
      },
      "source": [
        "<a href=\"https://colab.research.google.com/github/joehawkens/MachineLearning/blob/main/MODULE_3.ipynb\" target=\"_parent\"><img src=\"https://colab.research.google.com/assets/colab-badge.svg\" alt=\"Open In Colab\"/></a>"
      ]
    },
    {
      "cell_type": "markdown",
      "source": [
        "#**MODULE 3**"
      ],
      "metadata": {
        "id": "qvVua7sOVTUB"
      }
    },
    {
      "cell_type": "markdown",
      "source": [
        "# **Module Resources**"
      ],
      "metadata": {
        "id": "pvl5NcO2oUrH"
      }
    },
    {
      "cell_type": "markdown",
      "source": [
        "**Problem:** Regression <n>\n",
        "\n",
        "**Target:** Home Price\n",
        "\n",
        "- Module Overview: https://byui-cse.github.io/cse450-course/module-03/\n",
        "- Data Dictionary: https://byui-cse.github.io/cse450-course/module-03/housing-dictionary.txt\n",
        "- Dataset: https://raw.githubusercontent.com/byui-cse/cse450-course/master/data/housing.csv\n",
        "- Holdout Dataset: https://raw.githubusercontent.com/byui-cse/cse450-course/master/data/housing_holdout_test.csv\n",
        "- Holdout Mini Dataset: https://raw.githubusercontent.com/byui-cse/cse450-course/master/data/housing_holdout_test_mini.csv\n",
        "- Module Hints: https://byui-cse.github.io/cse450-course/module-03/hints.html\n"
      ],
      "metadata": {
        "id": "_ubPNV3rQ3GB"
      }
    },
    {
      "cell_type": "markdown",
      "source": [
        "# **Data Normalization and Cleaning**\n",
        "- Are there outliers that will skew the data?\n",
        "- Is there any misssing data?"
      ],
      "metadata": {
        "id": "JjKdNjQGkjRM"
      }
    },
    {
      "cell_type": "code",
      "source": [
        "import pandas as pd\n",
        "import altair as alt\n",
        "house_data = pd.read_csv(\"https://raw.githubusercontent.com/byui-cse/cse450-course/master/data/housing.csv\")\n",
        "\n",
        "# Finding missing values\n",
        "# Check if the DataFrame contains any missing data:\n",
        "if house_data.isnull().any().any():\n",
        "    print('The DataFrame contains missing data')\n",
        "else:\n",
        "    print('The DataFrame does not contain missing data')\n",
        "\n",
        "\n",
        "# Features I think won't be useful:\n",
        "\n",
        "# lat - Latitude - We already havea  zip code.\n",
        "# long - Longitude - We already have a zip code.\n",
        "# id - Unique ID for each home sold - This is a database key, it has nothing to do with the home price.\n",
        "\n",
        "# All the features I think have potential:\n",
        "\n",
        "# date - Date of the home sale\n",
        "# price - Price of each home sold\n",
        "# bedrooms - Number of bedrooms\n",
        "# bathrooms - Number of bathrooms, where .5 accounts for a room with a toilet but no shower\n",
        "# sqft_living - Square footage of the apartments interior living space\n",
        "# sqft_lot - Square footage of the land space\n",
        "# floors - Number of floors\n",
        "# waterfront - A dummy variable for whether the apartment was overlooking the waterfront or not\n",
        "# view - An index from 0 to 4 of how good the view of the property was\n",
        "# condition - An index from 1 to 5 on the condition of the apartment,\n",
        "# grade - An index from 1 to 13, where 1-3 falls short of building construction and design, 7 has an average level of construction and design, and 11-13 have a high quality level of construction and design.\n",
        "# sqft_above - The square footage of the interior housing space that is above ground level\n",
        "# sqft_basement - The square footage of the interior housing space that is below ground level\n",
        "# yr_built - The year the house was initially built\n",
        "# yr_renovated - The year of the house’s last renovation\n",
        "# zipcode - What zipcode area the house was listed in\n",
        "# sqft_living15 - The square footage of interior housing living space for the nearest 15 neighbors\n",
        "# sqft_lot15 - The square footage of the land lots of the nearest 15 neighbors\n",
        "\n",
        "\n",
        "\n",
        "house_data['price'].describe()"
      ],
      "metadata": {
        "colab": {
          "base_uri": "https://localhost:8080/"
        },
        "id": "2g6IX6LiS3OZ",
        "outputId": "3a057cb9-1c4d-4fde-db9a-409e5af89754"
      },
      "execution_count": 27,
      "outputs": [
        {
          "output_type": "stream",
          "name": "stdout",
          "text": [
            "The DataFrame does not contain missing data\n"
          ]
        },
        {
          "output_type": "execute_result",
          "data": {
            "text/plain": [
              "count    2.000000e+04\n",
              "mean     5.394367e+05\n",
              "std      3.664334e+05\n",
              "min      7.500000e+04\n",
              "25%      3.220000e+05\n",
              "50%      4.500000e+05\n",
              "75%      6.416250e+05\n",
              "max      7.700000e+06\n",
              "Name: price, dtype: float64"
            ]
          },
          "metadata": {},
          "execution_count": 27
        }
      ]
    },
    {
      "cell_type": "markdown",
      "source": [
        "# **Data Exploration**"
      ],
      "metadata": {
        "id": "AQM0-nB8SKEu"
      }
    },
    {
      "cell_type": "code",
      "source": [
        "feature_data = house_data[['date', 'price', 'bedrooms', 'bathrooms', 'sqft_living', 'sqft_lot', 'floors', 'waterfront', 'view', 'condition', 'grade', 'sqft_above', 'sqft_basement', 'yr_built', 'yr_renovated', 'zipcode', 'sqft_living15', 'sqft_lot15']]\n",
        "\n",
        "# Calculate the correlation matrix\n",
        "correlation_matrix = feature_data.corr()\n",
        "\n",
        "# Reset the index to convert the correlation matrix into a dataframe\n",
        "correlation_df = correlation_matrix.reset_index()\n",
        "\n",
        "# Melt the dataframe to convert it into long format for heatmap visualization\n",
        "melted_df = pd.melt(correlation_df, id_vars='index', value_vars=correlation_df.columns[1:], var_name='feature1', value_name='correlation')\n",
        "\n",
        "# Create the heatmap using Altair\n",
        "heatmap = alt.Chart(melted_df).mark_rect().encode(\n",
        "    x='index:O',\n",
        "    y='feature1:O',\n",
        "    color='correlation:Q'\n",
        ").properties(\n",
        "    width=300,\n",
        "    height=300,\n",
        "    title='Correlation Heatmap'\n",
        ")\n",
        "\n",
        "# Display the heatmap\n",
        "heatmap"
      ],
      "metadata": {
        "id": "IsxEjvBwSP5U",
        "outputId": "d0257949-ed0c-4911-976b-9a3b5864bfd7",
        "colab": {
          "base_uri": "https://localhost:8080/",
          "height": 493
        }
      },
      "execution_count": 31,
      "outputs": [
        {
          "output_type": "stream",
          "name": "stderr",
          "text": [
            "<ipython-input-31-34e7e8fc8bac>:24: FutureWarning: The default value of numeric_only in DataFrame.corr is deprecated. In a future version, it will default to False. Select only valid columns or specify the value of numeric_only to silence this warning.\n",
            "  correlation_matrix = feature_data.corr()\n"
          ]
        },
        {
          "output_type": "execute_result",
          "data": {
            "text/html": [
              "\n",
              "<div id=\"altair-viz-aa71bd98b58147ada57d1b8c2a129b0c\"></div>\n",
              "<script type=\"text/javascript\">\n",
              "  var VEGA_DEBUG = (typeof VEGA_DEBUG == \"undefined\") ? {} : VEGA_DEBUG;\n",
              "  (function(spec, embedOpt){\n",
              "    let outputDiv = document.currentScript.previousElementSibling;\n",
              "    if (outputDiv.id !== \"altair-viz-aa71bd98b58147ada57d1b8c2a129b0c\") {\n",
              "      outputDiv = document.getElementById(\"altair-viz-aa71bd98b58147ada57d1b8c2a129b0c\");\n",
              "    }\n",
              "    const paths = {\n",
              "      \"vega\": \"https://cdn.jsdelivr.net/npm//vega@5?noext\",\n",
              "      \"vega-lib\": \"https://cdn.jsdelivr.net/npm//vega-lib?noext\",\n",
              "      \"vega-lite\": \"https://cdn.jsdelivr.net/npm//vega-lite@4.17.0?noext\",\n",
              "      \"vega-embed\": \"https://cdn.jsdelivr.net/npm//vega-embed@6?noext\",\n",
              "    };\n",
              "\n",
              "    function maybeLoadScript(lib, version) {\n",
              "      var key = `${lib.replace(\"-\", \"\")}_version`;\n",
              "      return (VEGA_DEBUG[key] == version) ?\n",
              "        Promise.resolve(paths[lib]) :\n",
              "        new Promise(function(resolve, reject) {\n",
              "          var s = document.createElement('script');\n",
              "          document.getElementsByTagName(\"head\")[0].appendChild(s);\n",
              "          s.async = true;\n",
              "          s.onload = () => {\n",
              "            VEGA_DEBUG[key] = version;\n",
              "            return resolve(paths[lib]);\n",
              "          };\n",
              "          s.onerror = () => reject(`Error loading script: ${paths[lib]}`);\n",
              "          s.src = paths[lib];\n",
              "        });\n",
              "    }\n",
              "\n",
              "    function showError(err) {\n",
              "      outputDiv.innerHTML = `<div class=\"error\" style=\"color:red;\">${err}</div>`;\n",
              "      throw err;\n",
              "    }\n",
              "\n",
              "    function displayChart(vegaEmbed) {\n",
              "      vegaEmbed(outputDiv, spec, embedOpt)\n",
              "        .catch(err => showError(`Javascript Error: ${err.message}<br>This usually means there's a typo in your chart specification. See the javascript console for the full traceback.`));\n",
              "    }\n",
              "\n",
              "    if(typeof define === \"function\" && define.amd) {\n",
              "      requirejs.config({paths});\n",
              "      require([\"vega-embed\"], displayChart, err => showError(`Error loading script: ${err.message}`));\n",
              "    } else {\n",
              "      maybeLoadScript(\"vega\", \"5\")\n",
              "        .then(() => maybeLoadScript(\"vega-lite\", \"4.17.0\"))\n",
              "        .then(() => maybeLoadScript(\"vega-embed\", \"6\"))\n",
              "        .catch(showError)\n",
              "        .then(() => displayChart(vegaEmbed));\n",
              "    }\n",
              "  })({\"config\": {\"view\": {\"continuousWidth\": 400, \"continuousHeight\": 300}}, \"data\": {\"name\": \"data-5ca302138a10303322b142c25dee35f7\"}, \"mark\": \"rect\", \"encoding\": {\"color\": {\"field\": \"correlation\", \"type\": \"quantitative\"}, \"x\": {\"field\": \"index\", \"type\": \"ordinal\"}, \"y\": {\"field\": \"feature1\", \"type\": \"ordinal\"}}, \"height\": 300, \"title\": \"Correlation Heatmap\", \"width\": 300, \"$schema\": \"https://vega.github.io/schema/vega-lite/v4.17.0.json\", \"datasets\": {\"data-5ca302138a10303322b142c25dee35f7\": [{\"index\": \"price\", \"feature1\": \"price\", \"correlation\": 1.0}, {\"index\": \"bedrooms\", \"feature1\": \"price\", \"correlation\": 0.30728080273643144}, {\"index\": \"bathrooms\", \"feature1\": \"price\", \"correlation\": 0.5279892842302049}, {\"index\": \"sqft_living\", \"feature1\": \"price\", \"correlation\": 0.7039201300634002}, {\"index\": \"sqft_lot\", \"feature1\": \"price\", \"correlation\": 0.09031682279367709}, {\"index\": \"floors\", \"feature1\": \"price\", \"correlation\": 0.25442755392835487}, {\"index\": \"waterfront\", \"feature1\": \"price\", \"correlation\": 0.2601331714677184}, {\"index\": \"view\", \"feature1\": \"price\", \"correlation\": 0.39596134908182784}, {\"index\": \"condition\", \"feature1\": \"price\", \"correlation\": 0.03514563361085728}, {\"index\": \"grade\", \"feature1\": \"price\", \"correlation\": 0.666446963133811}, {\"index\": \"sqft_above\", \"feature1\": \"price\", \"correlation\": 0.6070819260548355}, {\"index\": \"sqft_basement\", \"feature1\": \"price\", \"correlation\": 0.3251834199610012}, {\"index\": \"yr_built\", \"feature1\": \"price\", \"correlation\": 0.054187181026364266}, {\"index\": \"yr_renovated\", \"feature1\": \"price\", \"correlation\": 0.12153392294756661}, {\"index\": \"zipcode\", \"feature1\": \"price\", \"correlation\": -0.055857382785344745}, {\"index\": \"sqft_living15\", \"feature1\": \"price\", \"correlation\": 0.5853738353172262}, {\"index\": \"sqft_lot15\", \"feature1\": \"price\", \"correlation\": 0.08241318652305446}, {\"index\": \"price\", \"feature1\": \"bedrooms\", \"correlation\": 0.30728080273643144}, {\"index\": \"bedrooms\", \"feature1\": \"bedrooms\", \"correlation\": 1.0}, {\"index\": \"bathrooms\", \"feature1\": \"bedrooms\", \"correlation\": 0.5153082371019316}, {\"index\": \"sqft_living\", \"feature1\": \"bedrooms\", \"correlation\": 0.5758362869702991}, {\"index\": \"sqft_lot\", \"feature1\": \"bedrooms\", \"correlation\": 0.0287752631214662}, {\"index\": \"floors\", \"feature1\": \"bedrooms\", \"correlation\": 0.17553796399181162}, {\"index\": \"waterfront\", \"feature1\": \"bedrooms\", \"correlation\": -0.009855346493327668}, {\"index\": \"view\", \"feature1\": \"bedrooms\", \"correlation\": 0.075328465672862}, {\"index\": \"condition\", \"feature1\": \"bedrooms\", \"correlation\": 0.029842524540610673}, {\"index\": \"grade\", \"feature1\": \"bedrooms\", \"correlation\": 0.35592418791259556}, {\"index\": \"sqft_above\", \"feature1\": \"bedrooms\", \"correlation\": 0.47741414195332843}, {\"index\": \"sqft_basement\", \"feature1\": \"bedrooms\", \"correlation\": 0.30209616913343185}, {\"index\": \"yr_built\", \"feature1\": \"bedrooms\", \"correlation\": 0.15323847845381716}, {\"index\": \"yr_renovated\", \"feature1\": \"bedrooms\", \"correlation\": 0.017523909699178122}, {\"index\": \"zipcode\", \"feature1\": \"bedrooms\", \"correlation\": -0.15281236609390134}, {\"index\": \"sqft_living15\", \"feature1\": \"bedrooms\", \"correlation\": 0.38910703480712283}, {\"index\": \"sqft_lot15\", \"feature1\": \"bedrooms\", \"correlation\": 0.027150324040029462}, {\"index\": \"price\", \"feature1\": \"bathrooms\", \"correlation\": 0.5279892842302049}, {\"index\": \"bedrooms\", \"feature1\": \"bathrooms\", \"correlation\": 0.5153082371019316}, {\"index\": \"bathrooms\", \"feature1\": \"bathrooms\", \"correlation\": 1.0}, {\"index\": \"sqft_living\", \"feature1\": \"bathrooms\", \"correlation\": 0.7550670753054476}, {\"index\": \"sqft_lot\", \"feature1\": \"bathrooms\", \"correlation\": 0.09081539313436005}, {\"index\": \"floors\", \"feature1\": \"bathrooms\", \"correlation\": 0.5022816593930878}, {\"index\": \"waterfront\", \"feature1\": \"bathrooms\", \"correlation\": 0.06170742550614775}, {\"index\": \"view\", \"feature1\": \"bathrooms\", \"correlation\": 0.1853830802904299}, {\"index\": \"condition\", \"feature1\": \"bathrooms\", \"correlation\": -0.12568738776856309}, {\"index\": \"grade\", \"feature1\": \"bathrooms\", \"correlation\": 0.6654040737414725}, {\"index\": \"sqft_above\", \"feature1\": \"bathrooms\", \"correlation\": 0.6864923121946884}, {\"index\": \"sqft_basement\", \"feature1\": \"bathrooms\", \"correlation\": 0.28248800545724567}, {\"index\": \"yr_built\", \"feature1\": \"bathrooms\", \"correlation\": 0.5059098229328276}, {\"index\": \"yr_renovated\", \"feature1\": \"bathrooms\", \"correlation\": 0.04874935737343481}, {\"index\": \"zipcode\", \"feature1\": \"bathrooms\", \"correlation\": -0.20607631129539686}, {\"index\": \"sqft_living15\", \"feature1\": \"bathrooms\", \"correlation\": 0.5671613613543066}, {\"index\": \"sqft_lot15\", \"feature1\": \"bathrooms\", \"correlation\": 0.08746135884935641}, {\"index\": \"price\", \"feature1\": \"sqft_living\", \"correlation\": 0.7039201300634002}, {\"index\": \"bedrooms\", \"feature1\": \"sqft_living\", \"correlation\": 0.5758362869702991}, {\"index\": \"bathrooms\", \"feature1\": \"sqft_living\", \"correlation\": 0.7550670753054476}, {\"index\": \"sqft_living\", \"feature1\": \"sqft_living\", \"correlation\": 1.0}, {\"index\": \"sqft_lot\", \"feature1\": \"sqft_living\", \"correlation\": 0.17914946457128778}, {\"index\": \"floors\", \"feature1\": \"sqft_living\", \"correlation\": 0.352297561073939}, {\"index\": \"waterfront\", \"feature1\": \"sqft_living\", \"correlation\": 0.09966477119021855}, {\"index\": \"view\", \"feature1\": \"sqft_living\", \"correlation\": 0.28108994571857504}, {\"index\": \"condition\", \"feature1\": \"sqft_living\", \"correlation\": -0.058205453047211995}, {\"index\": \"grade\", \"feature1\": \"sqft_living\", \"correlation\": 0.7627983666949407}, {\"index\": \"sqft_above\", \"feature1\": \"sqft_living\", \"correlation\": 0.8774942623921237}, {\"index\": \"sqft_basement\", \"feature1\": \"sqft_living\", \"correlation\": 0.4336572469473041}, {\"index\": \"yr_built\", \"feature1\": \"sqft_living\", \"correlation\": 0.3173533202371212}, {\"index\": \"yr_renovated\", \"feature1\": \"sqft_living\", \"correlation\": 0.05208369675510941}, {\"index\": \"zipcode\", \"feature1\": \"sqft_living\", \"correlation\": -0.20315206540814254}, {\"index\": \"sqft_living15\", \"feature1\": \"sqft_living\", \"correlation\": 0.75515412617356}, {\"index\": \"sqft_lot15\", \"feature1\": \"sqft_living\", \"correlation\": 0.18409794193967438}, {\"index\": \"price\", \"feature1\": \"sqft_lot\", \"correlation\": 0.09031682279367709}, {\"index\": \"bedrooms\", \"feature1\": \"sqft_lot\", \"correlation\": 0.0287752631214662}, {\"index\": \"bathrooms\", \"feature1\": \"sqft_lot\", \"correlation\": 0.09081539313436005}, {\"index\": \"sqft_living\", \"feature1\": \"sqft_lot\", \"correlation\": 0.17914946457128778}, {\"index\": \"sqft_lot\", \"feature1\": \"sqft_lot\", \"correlation\": 1.0}, {\"index\": \"floors\", \"feature1\": \"sqft_lot\", \"correlation\": -0.005131279823344785}, {\"index\": \"waterfront\", \"feature1\": \"sqft_lot\", \"correlation\": 0.023271436580556717}, {\"index\": \"view\", \"feature1\": \"sqft_lot\", \"correlation\": 0.06431321345697992}, {\"index\": \"condition\", \"feature1\": \"sqft_lot\", \"correlation\": -0.011743234493810534}, {\"index\": \"grade\", \"feature1\": \"sqft_lot\", \"correlation\": 0.11749960082775758}, {\"index\": \"sqft_above\", \"feature1\": \"sqft_lot\", \"correlation\": 0.1892688977956339}, {\"index\": \"sqft_basement\", \"feature1\": \"sqft_lot\", \"correlation\": 0.01744137557417451}, {\"index\": \"yr_built\", \"feature1\": \"sqft_lot\", \"correlation\": 0.05732391326310236}, {\"index\": \"yr_renovated\", \"feature1\": \"sqft_lot\", \"correlation\": 0.009703843934535309}, {\"index\": \"zipcode\", \"feature1\": \"sqft_lot\", \"correlation\": -0.1335967384675715}, {\"index\": \"sqft_living15\", \"feature1\": \"sqft_lot\", \"correlation\": 0.14749954188651793}, {\"index\": \"sqft_lot15\", \"feature1\": \"sqft_lot\", \"correlation\": 0.7298228944582326}, {\"index\": \"price\", \"feature1\": \"floors\", \"correlation\": 0.25442755392835487}, {\"index\": \"bedrooms\", \"feature1\": \"floors\", \"correlation\": 0.17553796399181162}, {\"index\": \"bathrooms\", \"feature1\": \"floors\", \"correlation\": 0.5022816593930878}, {\"index\": \"sqft_living\", \"feature1\": \"floors\", \"correlation\": 0.352297561073939}, {\"index\": \"sqft_lot\", \"feature1\": \"floors\", \"correlation\": -0.005131279823344785}, {\"index\": \"floors\", \"feature1\": \"floors\", \"correlation\": 1.0}, {\"index\": \"waterfront\", \"feature1\": \"floors\", \"correlation\": 0.019793064572625297}, {\"index\": \"view\", \"feature1\": \"floors\", \"correlation\": 0.02795556013713268}, {\"index\": \"condition\", \"feature1\": \"floors\", \"correlation\": -0.26570874390648397}, {\"index\": \"grade\", \"feature1\": \"floors\", \"correlation\": 0.4585363160588638}, {\"index\": \"sqft_above\", \"feature1\": \"floors\", \"correlation\": 0.5211549944620861}, {\"index\": \"sqft_basement\", \"feature1\": \"floors\", \"correlation\": -0.24557217820781618}, {\"index\": \"yr_built\", \"feature1\": \"floors\", \"correlation\": 0.4916084611298537}, {\"index\": \"yr_renovated\", \"feature1\": \"floors\", \"correlation\": 0.0046863997806858146}, {\"index\": \"zipcode\", \"feature1\": \"floors\", \"correlation\": -0.05870218387641998}, {\"index\": \"sqft_living15\", \"feature1\": \"floors\", \"correlation\": 0.2772319874663306}, {\"index\": \"sqft_lot15\", \"feature1\": \"floors\", \"correlation\": -0.012007095301497175}, {\"index\": \"price\", \"feature1\": \"waterfront\", \"correlation\": 0.2601331714677184}, {\"index\": \"bedrooms\", \"feature1\": \"waterfront\", \"correlation\": -0.009855346493327668}, {\"index\": \"bathrooms\", \"feature1\": \"waterfront\", \"correlation\": 0.06170742550614775}, {\"index\": \"sqft_living\", \"feature1\": \"waterfront\", \"correlation\": 0.09966477119021855}, {\"index\": \"sqft_lot\", \"feature1\": \"waterfront\", \"correlation\": 0.023271436580556717}, {\"index\": \"floors\", \"feature1\": \"waterfront\", \"correlation\": 0.019793064572625297}, {\"index\": \"waterfront\", \"feature1\": \"waterfront\", \"correlation\": 1.0}, {\"index\": \"view\", \"feature1\": \"waterfront\", \"correlation\": 0.4006914240786347}, {\"index\": \"condition\", \"feature1\": \"waterfront\", \"correlation\": 0.016069417262339444}, {\"index\": \"grade\", \"feature1\": \"waterfront\", \"correlation\": 0.0784837011628361}, {\"index\": \"sqft_above\", \"feature1\": \"waterfront\", \"correlation\": 0.06715092918463274}, {\"index\": \"sqft_basement\", \"feature1\": \"waterfront\", \"correlation\": 0.08136938927859633}, {\"index\": \"yr_built\", \"feature1\": \"waterfront\", \"correlation\": -0.0273561689441061}, {\"index\": \"yr_renovated\", \"feature1\": \"waterfront\", \"correlation\": 0.08576187446454898}, {\"index\": \"zipcode\", \"feature1\": \"waterfront\", \"correlation\": 0.026911101511010487}, {\"index\": \"sqft_living15\", \"feature1\": \"waterfront\", \"correlation\": 0.08281689133434168}, {\"index\": \"sqft_lot15\", \"feature1\": \"waterfront\", \"correlation\": 0.03233051640590799}, {\"index\": \"price\", \"feature1\": \"view\", \"correlation\": 0.39596134908182784}, {\"index\": \"bedrooms\", \"feature1\": \"view\", \"correlation\": 0.075328465672862}, {\"index\": \"bathrooms\", \"feature1\": \"view\", \"correlation\": 0.1853830802904299}, {\"index\": \"sqft_living\", \"feature1\": \"view\", \"correlation\": 0.28108994571857504}, {\"index\": \"sqft_lot\", \"feature1\": \"view\", \"correlation\": 0.06431321345697992}, {\"index\": \"floors\", \"feature1\": \"view\", \"correlation\": 0.02795556013713268}, {\"index\": \"waterfront\", \"feature1\": \"view\", \"correlation\": 0.4006914240786347}, {\"index\": \"view\", \"feature1\": \"view\", \"correlation\": 1.0}, {\"index\": \"condition\", \"feature1\": \"view\", \"correlation\": 0.04798169641076163}, {\"index\": \"grade\", \"feature1\": \"view\", \"correlation\": 0.24789721144327498}, {\"index\": \"sqft_above\", \"feature1\": \"view\", \"correlation\": 0.16462508074174037}, {\"index\": \"sqft_basement\", \"feature1\": \"view\", \"correlation\": 0.2760192183978796}, {\"index\": \"yr_built\", \"feature1\": \"view\", \"correlation\": -0.055730684622533236}, {\"index\": \"yr_renovated\", \"feature1\": \"view\", \"correlation\": 0.09922876141882442}, {\"index\": \"zipcode\", \"feature1\": \"view\", \"correlation\": 0.08535872532152496}, {\"index\": \"sqft_living15\", \"feature1\": \"view\", \"correlation\": 0.27962670127174477}, {\"index\": \"sqft_lot15\", \"feature1\": \"view\", \"correlation\": 0.06811298386396492}, {\"index\": \"price\", \"feature1\": \"condition\", \"correlation\": 0.03514563361085728}, {\"index\": \"bedrooms\", \"feature1\": \"condition\", \"correlation\": 0.029842524540610673}, {\"index\": \"bathrooms\", \"feature1\": \"condition\", \"correlation\": -0.12568738776856309}, {\"index\": \"sqft_living\", \"feature1\": \"condition\", \"correlation\": -0.058205453047211995}, {\"index\": \"sqft_lot\", \"feature1\": \"condition\", \"correlation\": -0.011743234493810534}, {\"index\": \"floors\", \"feature1\": \"condition\", \"correlation\": -0.26570874390648397}, {\"index\": \"waterfront\", \"feature1\": \"condition\", \"correlation\": 0.016069417262339444}, {\"index\": \"view\", \"feature1\": \"condition\", \"correlation\": 0.04798169641076163}, {\"index\": \"condition\", \"feature1\": \"condition\", \"correlation\": 1.0}, {\"index\": \"grade\", \"feature1\": \"condition\", \"correlation\": -0.14535436345766736}, {\"index\": \"sqft_above\", \"feature1\": \"condition\", \"correlation\": -0.15791928795933996}, {\"index\": \"sqft_basement\", \"feature1\": \"condition\", \"correlation\": 0.17550451746495946}, {\"index\": \"yr_built\", \"feature1\": \"condition\", \"correlation\": -0.361241327345791}, {\"index\": \"yr_renovated\", \"feature1\": \"condition\", \"correlation\": -0.06188052478083381}, {\"index\": \"zipcode\", \"feature1\": \"condition\", \"correlation\": 0.006209537950651778}, {\"index\": \"sqft_living15\", \"feature1\": \"condition\", \"correlation\": -0.0940665479974141}, {\"index\": \"sqft_lot15\", \"feature1\": \"condition\", \"correlation\": -0.0033588829027616602}, {\"index\": \"price\", \"feature1\": \"grade\", \"correlation\": 0.666446963133811}, {\"index\": \"bedrooms\", \"feature1\": \"grade\", \"correlation\": 0.35592418791259556}, {\"index\": \"bathrooms\", \"feature1\": \"grade\", \"correlation\": 0.6654040737414725}, {\"index\": \"sqft_living\", \"feature1\": \"grade\", \"correlation\": 0.7627983666949407}, {\"index\": \"sqft_lot\", \"feature1\": \"grade\", \"correlation\": 0.11749960082775758}, {\"index\": \"floors\", \"feature1\": \"grade\", \"correlation\": 0.4585363160588638}, {\"index\": \"waterfront\", \"feature1\": \"grade\", \"correlation\": 0.0784837011628361}, {\"index\": \"view\", \"feature1\": \"grade\", \"correlation\": 0.24789721144327498}, {\"index\": \"condition\", \"feature1\": \"grade\", \"correlation\": -0.14535436345766736}, {\"index\": \"grade\", \"feature1\": \"grade\", \"correlation\": 1.0}, {\"index\": \"sqft_above\", \"feature1\": \"grade\", \"correlation\": 0.7566873588650312}, {\"index\": \"sqft_basement\", \"feature1\": \"grade\", \"correlation\": 0.16670045593490465}, {\"index\": \"yr_built\", \"feature1\": \"grade\", \"correlation\": 0.44819983553724235}, {\"index\": \"yr_renovated\", \"feature1\": \"grade\", \"correlation\": 0.010600110976935395}, {\"index\": \"zipcode\", \"feature1\": \"grade\", \"correlation\": -0.18776274982078237}, {\"index\": \"sqft_living15\", \"feature1\": \"grade\", \"correlation\": 0.7125243371689225}, {\"index\": \"sqft_lot15\", \"feature1\": \"grade\", \"correlation\": 0.11981190997353916}, {\"index\": \"price\", \"feature1\": \"sqft_above\", \"correlation\": 0.6070819260548355}, {\"index\": \"bedrooms\", \"feature1\": \"sqft_above\", \"correlation\": 0.47741414195332843}, {\"index\": \"bathrooms\", \"feature1\": \"sqft_above\", \"correlation\": 0.6864923121946884}, {\"index\": \"sqft_living\", \"feature1\": \"sqft_above\", \"correlation\": 0.8774942623921237}, {\"index\": \"sqft_lot\", \"feature1\": \"sqft_above\", \"correlation\": 0.1892688977956339}, {\"index\": \"floors\", \"feature1\": \"sqft_above\", \"correlation\": 0.5211549944620861}, {\"index\": \"waterfront\", \"feature1\": \"sqft_above\", \"correlation\": 0.06715092918463274}, {\"index\": \"view\", \"feature1\": \"sqft_above\", \"correlation\": 0.16462508074174037}, {\"index\": \"condition\", \"feature1\": \"sqft_above\", \"correlation\": -0.15791928795933996}, {\"index\": \"grade\", \"feature1\": \"sqft_above\", \"correlation\": 0.7566873588650312}, {\"index\": \"sqft_above\", \"feature1\": \"sqft_above\", \"correlation\": 1.0}, {\"index\": \"sqft_basement\", \"feature1\": \"sqft_above\", \"correlation\": -0.051613624620303805}, {\"index\": \"yr_built\", \"feature1\": \"sqft_above\", \"correlation\": 0.4235019359370334}, {\"index\": \"yr_renovated\", \"feature1\": \"sqft_above\", \"correlation\": 0.02017795920183385}, {\"index\": \"zipcode\", \"feature1\": \"sqft_above\", \"correlation\": -0.26456707859814577}, {\"index\": \"sqft_living15\", \"feature1\": \"sqft_above\", \"correlation\": 0.7318172725125432}, {\"index\": \"sqft_lot15\", \"feature1\": \"sqft_above\", \"correlation\": 0.19396214364774955}, {\"index\": \"price\", \"feature1\": \"sqft_basement\", \"correlation\": 0.3251834199610012}, {\"index\": \"bedrooms\", \"feature1\": \"sqft_basement\", \"correlation\": 0.30209616913343185}, {\"index\": \"bathrooms\", \"feature1\": \"sqft_basement\", \"correlation\": 0.28248800545724567}, {\"index\": \"sqft_living\", \"feature1\": \"sqft_basement\", \"correlation\": 0.4336572469473041}, {\"index\": \"sqft_lot\", \"feature1\": \"sqft_basement\", \"correlation\": 0.01744137557417451}, {\"index\": \"floors\", \"feature1\": \"sqft_basement\", \"correlation\": -0.24557217820781618}, {\"index\": \"waterfront\", \"feature1\": \"sqft_basement\", \"correlation\": 0.08136938927859633}, {\"index\": \"view\", \"feature1\": \"sqft_basement\", \"correlation\": 0.2760192183978796}, {\"index\": \"condition\", \"feature1\": \"sqft_basement\", \"correlation\": 0.17550451746495946}, {\"index\": \"grade\", \"feature1\": \"sqft_basement\", \"correlation\": 0.16670045593490465}, {\"index\": \"sqft_above\", \"feature1\": \"sqft_basement\", \"correlation\": -0.051613624620303805}, {\"index\": \"sqft_basement\", \"feature1\": \"sqft_basement\", \"correlation\": 1.0}, {\"index\": \"yr_built\", \"feature1\": \"sqft_basement\", \"correlation\": -0.13486164200306935}, {\"index\": \"yr_renovated\", \"feature1\": \"sqft_basement\", \"correlation\": 0.0705447670308422}, {\"index\": \"zipcode\", \"feature1\": \"sqft_basement\", \"correlation\": 0.07405173476782788}, {\"index\": \"sqft_living15\", \"feature1\": \"sqft_basement\", \"correlation\": 0.19750994295867716}, {\"index\": \"sqft_lot15\", \"feature1\": \"sqft_basement\", \"correlation\": 0.018927865702653056}, {\"index\": \"price\", \"feature1\": \"yr_built\", \"correlation\": 0.054187181026364266}, {\"index\": \"bedrooms\", \"feature1\": \"yr_built\", \"correlation\": 0.15323847845381716}, {\"index\": \"bathrooms\", \"feature1\": \"yr_built\", \"correlation\": 0.5059098229328276}, {\"index\": \"sqft_living\", \"feature1\": \"yr_built\", \"correlation\": 0.3173533202371212}, {\"index\": \"sqft_lot\", \"feature1\": \"yr_built\", \"correlation\": 0.05732391326310236}, {\"index\": \"floors\", \"feature1\": \"yr_built\", \"correlation\": 0.4916084611298537}, {\"index\": \"waterfront\", \"feature1\": \"yr_built\", \"correlation\": -0.0273561689441061}, {\"index\": \"view\", \"feature1\": \"yr_built\", \"correlation\": -0.055730684622533236}, {\"index\": \"condition\", \"feature1\": \"yr_built\", \"correlation\": -0.361241327345791}, {\"index\": \"grade\", \"feature1\": \"yr_built\", \"correlation\": 0.44819983553724235}, {\"index\": \"sqft_above\", \"feature1\": \"yr_built\", \"correlation\": 0.4235019359370334}, {\"index\": \"sqft_basement\", \"feature1\": \"yr_built\", \"correlation\": -0.13486164200306935}, {\"index\": \"yr_built\", \"feature1\": \"yr_built\", \"correlation\": 1.0}, {\"index\": \"yr_renovated\", \"feature1\": \"yr_built\", \"correlation\": -0.22376649447499672}, {\"index\": \"zipcode\", \"feature1\": \"yr_built\", \"correlation\": -0.3463055968779073}, {\"index\": \"sqft_living15\", \"feature1\": \"yr_built\", \"correlation\": 0.32633830852587514}, {\"index\": \"sqft_lot15\", \"feature1\": \"yr_built\", \"correlation\": 0.07120793415836538}, {\"index\": \"price\", \"feature1\": \"yr_renovated\", \"correlation\": 0.12153392294756661}, {\"index\": \"bedrooms\", \"feature1\": \"yr_renovated\", \"correlation\": 0.017523909699178122}, {\"index\": \"bathrooms\", \"feature1\": \"yr_renovated\", \"correlation\": 0.04874935737343481}, {\"index\": \"sqft_living\", \"feature1\": \"yr_renovated\", \"correlation\": 0.05208369675510941}, {\"index\": \"sqft_lot\", \"feature1\": \"yr_renovated\", \"correlation\": 0.009703843934535309}, {\"index\": \"floors\", \"feature1\": \"yr_renovated\", \"correlation\": 0.0046863997806858146}, {\"index\": \"waterfront\", \"feature1\": \"yr_renovated\", \"correlation\": 0.08576187446454898}, {\"index\": \"view\", \"feature1\": \"yr_renovated\", \"correlation\": 0.09922876141882442}, {\"index\": \"condition\", \"feature1\": \"yr_renovated\", \"correlation\": -0.06188052478083381}, {\"index\": \"grade\", \"feature1\": \"yr_renovated\", \"correlation\": 0.010600110976935395}, {\"index\": \"sqft_above\", \"feature1\": \"yr_renovated\", \"correlation\": 0.02017795920183385}, {\"index\": \"sqft_basement\", \"feature1\": \"yr_renovated\", \"correlation\": 0.0705447670308422}, {\"index\": \"yr_built\", \"feature1\": \"yr_renovated\", \"correlation\": -0.22376649447499672}, {\"index\": \"yr_renovated\", \"feature1\": \"yr_renovated\", \"correlation\": 1.0}, {\"index\": \"zipcode\", \"feature1\": \"yr_renovated\", \"correlation\": 0.05987354120314094}, {\"index\": \"sqft_living15\", \"feature1\": \"yr_renovated\", \"correlation\": -0.005072952137397911}, {\"index\": \"sqft_lot15\", \"feature1\": \"yr_renovated\", \"correlation\": 0.010079277701932551}, {\"index\": \"price\", \"feature1\": \"zipcode\", \"correlation\": -0.055857382785344745}, {\"index\": \"bedrooms\", \"feature1\": \"zipcode\", \"correlation\": -0.15281236609390134}, {\"index\": \"bathrooms\", \"feature1\": \"zipcode\", \"correlation\": -0.20607631129539686}, {\"index\": \"sqft_living\", \"feature1\": \"zipcode\", \"correlation\": -0.20315206540814254}, {\"index\": \"sqft_lot\", \"feature1\": \"zipcode\", \"correlation\": -0.1335967384675715}, {\"index\": \"floors\", \"feature1\": \"zipcode\", \"correlation\": -0.05870218387641998}, {\"index\": \"waterfront\", \"feature1\": \"zipcode\", \"correlation\": 0.026911101511010487}, {\"index\": \"view\", \"feature1\": \"zipcode\", \"correlation\": 0.08535872532152496}, {\"index\": \"condition\", \"feature1\": \"zipcode\", \"correlation\": 0.006209537950651778}, {\"index\": \"grade\", \"feature1\": \"zipcode\", \"correlation\": -0.18776274982078237}, {\"index\": \"sqft_above\", \"feature1\": \"zipcode\", \"correlation\": -0.26456707859814577}, {\"index\": \"sqft_basement\", \"feature1\": \"zipcode\", \"correlation\": 0.07405173476782788}, {\"index\": \"yr_built\", \"feature1\": \"zipcode\", \"correlation\": -0.3463055968779073}, {\"index\": \"yr_renovated\", \"feature1\": \"zipcode\", \"correlation\": 0.05987354120314094}, {\"index\": \"zipcode\", \"feature1\": \"zipcode\", \"correlation\": 1.0}, {\"index\": \"sqft_living15\", \"feature1\": \"zipcode\", \"correlation\": -0.2819668392486487}, {\"index\": \"sqft_lot15\", \"feature1\": \"zipcode\", \"correlation\": -0.14674791953192962}, {\"index\": \"price\", \"feature1\": \"sqft_living15\", \"correlation\": 0.5853738353172262}, {\"index\": \"bedrooms\", \"feature1\": \"sqft_living15\", \"correlation\": 0.38910703480712283}, {\"index\": \"bathrooms\", \"feature1\": \"sqft_living15\", \"correlation\": 0.5671613613543066}, {\"index\": \"sqft_living\", \"feature1\": \"sqft_living15\", \"correlation\": 0.75515412617356}, {\"index\": \"sqft_lot\", \"feature1\": \"sqft_living15\", \"correlation\": 0.14749954188651793}, {\"index\": \"floors\", \"feature1\": \"sqft_living15\", \"correlation\": 0.2772319874663306}, {\"index\": \"waterfront\", \"feature1\": \"sqft_living15\", \"correlation\": 0.08281689133434168}, {\"index\": \"view\", \"feature1\": \"sqft_living15\", \"correlation\": 0.27962670127174477}, {\"index\": \"condition\", \"feature1\": \"sqft_living15\", \"correlation\": -0.0940665479974141}, {\"index\": \"grade\", \"feature1\": \"sqft_living15\", \"correlation\": 0.7125243371689225}, {\"index\": \"sqft_above\", \"feature1\": \"sqft_living15\", \"correlation\": 0.7318172725125432}, {\"index\": \"sqft_basement\", \"feature1\": \"sqft_living15\", \"correlation\": 0.19750994295867716}, {\"index\": \"yr_built\", \"feature1\": \"sqft_living15\", \"correlation\": 0.32633830852587514}, {\"index\": \"yr_renovated\", \"feature1\": \"sqft_living15\", \"correlation\": -0.005072952137397911}, {\"index\": \"zipcode\", \"feature1\": \"sqft_living15\", \"correlation\": -0.2819668392486487}, {\"index\": \"sqft_living15\", \"feature1\": \"sqft_living15\", \"correlation\": 1.0}, {\"index\": \"sqft_lot15\", \"feature1\": \"sqft_living15\", \"correlation\": 0.18458781166536023}, {\"index\": \"price\", \"feature1\": \"sqft_lot15\", \"correlation\": 0.08241318652305446}, {\"index\": \"bedrooms\", \"feature1\": \"sqft_lot15\", \"correlation\": 0.027150324040029462}, {\"index\": \"bathrooms\", \"feature1\": \"sqft_lot15\", \"correlation\": 0.08746135884935641}, {\"index\": \"sqft_living\", \"feature1\": \"sqft_lot15\", \"correlation\": 0.18409794193967438}, {\"index\": \"sqft_lot\", \"feature1\": \"sqft_lot15\", \"correlation\": 0.7298228944582326}, {\"index\": \"floors\", \"feature1\": \"sqft_lot15\", \"correlation\": -0.012007095301497175}, {\"index\": \"waterfront\", \"feature1\": \"sqft_lot15\", \"correlation\": 0.03233051640590799}, {\"index\": \"view\", \"feature1\": \"sqft_lot15\", \"correlation\": 0.06811298386396492}, {\"index\": \"condition\", \"feature1\": \"sqft_lot15\", \"correlation\": -0.0033588829027616602}, {\"index\": \"grade\", \"feature1\": \"sqft_lot15\", \"correlation\": 0.11981190997353916}, {\"index\": \"sqft_above\", \"feature1\": \"sqft_lot15\", \"correlation\": 0.19396214364774955}, {\"index\": \"sqft_basement\", \"feature1\": \"sqft_lot15\", \"correlation\": 0.018927865702653056}, {\"index\": \"yr_built\", \"feature1\": \"sqft_lot15\", \"correlation\": 0.07120793415836538}, {\"index\": \"yr_renovated\", \"feature1\": \"sqft_lot15\", \"correlation\": 0.010079277701932551}, {\"index\": \"zipcode\", \"feature1\": \"sqft_lot15\", \"correlation\": -0.14674791953192962}, {\"index\": \"sqft_living15\", \"feature1\": \"sqft_lot15\", \"correlation\": 0.18458781166536023}, {\"index\": \"sqft_lot15\", \"feature1\": \"sqft_lot15\", \"correlation\": 1.0}]}}, {\"mode\": \"vega-lite\"});\n",
              "</script>"
            ],
            "text/plain": [
              "alt.Chart(...)"
            ]
          },
          "metadata": {},
          "execution_count": 31
        }
      ]
    },
    {
      "cell_type": "code",
      "source": [
        "# Calculate the correlation between each feature and price\n",
        "feature_data = house_data[['date', 'price', 'bedrooms', 'bathrooms', 'sqft_living', 'sqft_lot', 'floors', 'waterfront', 'view', 'condition', 'grade', 'sqft_above', 'sqft_basement', 'yr_built', 'yr_renovated', 'zipcode', 'sqft_living15', 'sqft_lot15']]\n",
        "correlation_with_price = feature_data.corr()['price'].drop('price')\n",
        "correlation_df = correlation_with_price.reset_index().rename(columns={'index': 'feature', 'price': 'correlation'})\n",
        "\n",
        "# Creae heatmap in altair:\n",
        "heatmap = alt.Chart(correlation_df).mark_rect().encode(\n",
        "    x='feature:O',\n",
        "    y=alt.Y('correlation:O', axis=alt.Axis(format='0.2f')),\n",
        "    color='correlation:Q'\n",
        ").properties(\n",
        "    width=400,\n",
        "    height=300,\n",
        "    title='Correlation with Price Heatmap'\n",
        ")\n",
        "\n",
        "\n",
        "# 1 = high positive correlation, 0 = no correlation\n",
        "heatmap"
      ],
      "metadata": {
        "id": "9H8eefzbmz-n",
        "outputId": "06cfd80e-ec7e-4399-805c-0d2884a2ad64",
        "colab": {
          "base_uri": "https://localhost:8080/",
          "height": 493
        }
      },
      "execution_count": 32,
      "outputs": [
        {
          "output_type": "stream",
          "name": "stderr",
          "text": [
            "<ipython-input-32-886e4295cfb5>:3: FutureWarning: The default value of numeric_only in DataFrame.corr is deprecated. In a future version, it will default to False. Select only valid columns or specify the value of numeric_only to silence this warning.\n",
            "  correlation_with_price = feature_data.corr()['price'].drop('price')\n"
          ]
        },
        {
          "output_type": "execute_result",
          "data": {
            "text/html": [
              "\n",
              "<div id=\"altair-viz-0243f34dcc27446e86fe2591498670a0\"></div>\n",
              "<script type=\"text/javascript\">\n",
              "  var VEGA_DEBUG = (typeof VEGA_DEBUG == \"undefined\") ? {} : VEGA_DEBUG;\n",
              "  (function(spec, embedOpt){\n",
              "    let outputDiv = document.currentScript.previousElementSibling;\n",
              "    if (outputDiv.id !== \"altair-viz-0243f34dcc27446e86fe2591498670a0\") {\n",
              "      outputDiv = document.getElementById(\"altair-viz-0243f34dcc27446e86fe2591498670a0\");\n",
              "    }\n",
              "    const paths = {\n",
              "      \"vega\": \"https://cdn.jsdelivr.net/npm//vega@5?noext\",\n",
              "      \"vega-lib\": \"https://cdn.jsdelivr.net/npm//vega-lib?noext\",\n",
              "      \"vega-lite\": \"https://cdn.jsdelivr.net/npm//vega-lite@4.17.0?noext\",\n",
              "      \"vega-embed\": \"https://cdn.jsdelivr.net/npm//vega-embed@6?noext\",\n",
              "    };\n",
              "\n",
              "    function maybeLoadScript(lib, version) {\n",
              "      var key = `${lib.replace(\"-\", \"\")}_version`;\n",
              "      return (VEGA_DEBUG[key] == version) ?\n",
              "        Promise.resolve(paths[lib]) :\n",
              "        new Promise(function(resolve, reject) {\n",
              "          var s = document.createElement('script');\n",
              "          document.getElementsByTagName(\"head\")[0].appendChild(s);\n",
              "          s.async = true;\n",
              "          s.onload = () => {\n",
              "            VEGA_DEBUG[key] = version;\n",
              "            return resolve(paths[lib]);\n",
              "          };\n",
              "          s.onerror = () => reject(`Error loading script: ${paths[lib]}`);\n",
              "          s.src = paths[lib];\n",
              "        });\n",
              "    }\n",
              "\n",
              "    function showError(err) {\n",
              "      outputDiv.innerHTML = `<div class=\"error\" style=\"color:red;\">${err}</div>`;\n",
              "      throw err;\n",
              "    }\n",
              "\n",
              "    function displayChart(vegaEmbed) {\n",
              "      vegaEmbed(outputDiv, spec, embedOpt)\n",
              "        .catch(err => showError(`Javascript Error: ${err.message}<br>This usually means there's a typo in your chart specification. See the javascript console for the full traceback.`));\n",
              "    }\n",
              "\n",
              "    if(typeof define === \"function\" && define.amd) {\n",
              "      requirejs.config({paths});\n",
              "      require([\"vega-embed\"], displayChart, err => showError(`Error loading script: ${err.message}`));\n",
              "    } else {\n",
              "      maybeLoadScript(\"vega\", \"5\")\n",
              "        .then(() => maybeLoadScript(\"vega-lite\", \"4.17.0\"))\n",
              "        .then(() => maybeLoadScript(\"vega-embed\", \"6\"))\n",
              "        .catch(showError)\n",
              "        .then(() => displayChart(vegaEmbed));\n",
              "    }\n",
              "  })({\"config\": {\"view\": {\"continuousWidth\": 400, \"continuousHeight\": 300}}, \"data\": {\"name\": \"data-1ca0ecef230ec6f6dc07be4a3db41e64\"}, \"mark\": \"rect\", \"encoding\": {\"color\": {\"field\": \"correlation\", \"type\": \"quantitative\"}, \"x\": {\"field\": \"feature\", \"type\": \"ordinal\"}, \"y\": {\"axis\": {\"format\": \"0.2f\"}, \"field\": \"correlation\", \"type\": \"ordinal\"}}, \"height\": 300, \"title\": \"Correlation with Price Heatmap\", \"width\": 400, \"$schema\": \"https://vega.github.io/schema/vega-lite/v4.17.0.json\", \"datasets\": {\"data-1ca0ecef230ec6f6dc07be4a3db41e64\": [{\"feature\": \"bedrooms\", \"correlation\": 0.30728080273643144}, {\"feature\": \"bathrooms\", \"correlation\": 0.5279892842302049}, {\"feature\": \"sqft_living\", \"correlation\": 0.7039201300634002}, {\"feature\": \"sqft_lot\", \"correlation\": 0.09031682279367709}, {\"feature\": \"floors\", \"correlation\": 0.25442755392835487}, {\"feature\": \"waterfront\", \"correlation\": 0.2601331714677184}, {\"feature\": \"view\", \"correlation\": 0.39596134908182784}, {\"feature\": \"condition\", \"correlation\": 0.03514563361085728}, {\"feature\": \"grade\", \"correlation\": 0.666446963133811}, {\"feature\": \"sqft_above\", \"correlation\": 0.6070819260548355}, {\"feature\": \"sqft_basement\", \"correlation\": 0.3251834199610012}, {\"feature\": \"yr_built\", \"correlation\": 0.054187181026364266}, {\"feature\": \"yr_renovated\", \"correlation\": 0.12153392294756661}, {\"feature\": \"zipcode\", \"correlation\": -0.055857382785344745}, {\"feature\": \"sqft_living15\", \"correlation\": 0.5853738353172262}, {\"feature\": \"sqft_lot15\", \"correlation\": 0.08241318652305446}]}}, {\"mode\": \"vega-lite\"});\n",
              "</script>"
            ],
            "text/plain": [
              "alt.Chart(...)"
            ]
          },
          "metadata": {},
          "execution_count": 32
        }
      ]
    },
    {
      "cell_type": "markdown",
      "source": [
        "# **Feature Selection**\n",
        "- We need a metric to determine which features are most useful in determining home price."
      ],
      "metadata": {
        "id": "KnrN-sBynKAV"
      }
    },
    {
      "cell_type": "markdown",
      "source": [
        "# **XGBoost Model**"
      ],
      "metadata": {
        "id": "w2Wpz6YMmdcl"
      }
    }
  ]
}