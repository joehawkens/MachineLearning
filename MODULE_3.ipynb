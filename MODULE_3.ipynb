{
  "nbformat": 4,
  "nbformat_minor": 0,
  "metadata": {
    "colab": {
      "provenance": [],
      "authorship_tag": "ABX9TyPXYgqLn7M63W7Q2uFqXX7M",
      "include_colab_link": true
    },
    "kernelspec": {
      "name": "python3",
      "display_name": "Python 3"
    },
    "language_info": {
      "name": "python"
    }
  },
  "cells": [
    {
      "cell_type": "markdown",
      "metadata": {
        "id": "view-in-github",
        "colab_type": "text"
      },
      "source": [
        "<a href=\"https://colab.research.google.com/github/joehawkens/MachineLearning/blob/main/MODULE_3.ipynb\" target=\"_parent\"><img src=\"https://colab.research.google.com/assets/colab-badge.svg\" alt=\"Open In Colab\"/></a>"
      ]
    },
    {
      "cell_type": "markdown",
      "source": [
        "# MODULE 3"
      ],
      "metadata": {
        "id": "qvVua7sOVTUB"
      }
    },
    {
      "cell_type": "markdown",
      "source": [
        "Module Overview: https://byui-cse.github.io/cse450-course/module-03/\n",
        "\n",
        "**Problem:** Regression <n>\n",
        "\n",
        "**Target:**"
      ],
      "metadata": {
        "id": "_ubPNV3rQ3GB"
      }
    },
    {
      "cell_type": "markdown",
      "source": [
        "# Steps\n",
        "1. Clean the data.\n",
        "2. Find correlation.\n",
        "3. Create a feature quality metric to determine features to use.\n",
        "\n",
        "\n",
        "Use the same min-max scaler (sklearn) in the holdout data set and training data.\n",
        "\n",
        "\n",
        "# Colab Notebooks with Hints for the module: <n>\n",
        "\n",
        "https://byui-cse.github.io/cse450-course/module-03/hints.html\n"
      ],
      "metadata": {
        "id": "PBNCtIRGSKpU"
      }
    }
  ]
}