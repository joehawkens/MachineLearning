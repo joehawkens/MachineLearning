{
  "nbformat": 4,
  "nbformat_minor": 0,
  "metadata": {
    "colab": {
      "provenance": [],
      "authorship_tag": "ABX9TyOEkR4efcPO2V+RCoBYTkN9",
      "include_colab_link": true
    },
    "kernelspec": {
      "name": "python3",
      "display_name": "Python 3"
    },
    "language_info": {
      "name": "python"
    }
  },
  "cells": [
    {
      "cell_type": "markdown",
      "metadata": {
        "id": "view-in-github",
        "colab_type": "text"
      },
      "source": [
        "<a href=\"https://colab.research.google.com/github/joehawkens/MachineLearning/blob/main/MODULE_3.ipynb\" target=\"_parent\"><img src=\"https://colab.research.google.com/assets/colab-badge.svg\" alt=\"Open In Colab\"/></a>"
      ]
    },
    {
      "cell_type": "markdown",
      "source": [
        "#**MODULE 3**"
      ],
      "metadata": {
        "id": "qvVua7sOVTUB"
      }
    },
    {
      "cell_type": "markdown",
      "source": [
        "# **Module Resources**"
      ],
      "metadata": {
        "id": "pvl5NcO2oUrH"
      }
    },
    {
      "cell_type": "markdown",
      "source": [
        "**Problem:** Regression <n>\n",
        "\n",
        "**Target:** Home Price\n",
        "\n",
        "- Module Overview: https://byui-cse.github.io/cse450-course/module-03/\n",
        "- Data Dictionary: https://byui-cse.github.io/cse450-course/module-03/housing-dictionary.txt\n",
        "- Dataset: https://raw.githubusercontent.com/byui-cse/cse450-course/master/data/housing.csv\n",
        "- Holdout Dataset: https://raw.githubusercontent.com/byui-cse/cse450-course/master/data/housing_holdout_test.csv\n",
        "- Holdout Mini Dataset: https://raw.githubusercontent.com/byui-cse/cse450-course/master/data/housing_holdout_test_mini.csv\n",
        "- Module Hints: https://byui-cse.github.io/cse450-course/module-03/hints.html\n"
      ],
      "metadata": {
        "id": "_ubPNV3rQ3GB"
      }
    },
    {
      "cell_type": "markdown",
      "source": [
        "# **Data Normalization and Cleaning**\n",
        "- Are there outliers that will skew the data?\n",
        "- Is there any misssing data?"
      ],
      "metadata": {
        "id": "JjKdNjQGkjRM"
      }
    },
    {
      "cell_type": "code",
      "source": [
        "import pandas as pd\n",
        "house_data = pd.read_csv(\"https://raw.githubusercontent.com/byui-cse/cse450-course/master/data/housing.csv\")\n",
        "\n",
        "# Finding missing values\n",
        "# Check if the DataFrame contains any missing data:\n",
        "if house_data.isnull().any().any():\n",
        "    print('The DataFrame contains missing data')\n",
        "else:\n",
        "    print('The DataFrame does not contain missing data')\n",
        "\n",
        "\n",
        "# Features I think won't be useful:\n",
        "\n",
        "# lat - Latitude - We already havea  zip code.\n",
        "# long - Longitude - We already have a zip code.\n",
        "# id - Unique ID for each home sold - This is a database key, it has nothing to do with the home price.\n",
        "\n",
        "# All the features I think have potential:\n",
        "\n",
        "# date - Date of the home sale\n",
        "# price - Price of each home sold\n",
        "# bedrooms - Number of bedrooms\n",
        "# bathrooms - Number of bathrooms, where .5 accounts for a room with a toilet but no shower\n",
        "# sqft_living - Square footage of the apartments interior living space\n",
        "# sqft_lot - Square footage of the land space\n",
        "# floors - Number of floors\n",
        "# waterfront - A dummy variable for whether the apartment was overlooking the waterfront or not\n",
        "# view - An index from 0 to 4 of how good the view of the property was\n",
        "# condition - An index from 1 to 5 on the condition of the apartment,\n",
        "# grade - An index from 1 to 13, where 1-3 falls short of building construction and design, 7 has an average level of construction and design, and 11-13 have a high quality level of construction and design.\n",
        "# sqft_above - The square footage of the interior housing space that is above ground level\n",
        "# sqft_basement - The square footage of the interior housing space that is below ground level\n",
        "# yr_built - The year the house was initially built\n",
        "# yr_renovated - The year of the house’s last renovation\n",
        "# zipcode - What zipcode area the house was listed in\n",
        "# sqft_living15 - The square footage of interior housing living space for the nearest 15 neighbors\n",
        "# sqft_lot15 - The square footage of the land lots of the nearest 15 neighbors\n",
        "\n",
        "\n",
        "\n"
      ],
      "metadata": {
        "colab": {
          "base_uri": "https://localhost:8080/"
        },
        "id": "2g6IX6LiS3OZ",
        "outputId": "d98eba5a-a38f-4753-e4a8-ebcbd18f7f16"
      },
      "execution_count": 15,
      "outputs": [
        {
          "output_type": "stream",
          "name": "stdout",
          "text": [
            "The DataFrame does not contain missing data\n"
          ]
        }
      ]
    },
    {
      "cell_type": "markdown",
      "source": [
        "# **Data Exploration**"
      ],
      "metadata": {
        "id": "AQM0-nB8SKEu"
      }
    },
    {
      "cell_type": "code",
      "source": [
        "\n",
        "\n"
      ],
      "metadata": {
        "id": "IsxEjvBwSP5U"
      },
      "execution_count": 13,
      "outputs": []
    },
    {
      "cell_type": "markdown",
      "source": [
        "# **Feature Selection**\n",
        "- We need a metric to determine which features are most useful in determining home price."
      ],
      "metadata": {
        "id": "KnrN-sBynKAV"
      }
    }
  ]
}