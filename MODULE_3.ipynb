{
  "nbformat": 4,
  "nbformat_minor": 0,
  "metadata": {
    "colab": {
      "provenance": [],
      "authorship_tag": "ABX9TyO65cP5u7sv/obQy5qyUB22",
      "include_colab_link": true
    },
    "kernelspec": {
      "name": "python3",
      "display_name": "Python 3"
    },
    "language_info": {
      "name": "python"
    }
  },
  "cells": [
    {
      "cell_type": "markdown",
      "metadata": {
        "id": "view-in-github",
        "colab_type": "text"
      },
      "source": [
        "<a href=\"https://colab.research.google.com/github/joehawkens/MachineLearning/blob/main/MODULE_3.ipynb\" target=\"_parent\"><img src=\"https://colab.research.google.com/assets/colab-badge.svg\" alt=\"Open In Colab\"/></a>"
      ]
    },
    {
      "cell_type": "markdown",
      "source": [
        "#**MODULE 3**"
      ],
      "metadata": {
        "id": "qvVua7sOVTUB"
      }
    },
    {
      "cell_type": "markdown",
      "source": [
        "# **Module Resources**"
      ],
      "metadata": {
        "id": "pvl5NcO2oUrH"
      }
    },
    {
      "cell_type": "markdown",
      "source": [
        "**Problem:** Regression <n>\n",
        "\n",
        "**Target:** Home Price\n",
        "\n",
        "- Module Overview: https://byui-cse.github.io/cse450-course/module-03/\n",
        "- Data Dictionary: https://byui-cse.github.io/cse450-course/module-03/housing-dictionary.txt\n",
        "- Dataset: https://raw.githubusercontent.com/byui-cse/cse450-course/master/data/housing.csv\n",
        "- Holdout Dataset: https://raw.githubusercontent.com/byui-cse/cse450-course/master/data/housing_holdout_test.csv\n",
        "- Holdout Mini Dataset: https://raw.githubusercontent.com/byui-cse/cse450-course/master/data/housing_holdout_test_mini.csv\n",
        "- Module Hints: https://byui-cse.github.io/cse450-course/module-03/hints.html\n"
      ],
      "metadata": {
        "id": "_ubPNV3rQ3GB"
      }
    },
    {
      "cell_type": "markdown",
      "source": [
        "# **Data Normalization and Cleaning**\n",
        "- Are there outliers that will skew the data?\n",
        "- Is there any misssing data?\n",
        "- "
      ],
      "metadata": {
        "id": "JjKdNjQGkjRM"
      }
    },
    {
      "cell_type": "markdown",
      "source": [
        "# **Data Exploration**"
      ],
      "metadata": {
        "id": "AQM0-nB8SKEu"
      }
    },
    {
      "cell_type": "code",
      "source": [
        "import pandas as pd\n",
        "house_data = pd.read_csv(\"https://raw.githubusercontent.com/byui-cse/cse450-course/master/data/housing.csv\")\n",
        "#house_data\n",
        "\n"
      ],
      "metadata": {
        "id": "IsxEjvBwSP5U"
      },
      "execution_count": 10,
      "outputs": []
    },
    {
      "cell_type": "code",
      "source": [
        "# Finding missing values\n",
        "# Check if the DataFrame contains any missing data:\n",
        "if house_data.isnull().any().any():\n",
        "    print('The DataFrame contains missing data')\n",
        "else:\n",
        "    print('The DataFrame does not contain missing data')"
      ],
      "metadata": {
        "id": "2g6IX6LiS3OZ",
        "outputId": "9d695b34-daa4-4d62-c2dc-eea8f201b09e",
        "colab": {
          "base_uri": "https://localhost:8080/"
        }
      },
      "execution_count": 9,
      "outputs": [
        {
          "output_type": "stream",
          "name": "stdout",
          "text": [
            "The DataFrame does not contain missing data\n"
          ]
        }
      ]
    },
    {
      "cell_type": "markdown",
      "source": [
        "# **Feature Selection**\n",
        "- We need a metric to determine which features are most useful in determining home price."
      ],
      "metadata": {
        "id": "KnrN-sBynKAV"
      }
    }
  ]
}